{
 "cells": [
  {
   "cell_type": "code",
   "execution_count": 1,
   "metadata": {},
   "outputs": [
    {
     "name": "stdout",
     "output_type": "stream",
     "text": [
      "/home/sheik_dawood/Workspace/compoundGAN\n"
     ]
    }
   ],
   "source": [
    "%cd .."
   ]
  },
  {
   "cell_type": "code",
   "execution_count": 2,
   "metadata": {},
   "outputs": [],
   "source": [
    "import torch\n",
    "import networkx as nx\n",
    "from rdkit import Chem\n",
    "\n",
    "from data.zinc import mol2graph, Library\n",
    "\n",
    "from models.encoder import Encoder\n",
    "from models.generator import Generator\n",
    "\n",
    "from matplotlib import pyplot as plt\n",
    "%matplotlib inline"
   ]
  },
  {
   "cell_type": "code",
   "execution_count": 3,
   "metadata": {},
   "outputs": [],
   "source": [
    "state_dict = torch.load('/storage/sheik_dawood/Experiments/compoundGAN/compound-gan-4b4b151e64fc42bba40a808dc5ab74bf/model_1.weights')"
   ]
  },
  {
   "cell_type": "code",
   "execution_count": 15,
   "metadata": {},
   "outputs": [],
   "source": [
    "enc = Encoder(59, 13, 256)\n",
    "enc = enc.cuda()\n",
    "enc.load_state_dict(state_dict['enc_state_dict'])\n",
    "enc = enc.eval()\n",
    "\n",
    "gen = Generator(256, [44, 7, 3, 3, 2], [5, 2, 2, 4])\n",
    "gen = gen.cuda()\n",
    "gen.load_state_dict(state_dict['gen_state_dict'])\n",
    "gen = gen.eval()"
   ]
  },
  {
   "cell_type": "code",
   "execution_count": 29,
   "metadata": {},
   "outputs": [],
   "source": [
    "smiles = 'C1=CC=CC=C1'\n",
    "smiles = 'C'\n",
    "#smiles = 'CCOc1ccc(OCC)c([C@H]2C(C#N)=C(N)N(c3ccccc3C(F)(F)F)C3=C2C(=O)CCC3)c1'\n",
    "mol = Chem.MolFromSmiles(smiles)\n",
    "G, atom_feats, bond_feats = mol2graph(mol)"
   ]
  },
  {
   "cell_type": "code",
   "execution_count": 30,
   "metadata": {},
   "outputs": [
    {
     "name": "stdout",
     "output_type": "stream",
     "text": [
      "[ 2.66626644e+00  2.52527595e+00  2.18058109e+00 -2.91135192e+00\n",
      "  2.33203077e+00 -3.83731771e+00  3.20259404e+00  2.30792356e+00\n",
      " -2.15235686e+00  2.31993236e-02 -1.25894213e+00 -2.49840952e-02\n",
      "  1.51957917e+00  3.70045519e+00 -3.40808779e-01 -1.69535175e-01\n",
      " -1.06404208e-01  4.24374914e+00 -1.16790259e+00 -9.07069221e-02\n",
      "  4.98436242e-01  1.22746266e-02 -1.39894724e+00 -2.07910919e+00\n",
      "  7.17206299e-01  7.71020055e-02  4.01212788e+00  1.41409135e+00\n",
      "  7.67775118e-01  2.75860476e+00  2.07487926e-01 -1.59516847e+00\n",
      " -3.13718891e+00 -5.33593476e-01  1.50904155e+00  6.69399798e-01\n",
      " -3.72556783e-03  2.25053406e+00  6.07070290e-02  3.44817564e-02\n",
      " -2.06377077e+00  4.05852906e-02  2.22788191e+00  4.03080511e+00\n",
      " -2.94905044e-02  2.07710385e+00  1.79892111e+00 -1.74791479e+00\n",
      "  8.39525983e-02 -2.46402335e+00 -5.02612948e-01  3.06327558e+00\n",
      " -1.00894427e+00  3.38463783e-01 -3.97751617e+00  2.61718106e+00\n",
      "  9.00799036e-02 -2.63028669e+00 -1.01636422e+00  3.01507378e+00\n",
      " -1.11002088e+00 -7.87283957e-01 -1.95019618e-02 -1.68112946e+00\n",
      " -1.66153467e+00 -9.81535077e-01  1.12283647e+00 -2.97805214e+00\n",
      "  2.21418634e-01 -2.33189249e+00 -2.94484901e+00 -2.67025709e-01\n",
      " -2.61088014e+00  1.51361018e-01  1.12989128e+00 -1.71499658e+00\n",
      " -7.89452791e-02 -6.94040298e-01 -9.46495458e-02  2.86936332e-02\n",
      "  9.31527317e-02  1.28238130e+00  1.85176325e+00  4.49117757e-02\n",
      "  1.92532718e+00  2.90965271e+00 -1.22889686e+00  1.29499722e+00\n",
      "  2.87083089e-01  1.41878951e+00 -2.90100884e+00 -1.65792692e+00\n",
      " -3.14460230e+00  1.63337755e+00 -3.75681829e+00 -3.33933091e+00\n",
      " -7.12042272e-01 -2.90042371e-01  1.33746600e+00 -3.35464068e-02\n",
      "  1.69439352e+00 -1.16273709e-01  6.84342682e-01  2.91197014e+00\n",
      "  3.35136938e+00 -1.34366977e+00 -1.95451885e-01 -2.03478456e+00\n",
      "  1.21554494e+00  1.91591680e+00  2.24630809e+00  1.15272276e-01\n",
      "  2.18341202e-01 -1.25038788e-01  3.26007056e+00 -3.50775629e-01\n",
      " -2.39135289e+00  3.36682725e+00 -5.57055116e-01  1.17228615e+00\n",
      "  9.19413686e-01  3.35503006e+00  1.88096285e+00  2.61579609e+00\n",
      " -1.52948701e+00 -2.61636406e-01  5.89687787e-02 -5.73986582e-02\n",
      "  2.08094907e+00 -2.75783849e+00  5.07726908e-01 -2.44868994e+00\n",
      "  2.06094790e+00  1.81816781e+00 -1.03438325e-01  1.32034272e-01\n",
      "  1.86819291e+00 -1.42249763e+00 -1.39908242e+00 -1.38867527e-01\n",
      "  2.85612941e+00 -1.74987018e-01 -7.81289697e-01 -6.75475478e-01\n",
      " -1.15093231e+00  1.37603927e+00 -4.04902315e+00 -2.36579515e-02\n",
      "  7.66699985e-02  1.31192937e-01 -1.80071354e-01  1.53163266e+00\n",
      "  3.14546824e+00  2.20475033e-01  1.95809007e-02  2.09784150e+00\n",
      " -2.20844969e-01  8.19349140e-02  1.78922307e+00 -2.80995202e+00\n",
      "  1.52275109e+00 -1.99802935e+00 -3.48147511e-01  7.33715519e-02\n",
      "  2.10236073e+00  1.63388860e+00 -5.28096268e-03  2.96913553e-02\n",
      "  7.78360441e-02 -2.64222217e+00 -3.09114099e+00  3.85966802e+00\n",
      "  1.61461020e+00  2.72941530e-01  2.12976599e+00 -1.05840492e+00\n",
      "  1.33677983e+00  5.75836524e-02  1.64567256e+00  7.80455843e-02\n",
      "  1.38725746e+00 -3.41481757e+00 -3.50042343e+00  2.18448853e+00\n",
      "  5.83239973e-01 -1.17587113e+00  1.81519434e-01 -5.74575998e-02\n",
      "  2.29585037e-01 -7.05246210e-01  1.44495630e+00 -1.26143956e+00\n",
      " -8.83699432e-02  3.51937985e+00 -7.56780943e-03 -1.32381880e+00\n",
      " -2.71854544e+00  2.07521653e+00  1.74328172e+00  2.99633479e+00\n",
      "  1.81202555e+00 -1.64701387e-01 -5.25180399e-01  1.26794904e-01\n",
      " -6.83319330e-01 -1.31140673e+00  2.47704417e-01  1.44724858e+00\n",
      "  1.41763270e+00 -2.69122124e+00 -2.77139807e+00  2.27955952e-01\n",
      " -1.11620140e+00 -2.87880945e+00  2.97874713e+00  2.05031800e+00\n",
      "  2.72950435e+00 -1.46548760e+00  5.54499961e-03 -4.61410105e-01\n",
      "  9.28216875e-01  1.28226256e+00 -2.76202226e+00 -3.22486237e-02\n",
      " -2.09378290e+00  2.46357989e+00 -4.62394619e+00 -5.98811284e-02\n",
      " -4.38393699e-03 -1.64879155e+00 -4.27493779e-03  2.65052772e+00\n",
      " -1.04638115e-01 -1.50551176e+00 -3.78297710e+00  1.03422379e+00\n",
      "  3.79513130e-02  3.06945872e+00 -3.08471107e+00  2.31882644e+00\n",
      "  7.03776360e-01 -2.79991436e+00  9.78099182e-02 -5.22354804e-02\n",
      " -2.89867616e+00  2.06796694e+00 -1.85665584e+00 -2.69265437e+00\n",
      " -2.93466973e+00 -1.92663912e-02  1.20257521e+00  1.22614002e+00\n",
      " -7.14971125e-01  4.22934026e-01 -5.94962180e-01  2.91140151e+00]\n"
     ]
    }
   ],
   "source": [
    "G.to(torch.device('cuda:0'))\n",
    "mu, var = enc(G)\n",
    "z = mu#enc.reparameterize(mu, var)\n",
    "print(z.data.cpu().numpy())"
   ]
  },
  {
   "cell_type": "code",
   "execution_count": 31,
   "metadata": {},
   "outputs": [],
   "source": [
    "node_list, edge_list = gen(z.unsqueeze(0), 100)"
   ]
  },
  {
   "cell_type": "code",
   "execution_count": 32,
   "metadata": {},
   "outputs": [],
   "source": [
    "nodes = []\n",
    "edges = []\n",
    "for i, node in enumerate(node_list):\n",
    "    n = []\n",
    "    n.append(Library.atom_list[node[0][0].data.cpu().numpy()[0]])\n",
    "    n.append(Library.charge_list[node[1][0].data.cpu().numpy()[0]])\n",
    "    n.append(Library.electron_list[node[2][0].data.cpu().numpy()[0]])\n",
    "    try:\n",
    "        n.append(Library.chirality_list[node[3][0].data.cpu().numpy()[0]])\n",
    "    except IndexError:\n",
    "        n.append('')\n",
    "    nodes.append(n[0])\n",
    "    \n",
    "    e = []\n",
    "    _edges = edge_list[i]\n",
    "    for j, edge in enumerate(_edges):\n",
    "        idx = edge[0][0].data.cpu().numpy()[0]\n",
    "        if idx == 0:\n",
    "            continue\n",
    "        e.append((idx, j))\n",
    "        edges.append((j, i))"
   ]
  },
  {
   "cell_type": "code",
   "execution_count": 33,
   "metadata": {},
   "outputs": [
    {
     "data": {
      "image/png": "[encoded data removed]",
      "text/plain": [
       "<Figure size 432x288 with 1 Axes>"
      ]
     },
     "metadata": {},
     "output_type": "display_data"
    }
   ],
   "source": [
    "predicted = nx.Graph()\n",
    "for i, n in enumerate(nodes):\n",
    "    predicted.add_node(i, atom=n)\n",
    "for e in edges:\n",
    "    predicted.add_edge(*e)\n",
    "\n",
    "plt.figure()\n",
    "pos = nx.kamada_kawai_layout(predicted)\n",
    "nx.draw(predicted, pos)\n",
    "node_labels = nx.get_node_attributes(predicted,'atom')\n",
    "nx.draw_networkx_labels(predicted, pos, labels=node_labels)\n",
    "plt.show()"
   ]
  },
  {
   "cell_type": "code",
   "execution_count": null,
   "metadata": {},
   "outputs": [],
   "source": []
  }
 ],
 "metadata": {
  "kernelspec": {
   "display_name": "Python 3",
   "language": "python",
   "name": "python3"
  },
  "language_info": {
   "codemirror_mode": {
    "name": "ipython",
    "version": 3
   },
   "file_extension": ".py",
   "mimetype": "text/x-python",
   "name": "python",
   "nbconvert_exporter": "python",
   "pygments_lexer": "ipython3",
   "version": "3.7.3"
  }
 },
 "nbformat": 4,
 "nbformat_minor": 2
}
