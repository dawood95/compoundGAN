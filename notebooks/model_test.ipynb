{
 "cells": [
  {
   "cell_type": "code",
   "execution_count": 1,
   "metadata": {},
   "outputs": [
    {
     "name": "stdout",
     "output_type": "stream",
     "text": [
      "/home/sheik_dawood/Workspace/compoundGAN\n"
     ]
    }
   ],
   "source": [
    "%cd .."
   ]
  },
  {
   "cell_type": "code",
   "execution_count": 2,
   "metadata": {},
   "outputs": [],
   "source": [
    "import torch\n",
    "import networkx as nx\n",
    "from rdkit import Chem\n",
    "\n",
    "from data.zinc import mol2graph, Library\n",
    "\n",
    "from models.encoder import Encoder\n",
    "from models.generator import Generator\n",
    "\n",
    "from matplotlib import pyplot as plt\n",
    "%matplotlib inline"
   ]
  },
  {
   "cell_type": "code",
   "execution_count": 78,
   "metadata": {},
   "outputs": [],
   "source": [
    "state_dict = torch.load('/storage/sheik_dawood/Experiments/compoundGAN/compound-gan-0e09d1332a8e452b86bf775b097e6aaf/model_2.weights')"
   ]
  },
  {
   "cell_type": "code",
   "execution_count": 79,
   "metadata": {},
   "outputs": [],
   "source": [
    "enc = Encoder(59, 13, 256)\n",
    "enc = enc.cuda()\n",
    "enc.load_state_dict(state_dict['enc_state_dict'])\n",
    "enc = enc.eval()\n",
    "\n",
    "gen = Generator(256, [44, 7, 3, 3, 2], [5, 2, 2, 4])\n",
    "gen = gen.cuda()\n",
    "gen.load_state_dict(state_dict['gen_state_dict'])\n",
    "gen = gen.eval()"
   ]
  },
  {
   "cell_type": "code",
   "execution_count": 80,
   "metadata": {},
   "outputs": [],
   "source": [
    "#smiles = 'C1=CC=CC=C1'\n",
    "smiles = 'C'\n",
    "#smiles = 'CCOc1ccc(OCC)c([C@H]2C(C#N)=C(N)N(c3ccccc3C(F)(F)F)C3=C2C(=O)CCC3)c1'\n",
    "mol = Chem.MolFromSmiles(smiles)\n",
    "G, atom_feats, bond_feats = mol2graph(mol)"
   ]
  },
  {
   "cell_type": "code",
   "execution_count": 88,
   "metadata": {},
   "outputs": [],
   "source": [
    "G.to(torch.device('cuda:0'))\n",
    "mu, var = enc(G)\n",
    "z = enc.reparameterize(mu, var)"
   ]
  },
  {
   "cell_type": "code",
   "execution_count": 89,
   "metadata": {},
   "outputs": [],
   "source": [
    "z = enc.reparameterize(mu, var)\n",
    "node_list, edge_list = gen(z.unsqueeze(0), 100)\n",
    "nodes = []\n",
    "edges = []\n",
    "for i, node in enumerate(node_list):\n",
    "    n = []\n",
    "    n.append(Library.atom_list[node[0][0].data.cpu().numpy()[0]])\n",
    "    n.append(Library.charge_list[node[1][0].data.cpu().numpy()[0]])\n",
    "    n.append(Library.electron_list[node[2][0].data.cpu().numpy()[0]])\n",
    "    try:\n",
    "        n.append(Library.chirality_list[node[3][0].data.cpu().numpy()[0]])\n",
    "    except IndexError:\n",
    "        n.append('')\n",
    "    nodes.append(n[0])\n",
    "    \n",
    "    e = []\n",
    "    _edges = edge_list[i]\n",
    "    for j, edge in enumerate(_edges):\n",
    "        idx = edge[0][0].data.cpu().numpy()[0]\n",
    "        if idx == 0:\n",
    "            continue\n",
    "        e.append((idx, j))\n",
    "        edges.append((j, i))"
   ]
  },
  {
   "cell_type": "code",
   "execution_count": 90,
   "metadata": {},
   "outputs": [
    {
     "data": {
      "image/png": "[encoded data removed]",
      "text/plain": [
       "<Figure size 432x288 with 1 Axes>"
      ]
     },
     "metadata": {},
     "output_type": "display_data"
    }
   ],
   "source": [
    "predicted = nx.Graph()\n",
    "for i, n in enumerate(nodes):\n",
    "    predicted.add_node(i, atom=n)\n",
    "for e in edges:\n",
    "    predicted.add_edge(*e)\n",
    "    \n",
    "for i, n in enumerate(nodes):\n",
    "    if n == 'H':\n",
    "        predicted.remove_node(i)\n",
    "    \n",
    "plt.figure()\n",
    "pos = nx.kamada_kawai_layout(predicted)\n",
    "nx.draw(predicted, pos)\n",
    "node_labels = nx.get_node_attributes(predicted,'atom')\n",
    "nx.draw_networkx_labels(predicted, pos, labels=node_labels)\n",
    "plt.show()"
   ]
  },
  {
   "cell_type": "code",
   "execution_count": null,
   "metadata": {},
   "outputs": [],
   "source": []
  },
  {
   "cell_type": "code",
   "execution_count": null,
   "metadata": {},
   "outputs": [],
   "source": []
  }
 ],
 "metadata": {
  "kernelspec": {
   "display_name": "Python 3",
   "language": "python",
   "name": "python3"
  },
  "language_info": {
   "codemirror_mode": {
    "name": "ipython",
    "version": 3
   },
   "file_extension": ".py",
   "mimetype": "text/x-python",
   "name": "python",
   "nbconvert_exporter": "python",
   "pygments_lexer": "ipython3",
   "version": "3.7.3"
  }
 },
 "nbformat": 4,
 "nbformat_minor": 2
}
