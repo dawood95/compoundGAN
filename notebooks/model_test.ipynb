{
 "cells": [
  {
   "cell_type": "code",
   "execution_count": 1,
   "metadata": {},
   "outputs": [
    {
     "name": "stdout",
     "output_type": "stream",
     "text": [
      "/home/dawood/Workspace/compoundGAN\n"
     ]
    }
   ],
   "source": [
    "%cd .."
   ]
  },
  {
   "cell_type": "code",
   "execution_count": 3,
   "metadata": {},
   "outputs": [],
   "source": [
    "import os\n",
    "import sys\n",
    "\n",
    "import torch\n",
    "import joypy\n",
    "import dgl\n",
    "import random\n",
    "import networkx as nx\n",
    "import numpy as np\n",
    "\n",
    "from tqdm.notebook import tqdm \n",
    "from collections import defaultdict\n",
    "\n",
    "from rdkit import Chem\n",
    "from rdkit import DataStructs\n",
    "from rdkit.Chem import Draw, Descriptors\n",
    "from rdkit.Chem.Fingerprints import FingerprintMols\n",
    "from rdkit.Chem import RDConfig\n",
    "from rdkit.Chem import QED\n",
    "\n",
    "sys.path.append(os.path.join(RDConfig.RDContribDir, 'SA_Score'))\n",
    "import sascorer\n",
    "\n",
    "import selfies\n",
    "from selfies import encoder as selfies_encoder\n",
    "from selfies import decoder as selfies_decoder\n",
    "from data.selfies import SELFIES, SELFIE_VOCAB, SELFIES_STEREO\n",
    "#from data.zinc import ZINC250K\n",
    "\n",
    "from models.network import CVAEF\n",
    "\n",
    "from sklearn.metrics import r2_score\n",
    "from sklearn.manifold import TSNE\n",
    "from matplotlib import pyplot as plt\n",
    "plt.style.use('ggplot')\n",
    "%matplotlib inline\n",
    "\n",
    "DEVICE = torch.device('cuda:0')\n",
    "\n",
    "random.seed(42)"
   ]
  },
  {
   "cell_type": "code",
   "execution_count": 4,
   "metadata": {},
   "outputs": [
    {
     "data": {
      "application/vnd.jupyter.widget-view+json": {
       "model_id": "f978f911cf294cd7b311ab68611571ad",
       "version_major": 2,
       "version_minor": 0
      },
      "text/plain": [
       "HBox(children=(IntProgress(value=0, max=249455), HTML(value='')))"
      ]
     },
     "metadata": {},
     "output_type": "display_data"
    },
    {
     "name": "stdout",
     "output_type": "stream",
     "text": [
      "\n"
     ]
    }
   ],
   "source": [
    "dataset = SELFIES('/home/dawood/Datasets/ZINC250K/data.csv')\n",
    "dataset_smiles = []\n",
    "dataset_logP = []\n",
    "dataset_tpsa = []\n",
    "dataset_qed = []\n",
    "dataset_sas = []\n",
    "\n",
    "for smiles in tqdm(dataset.data):\n",
    "    mol = Chem.MolFromSmiles(smiles)\n",
    "    Chem.Kekulize(mol)\n",
    "    smiles = Chem.CanonSmiles(Chem.MolToSmiles(mol))\n",
    "    dataset_smiles.append(smiles)\n",
    "    \n",
    "    logP = Descriptors.MolLogP(mol)\n",
    "    dataset_logP.append(logP)\n",
    "    \n",
    "    tpsa = Descriptors.TPSA(mol)\n",
    "    dataset_tpsa.append(tpsa / 10.0)\n",
    "    \n",
    "    sascore = sascorer.calculateScore(mol)\n",
    "    dataset_sas.append(sascore)\n",
    "\n",
    "# dataset = ZINC250K('/home/dawood/Datasets/ZINC250K/data.csv')\n",
    "# for smiles, logp, qed, sas in tqdm(dataset.data):\n",
    "#     dataset_smiles.append(smiles)\n",
    "#     dataset_logP.append(logp)\n",
    "#     dataset_qed.append(qed)\n",
    "#     dataset_sas.append(sas)\n",
    "\n",
    "# dataset = SELFIES('/home/dawood/Datasets/CHEMBL/data.txt')\n",
    "# for smiles in tqdm(dataset.data):\n",
    "#     mol = Chem.MolFromSmiles(smiles)\n",
    "#     Chem.Kekulize(mol)\n",
    "#     smiles = Chem.CanonSmiles(Chem.MolToSmiles(mol))\n",
    "#     dataset_smiles.append(smiles)\n",
    "    \n",
    "#     logP = Descriptors.MolLogP(mol)\n",
    "#     dataset_logP.append(logP)\n",
    "    \n",
    "#     tpsa = Descriptors.TPSA(mol)\n",
    "#     dataset_tpsa.append(tpsa / 10.0)"
   ]
  },
  {
   "cell_type": "code",
   "execution_count": 4,
   "metadata": {},
   "outputs": [],
   "source": [
    "# plt.figure()\n",
    "# plt.hist(dataset_logP, bins=100)\n",
    "# plt.figure()\n",
    "# plt.hist(dataset_tpsa, bins=100)\n",
    "# plt.figure()\n",
    "# plt.hist(dataset_qed, bins=100)\n",
    "# plt.figure()\n",
    "# plt.hist(dataset_sas, bins=100)\n",
    "# plt.show()"
   ]
  },
  {
   "cell_type": "code",
   "execution_count": 4,
   "metadata": {},
   "outputs": [
    {
     "name": "stdout",
     "output_type": "stream",
     "text": [
      "256 inf\n"
     ]
    }
   ],
   "source": [
    "state_dict = torch.load('/home/dawood/Experiments/compound-gan-1c6ef65c98bd457fb36ce0a67a18c2a6/model_256.weights', map_location='cpu')\n",
    "#state_dict = torch.load('./model.weights', map_location='cpu')#.weights')\n",
    "print(state_dict['epoch'], state_dict['seq_len'])\n",
    "seq_len = state_dict['seq_len']\n",
    "seq_len = 300 if seq_len == np.inf else seq_len"
   ]
  },
  {
   "cell_type": "code",
   "execution_count": 5,
   "metadata": {},
   "outputs": [],
   "source": [
    "D = 256\n",
    "L = D\n",
    "C = 0\n",
    "DIM_TOKEN = 139\n",
    "model = CVAEF([DIM_TOKEN, 3], D,\n",
    "              [L, L, L, L], C, 0.9, True, use_adjoint=False, num_decoder_layers=4)\n",
    "model.load_state_dict(state_dict['parameters'])\n",
    "model = model.eval().to(DEVICE)"
   ]
  },
  {
   "cell_type": "code",
   "execution_count": 6,
   "metadata": {},
   "outputs": [],
   "source": [
    "def pred2smiles(x):\n",
    "    seq = []\n",
    "    iterator = zip(x[:, :DIM_TOKEN].argmax(-1).long().tolist(), x[:, DIM_TOKEN:].argmax(-1).long().tolist())\n",
    "    for n, (i, j) in enumerate(iterator):\n",
    "        t = SELFIE_VOCAB[i]\n",
    "        s = SELFIES_STEREO[j]\n",
    "\n",
    "        if i != 0 and i != 1:\n",
    "            t = '[' + s + t[1:]\n",
    "\n",
    "        #print(t, x[n, i])\n",
    "        seq.append(t)\n",
    "\n",
    "        if i == 1:\n",
    "            break\n",
    "        \n",
    "    selfie = ''.join(seq)\n",
    "    smiles = selfies.decoder(selfie.replace('[START]', '').replace('[END]', ''))\n",
    "    \n",
    "    try:\n",
    "        mol = Chem.MolFromSmiles(smiles, sanitize=False)\n",
    "        Chem.SanitizeMol(mol, catchErrors=False)\n",
    "        smiles = Chem.MolToSmiles(mol)\n",
    "        return smiles, mol\n",
    "    except Exception as e:\n",
    "        print('MOL ERROR : ', e)\n",
    "    \n",
    "    return '', None\n",
    "                \n",
    "def reconstruct(smiles, draw=True, deterministic=False, seq_len=100):\n",
    "    emb, _, _, mol = SELFIES.get_selfies_from_smiles(smiles, True)\n",
    "    emb = emb[1:-1]\n",
    "    emb = emb.to(DEVICE)\n",
    "    \n",
    "    mu, var = model.encoder(emb.unsqueeze(1).float())\n",
    "    if not deterministic:\n",
    "        z = model.reparameterize(mu, var)\n",
    "    else:\n",
    "        z = mu\n",
    "    \n",
    "    z = z.to(DEVICE)\n",
    "    pred = model.decoder.generate(z, seq_len)\n",
    "    \n",
    "    smiles, pred_mol = pred2smiles(pred[:, 0])\n",
    "         \n",
    "    if pred_mol is None:\n",
    "        return z, 0, 0\n",
    "    \n",
    "    fp_gt   = FingerprintMols.FingerprintMol(mol)\n",
    "    fp_pred = FingerprintMols.FingerprintMol(pred_mol)\n",
    "    similarity = DataStructs.FingerprintSimilarity(fp_gt, fp_pred)\n",
    "         \n",
    "    if draw:\n",
    "        try:\n",
    "            img = Draw.MolsToGridImage([mol, pred_mol], molsPerRow=2, subImgSize=(400, 400), legends=['GT', 'Pred'])\n",
    "            plt.figure(figsize=(8, 8))\n",
    "            plt.imshow(img, interpolation='bilinear')\n",
    "        except Exception as e:\n",
    "            Draw.MolToMPL(mol, size=(250, 250)); \n",
    "            \n",
    "        plt.axis('off')\n",
    "        plt.show()\n",
    "    \n",
    "    return z, 1, similarity#edge_list, node_list, z, valid, similarity\n",
    "\n",
    "def generate_random(num_mols, req_condition=None, draw=True):\n",
    "\n",
    "    B = 32\n",
    "    \n",
    "    pred_smiles = []\n",
    "    pred_mols   = []\n",
    "    \n",
    "    logp_data = []\n",
    "    qed_data  = []\n",
    "    sas_data  = []\n",
    "    tpsa_data = []\n",
    "\n",
    "    for i in tqdm(range(num_mols//B)):\n",
    "        z = torch.zeros((B, D - C))\n",
    "        condition = torch.zeros((B, C))\n",
    "        condition.uniform_(0, 1)\n",
    "        for j in range(len(z)):\n",
    "            z[j].normal_(0, 1)\n",
    "            if C > 0:\n",
    "                if req_condition is not None:\n",
    "                    condition[j, 0] = req_condition[0]\n",
    "                    condition[j, 1] = req_condition[1]\n",
    "                    condition[j, 2] = req_condition[2]\n",
    "                else:\n",
    "                    # logp\n",
    "                    condition[j, 0] = ((condition[j, 0] - 0.5) * 12).int().float()\n",
    "                    # tpsa\n",
    "                    condition[j, 1] = ((condition[j, 1] * 15).int().float())\n",
    "                    # qed\n",
    "                    #condition[j, 1] = ((condition[j, 1] * 10).int().float())\n",
    "                    # sas\n",
    "                    condition[j, 2] = ((condition[j, 2] * 10).int().float())\n",
    "\n",
    "        z = torch.cat([z, condition], -1)\n",
    "        z = z.to(DEVICE)\n",
    "        \n",
    "        z = model.cnf(z, None, True)[0]\n",
    "        pred = model.decoder.generate(z, seq_len)\n",
    "        \n",
    "        for b in range(pred.shape[1]):\n",
    "            smiles, mol = pred2smiles(pred[:, b])\n",
    "\n",
    "            if mol is not None:\n",
    "                pred_mols.append(mol)\n",
    "                pred_smiles.append(Chem.CanonSmiles(Chem.MolToSmiles(mol)))\n",
    "                \n",
    "                pred_logp = Chem.Descriptors.MolLogP(mol)\n",
    "                # pred_qed  = QED.qed(mol)\n",
    "                pred_sas  = sascorer.calculateScore(mol)\n",
    "                pred_tpsa = Chem.Descriptors.TPSA(mol, includeSandP=True)  \n",
    "                \n",
    "                if C > 0:\n",
    "                    logp_data.append((condition[b, 0].item(), pred_logp))\n",
    "                    tpsa_data.append((condition[b, 1].item() * 10, pred_tpsa))\n",
    "                    # qed_data.append((condition[b, 1].item() / 10, pred_qed))\n",
    "                    sas_data.append((condition[b, 2].item(), pred_sas))\n",
    "    \n",
    "    num_mols = len(pred_mols)\n",
    "\n",
    "    if draw:\n",
    "        img = Draw.MolsToGridImage(pred_mols, molsPerRow=4, subImgSize=(400, 400))\n",
    "        plt.figure(figsize=(num_mols*2, num_mols*2))\n",
    "        plt.imshow(img, interpolation='bilinear')\n",
    "        plt.axis('off')\n",
    "        plt.show()\n",
    "    \n",
    "    return pred_mols, pred_smiles, logp_data, tpsa_data, qed_data, sas_data"
   ]
  },
  {
   "cell_type": "code",
   "execution_count": 7,
   "metadata": {},
   "outputs": [
    {
     "data": {
      "application/vnd.jupyter.widget-view+json": {
       "model_id": "adbf8e23386148588c8dd63ea8060789",
       "version_major": 2,
       "version_minor": 0
      },
      "text/plain": [
       "HBox(children=(IntProgress(value=0, max=31), HTML(value='')))"
      ]
     },
     "metadata": {},
     "output_type": "display_data"
    },
    {
     "name": "stdout",
     "output_type": "stream",
     "text": [
      "MOL ERROR :  Sanitization error: Explicit valence for atom # 17 Cl, 2, is greater than permitted\n",
      "MOL ERROR :  Python argument types in\n",
      "    rdkit.Chem.rdmolops.SanitizeMol(NoneType)\n",
      "did not match C++ signature:\n",
      "    SanitizeMol(RDKit::ROMol {lvalue} mol, unsigned long sanitizeOps=rdkit.Chem.rdmolops.SanitizeFlags.SANITIZE_ALL, bool catchErrors=False)\n",
      "MOL ERROR :  Sanitization error: Explicit valence for atom # 2 N, 4, is greater than permitted\n",
      "MOL ERROR :  Sanitization error: Explicit valence for atom # 7 N, 4, is greater than permitted\n",
      "invalid literal for int() with base 10: '3])['\n",
      "Could not decode selfies string. Please contact authors.\n",
      "MOL ERROR :  No registered converter was able to produce a C++ rvalue of type std::__cxx11::basic_string<wchar_t, std::char_traits<wchar_t>, std::allocator<wchar_t> > from this Python object of type int\n",
      "MOL ERROR :  Sanitization error: Explicit valence for atom # 0 Br, 2, is greater than permitted\n",
      "MOL ERROR :  Sanitization error: Explicit valence for atom # 1 N, 4, is greater than permitted\n",
      "MOL ERROR :  Sanitization error: Explicit valence for atom # 18 N, 4, is greater than permitted\n",
      "MOL ERROR :  Sanitization error: Explicit valence for atom # 0 N, 4, is greater than permitted\n",
      "MOL ERROR :  Sanitization error: Explicit valence for atom # 1 N, 4, is greater than permitted\n",
      "MOL ERROR :  Sanitization error: Explicit valence for atom # 7 N, 4, is greater than permitted\n",
      "MOL ERROR :  Sanitization error: Explicit valence for atom # 0 Cl, 2, is greater than permitted\n",
      "MOL ERROR :  Python argument types in\n",
      "    rdkit.Chem.rdmolops.SanitizeMol(NoneType)\n",
      "did not match C++ signature:\n",
      "    SanitizeMol(RDKit::ROMol {lvalue} mol, unsigned long sanitizeOps=rdkit.Chem.rdmolops.SanitizeFlags.SANITIZE_ALL, bool catchErrors=False)\n",
      "MOL ERROR :  Sanitization error: Explicit valence for atom # 15 N, 4, is greater than permitted\n",
      "MOL ERROR :  Sanitization error: Explicit valence for atom # 11 N, 4, is greater than permitted\n",
      "MOL ERROR :  Sanitization error: Explicit valence for atom # 5 N, 5, is greater than permitted\n",
      "\n"
     ]
    }
   ],
   "source": [
    "num_gen = 10_00\n",
    "draw    = False\n",
    "pred_mols, pred_smiles, logp_data, tpsa_data, qed_data, sas_data = generate_random(num_gen, draw=draw)"
   ]
  },
  {
   "cell_type": "code",
   "execution_count": 26,
   "metadata": {},
   "outputs": [],
   "source": [
    "# reconstruct(dataset_smiles[0], deterministic=False)"
   ]
  },
  {
   "cell_type": "code",
   "execution_count": 12,
   "metadata": {},
   "outputs": [
    {
     "data": {
      "image/png": "[encoded data removed]",
      "text/plain": [
       "<Figure size 432x288 with 13 Axes>"
      ]
     },
     "metadata": {
      "needs_background": "light"
     },
     "output_type": "display_data"
    },
    {
     "data": {
      "image/png": "[encoded data removed]",
      "text/plain": [
       "<Figure size 432x288 with 17 Axes>"
      ]
     },
     "metadata": {
      "needs_background": "light"
     },
     "output_type": "display_data"
    },
    {
     "data": {
      "image/png": "[encoded data removed]",
      "text/plain": [
       "<Figure size 432x288 with 12 Axes>"
      ]
     },
     "metadata": {
      "needs_background": "light"
     },
     "output_type": "display_data"
    }
   ],
   "source": [
    "logp_map = defaultdict(list)\n",
    "for i in sorted(logp_data, key=lambda x:x[0]):\n",
    "    logp_map[i[0]].append(i[1])\n",
    "logp_map['dataset'] = dataset_logP\n",
    "\n",
    "tpsa_map = defaultdict(list)\n",
    "for i in sorted(tpsa_data, key=lambda x:x[0]):\n",
    "    tpsa_map[i[0]].append(i[1])\n",
    "tpsa_map['dataset'] = [x*10 for x in dataset_tpsa]\n",
    "\n",
    "# qed_map = defaultdict(list)\n",
    "# for i in sorted(qed_data, key=lambda x:x[0]):\n",
    "#     qed_map[i[0]].append(i[1])\n",
    "# qed_map['dataset'] = dataset_qed\n",
    "\n",
    "sas_map = defaultdict(list)\n",
    "for i in sorted(sas_data, key=lambda x:x[0]):\n",
    "    sas_map[i[0]].append(i[1])\n",
    "sas_map['dataset'] = dataset_sas\n",
    "\n",
    "joypy.joyplot(logp_map, grid=True, fade=True, x_range=(-12, 12))#, labels=keys)\n",
    "#plt.xticks(range(-5, 6))\n",
    "#plt.xlabel('Predicted Property')\n",
    "#plt.ylabel('Requested Property')\n",
    "#plt.title('LogP')\n",
    "\n",
    "joypy.joyplot(tpsa_map, grid=True, fade=True, x_range=(-25, 225))#, labels=keys)\n",
    "# #plt.xticks(range(-5, 6))\n",
    "# plt.xlabel('Predicted Property')\n",
    "# plt.ylabel('Requested Property')\n",
    "# plt.title('TPSA')\n",
    "\n",
    "# joypy.joyplot(qed_map, grid=True, fade=True)#, labels=keys)\n",
    "# #plt.xticks(range(0, 11))\n",
    "# # plt.xlim(-5, 6)\n",
    "# plt.xlabel('Predicted Property')\n",
    "# plt.ylabel('Requested Property')\n",
    "# plt.title('QED')\n",
    "\n",
    "joypy.joyplot(sas_map, grid=True, fade=True, x_range=(-2, 10))#, labels=keys)\n",
    "# plt.xticks(range(0, 11))\n",
    "# # plt.xlim(-5, 6)\n",
    "# plt.xlabel('Predicted Property')\n",
    "# plt.ylabel('Requested Property')\n",
    "# plt.title('SA Score')\n",
    "\n",
    "plt.show()"
   ]
  },
  {
   "cell_type": "code",
   "execution_count": 13,
   "metadata": {},
   "outputs": [
    {
     "name": "stdout",
     "output_type": "stream",
     "text": [
      "logp  0.5362847151821988\n",
      "tpsa  0.8704573011469146\n",
      "sas  0.7334622449101603\n"
     ]
    }
   ],
   "source": [
    "x = np.array(logp_data)\n",
    "print('logp ', r2_score(x[:, 0], x[:, 1]))\n",
    "\n",
    "x = np.array(tpsa_data)\n",
    "print('tpsa ', r2_score(x[:, 0], x[:, 1]))\n",
    "\n",
    "x = np.array(sas_data)\n",
    "print('sas ', r2_score(x[:, 0], x[:, 1]))"
   ]
  },
  {
   "cell_type": "code",
   "execution_count": 30,
   "metadata": {},
   "outputs": [
    {
     "data": {
      "application/vnd.jupyter.widget-view+json": {
       "model_id": "0e963f0b898245e6bb233b9ffd0e407f",
       "version_major": 2,
       "version_minor": 0
      },
      "text/plain": [
       "HBox(children=(IntProgress(value=0, max=9367), HTML(value='')))"
      ]
     },
     "metadata": {},
     "output_type": "display_data"
    },
    {
     "name": "stdout",
     "output_type": "stream",
     "text": [
      "\n"
     ]
    }
   ],
   "source": [
    "novel_smiles = []\n",
    "for p_smiles in tqdm(set(pred_smiles)):\n",
    "    if p_smiles not in dataset_smiles:\n",
    "        novel_smiles.append(p_smiles)"
   ]
  },
  {
   "cell_type": "code",
   "execution_count": 31,
   "metadata": {},
   "outputs": [
    {
     "data": {
      "text/plain": [
       "(9552, 9367, 9362)"
      ]
     },
     "execution_count": 31,
     "metadata": {},
     "output_type": "execute_result"
    }
   ],
   "source": [
    "len(pred_smiles), len(set(pred_smiles)), len(set(novel_smiles))"
   ]
  },
  {
   "cell_type": "code",
   "execution_count": null,
   "metadata": {},
   "outputs": [],
   "source": [
    "pred_smiles"
   ]
  },
  {
   "cell_type": "code",
   "execution_count": null,
   "metadata": {},
   "outputs": [],
   "source": [
    "idx = torch.randint(len(dataset)//2, len(dataset), (1,))\n",
    "smiles = dataset.data[idx]\n",
    "\n",
    "valids = []\n",
    "scores = []\n",
    "for i in range(10):\n",
    "    z, v, s = reconstruct(smiles, deterministic=False)\n",
    "    valids.append(v)\n",
    "    scores.append(s)\n",
    "    #break\n",
    "    \n",
    "print(valids, scores)\n",
    "print(torch.tensor(valids, dtype=float).mean().item(), torch.tensor(scores, dtype=float).mean().item())"
   ]
  },
  {
   "cell_type": "code",
   "execution_count": null,
   "metadata": {},
   "outputs": [],
   "source": [
    "plt.figure(figsize=(32, 32))\n",
    "run('')"
   ]
  },
  {
   "cell_type": "code",
   "execution_count": null,
   "metadata": {},
   "outputs": [],
   "source": [
    "idx = torch.randint(len(dataset)//2, len(dataset), (1,))\n",
    "#idx = 20\n",
    "smiles = dataset.data[idx]\n",
    "mol = Chem.MolFromSmiles(smiles)\n",
    "Draw.MolToMPL(mol); plt.show()\n",
    "#edge_list, node_list, emb, valid, similarity = run_network(smiles)\n",
    "G = run(smiles)"
   ]
  },
  {
   "cell_type": "code",
   "execution_count": null,
   "metadata": {},
   "outputs": [],
   "source": [
    "#smiles = 'C(=O)C=CCC=C'\n",
    "#smiles = 'C'\n",
    "smiles='CC(=O)NC1=CC=CC=C1C(=O)O'\n",
    "#reconstruct(smiles)\n",
    "# smiles='C1=CC=C(C(=C1)C(=O)OC2=CC=CC=C2C(=O)O)O'\n",
    "# smiles='CCC[NH2+]C1CCC(O)(Cc2nc(C)cs2)CC1'\n",
    "# smiles='C#CCOCC1CCN(C(=O)c2ccc(S(=O)(=O)N3CCCC[C@H]3C)cc2)CC1'\n",
    "# smiles='Cc1cccc2sc(NC(=O)[C@H](C)N3C(=O)[C@@H]4CC=CC[C@H]4C3=O)nc12'\n",
    "# smiles='Cc1cc(C(=O)Nc2ccc(OCC(N)=O)cc2)c(C)n1C1CC1'\n",
    "# smiles='CCOc1ccc2nc(N(C[C@@H]3CCCO3)C(=O)c3ccccc3S(C)(=O)=O)sc2c1'\n",
    "# smiles='COc1cc(C(=O)N(Cc2cccc(F)c2)[C@H]2CCS(=O)(=O)C2)cc(OC)c1OC'\n",
    "mol = Chem.MolFromSmiles(smiles)\n",
    "Draw.MolToMPL(mol); plt.show()\n",
    "#G = mol2graph(mol)[0]\n",
    "#G.to(DEVICE)\n",
    "#mu, var = enc(G)\n",
    "run(smiles)"
   ]
  },
  {
   "cell_type": "raw",
   "metadata": {},
   "source": [
    "total_score = 0\n",
    "for i in tqdm(range(len(dataset)//2, len(dataset))):\n",
    "    smiles = dataset.data[idx]\n",
    "\n",
    "    valids = []\n",
    "    scores = []\n",
    "    for i in range(10):\n",
    "        z, v, s = reconstruct(smiles, draw=False)\n",
    "        valids.append(v)\n",
    "        scores.append(s)\n",
    "        \n",
    "    total_score += torch.tensor(scores, dtype=float).mean().item()\n",
    "    \n",
    "total_score /= len(dataset)//2"
   ]
  },
  {
   "cell_type": "raw",
   "metadata": {},
   "source": [
    "emb_list = []\n",
    "valid_list = []\n",
    "sim_list = []\n",
    "\n",
    "processed = []\n",
    "for i in tqdm(range(6000)):\n",
    "    while True:\n",
    "        idx = torch.randint(len(dataset), (1,))\n",
    "        if idx not in processed: break\n",
    "    processed.append(idx)\n",
    "    smiles = dataset.data[idx]\n",
    "    emb, valid, similarity = reconstruct(smiles, draw=False)\n",
    "    emb_list.append(emb.data.cpu().numpy())\n",
    "    valid_list.append(valid)\n",
    "    sim_list.append(similarity)"
   ]
  },
  {
   "cell_type": "raw",
   "metadata": {},
   "source": [
    "tsne = TSNE(n_components=2, random_state=10)\n",
    "emb_2d = tsne.fit_transform(emb_list)"
   ]
  },
  {
   "cell_type": "raw",
   "metadata": {},
   "source": [
    "plt.figure(figsize=(20, 10))\n",
    "plt.subplot(121)\n",
    "plt.scatter(emb_2d[:, 0], emb_2d[:, 1], c=valid_list, s=20, cmap='RdBu', alpha=0.7)\n",
    "plt.colorbar()\n",
    "\n",
    "plt.subplot(122)\n",
    "plt.scatter(emb_2d[:, 0], emb_2d[:, 1], c=sim_list, s=20, alpha=0.7)\n",
    "plt.colorbar()\n",
    "plt.show()\n",
    "\n",
    "plt.show()"
   ]
  },
  {
   "cell_type": "raw",
   "metadata": {},
   "source": [
    "predicted = nx.Graph()\n",
    "for i, n in enumerate(node_list):\n",
    "    predicted.add_node(i, atom=n)\n",
    "for e, bt in edge_list:\n",
    "    predicted.add_edge(*e, bond_type=bt)\n",
    "    \n",
    "plt.figure()\n",
    "plt.title(len(node_list))\n",
    "#pos = nx.spring_layout(predicted)\n",
    "pos = nx.kamada_kawai_layout(predicted)\n",
    "nx.draw(predicted, pos)\n",
    "node_labels = nx.get_node_attributes(predicted, 'atom')\n",
    "nx.draw_networkx_labels(predicted, pos, labels=node_labels)\n",
    "edge_labels = nx.get_edge_attributes(predicted, 'bond_type')\n",
    "nx.draw_networkx_edge_labels(predicted, pos, edge_labels=edge_labels)\n",
    "plt.show()"
   ]
  },
  {
   "cell_type": "code",
   "execution_count": null,
   "metadata": {},
   "outputs": [],
   "source": []
  },
  {
   "cell_type": "code",
   "execution_count": null,
   "metadata": {},
   "outputs": [],
   "source": [
    "mol"
   ]
  },
  {
   "cell_type": "code",
   "execution_count": null,
   "metadata": {},
   "outputs": [],
   "source": []
  }
 ],
 "metadata": {
  "kernelspec": {
   "display_name": "Python 3",
   "language": "python",
   "name": "python3"
  },
  "language_info": {
   "codemirror_mode": {
    "name": "ipython",
    "version": 3
   },
   "file_extension": ".py",
   "mimetype": "text/x-python",
   "name": "python",
   "nbconvert_exporter": "python",
   "pygments_lexer": "ipython3",
   "version": "3.7.3"
  }
 },
 "nbformat": 4,
 "nbformat_minor": 4
}
