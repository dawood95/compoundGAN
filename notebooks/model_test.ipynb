{
 "cells": [
  {
   "cell_type": "code",
   "execution_count": 1,
   "metadata": {},
   "outputs": [
    {
     "name": "stdout",
     "output_type": "stream",
     "text": [
      "/home/dawood/Workspace/compoundGAN\n"
     ]
    }
   ],
   "source": [
    "%cd .."
   ]
  },
  {
   "cell_type": "code",
   "execution_count": 2,
   "metadata": {},
   "outputs": [],
   "source": [
    "import os\n",
    "import sys\n",
    "\n",
    "import torch\n",
    "import joypy\n",
    "import dgl\n",
    "import random\n",
    "import networkx as nx\n",
    "import numpy as np\n",
    "\n",
    "from tqdm.notebook import tqdm \n",
    "from collections import defaultdict\n",
    "\n",
    "from rdkit import Chem\n",
    "from rdkit import DataStructs\n",
    "from rdkit.Chem import Draw, Descriptors\n",
    "from rdkit.Chem.Fingerprints import FingerprintMols\n",
    "from rdkit.Chem import RDConfig\n",
    "from rdkit.Chem import QED\n",
    "\n",
    "sys.path.append(os.path.join(RDConfig.RDContribDir, 'SA_Score'))\n",
    "import sascorer\n",
    "\n",
    "import selfies\n",
    "from selfies import encoder as selfies_encoder\n",
    "from selfies import decoder as selfies_decoder\n",
    "from data.selfies import SELFIES, SELFIE_VOCAB, SELFIES_STEREO\n",
    "from data.zinc import ZINC250K\n",
    "\n",
    "from models.network import CVAEF\n",
    "\n",
    "from sklearn.metrics import r2_score\n",
    "from sklearn.manifold import TSNE\n",
    "from matplotlib import pyplot as plt\n",
    "plt.style.use('ggplot')\n",
    "%matplotlib inline\n",
    "\n",
    "DEVICE = torch.device('cuda:0')\n",
    "\n",
    "random.seed(42)"
   ]
  },
  {
   "cell_type": "code",
   "execution_count": 6,
   "metadata": {},
   "outputs": [
    {
     "data": {
      "application/vnd.jupyter.widget-view+json": {
       "model_id": "acb804d33a7b4289911bbb4fc7eae2e6",
       "version_major": 2,
       "version_minor": 0
      },
      "text/plain": [
       "HBox(children=(IntProgress(value=0, max=1591378), HTML(value='')))"
      ]
     },
     "metadata": {},
     "output_type": "display_data"
    },
    {
     "name": "stdout",
     "output_type": "stream",
     "text": [
      "\n"
     ]
    }
   ],
   "source": [
    "dataset = SELFIES('/home/dawood/Datasets/ZINC250K/data.csv')\n",
    "dataset_smiles = []\n",
    "dataset_logP = []\n",
    "dataset_tpsa = []\n",
    "dataset_qed = []\n",
    "dataset_sas = []\n",
    "\n",
    "# for smiles in tqdm(dataset.data):\n",
    "#     mol = Chem.MolFromSmiles(smiles)\n",
    "#     Chem.Kekulize(mol)\n",
    "#     smiles = Chem.CanonSmiles(Chem.MolToSmiles(mol))\n",
    "#     dataset_smiles.append(smiles)\n",
    "    \n",
    "#     logP = Descriptors.MolLogP(mol)\n",
    "#     dataset_logP.append(logP)\n",
    "    \n",
    "#     tpsa = Descriptors.TPSA(mol)\n",
    "#     dataset_tpsa.append(tpsa / 10.0)\n",
    "\n",
    "# dataset = ZINC250K('/home/dawood/Datasets/ZINC250K/data.csv')\n",
    "# for smiles, logp, qed, sas in tqdm(dataset.data):\n",
    "#     dataset_smiles.append(smiles)\n",
    "#     dataset_logP.append(logp)\n",
    "#     dataset_qed.append(qed)\n",
    "#     dataset_sas.append(sas)\n",
    "\n",
    "dataset = SELFIES('/home/dawood/Datasets/CHEMBL/data.txt')\n",
    "for smiles in tqdm(dataset.data):\n",
    "    mol = Chem.MolFromSmiles(smiles)\n",
    "    Chem.Kekulize(mol)\n",
    "    smiles = Chem.CanonSmiles(Chem.MolToSmiles(mol))\n",
    "    dataset_smiles.append(smiles)\n",
    "    \n",
    "    logP = Descriptors.MolLogP(mol)\n",
    "    dataset_logP.append(logP)\n",
    "    \n",
    "    tpsa = Descriptors.TPSA(mol)\n",
    "    dataset_tpsa.append(tpsa / 10.0)"
   ]
  },
  {
   "cell_type": "code",
   "execution_count": 15,
   "metadata": {},
   "outputs": [
    {
     "data": {
      "text/plain": [
       "(array([1.00000e+00, 4.00000e+00, 4.00000e+00, 6.00000e+00, 8.00000e+00,\n",
       "        8.00000e+00, 1.00000e+01, 1.60000e+01, 1.80000e+01, 3.10000e+01,\n",
       "        2.60000e+01, 3.70000e+01, 6.60000e+01, 6.10000e+01, 8.70000e+01,\n",
       "        1.09000e+02, 1.25000e+02, 1.59000e+02, 1.76000e+02, 2.56000e+02,\n",
       "        3.77000e+02, 5.40000e+02, 6.87000e+02, 1.00600e+03, 1.43500e+03,\n",
       "        2.09000e+03, 2.81900e+03, 3.91300e+03, 5.22500e+03, 7.16000e+03,\n",
       "        1.04780e+04, 1.55310e+04, 2.37060e+04, 3.64780e+04, 5.31650e+04,\n",
       "        7.45530e+04, 9.81770e+04, 1.20600e+05, 1.39583e+05, 1.50442e+05,\n",
       "        1.50468e+05, 1.41201e+05, 1.24831e+05, 1.05377e+05, 8.44930e+04,\n",
       "        6.45650e+04, 4.83460e+04, 3.45180e+04, 2.49280e+04, 1.81100e+04,\n",
       "        1.27970e+04, 9.10700e+03, 6.34900e+03, 4.64700e+03, 3.33600e+03,\n",
       "        2.49500e+03, 1.73300e+03, 1.25800e+03, 9.36000e+02, 6.01000e+02,\n",
       "        5.06000e+02, 3.03000e+02, 2.58000e+02, 1.93000e+02, 1.31000e+02,\n",
       "        1.40000e+02, 9.00000e+01, 9.60000e+01, 6.80000e+01, 7.20000e+01,\n",
       "        4.80000e+01, 5.10000e+01, 3.50000e+01, 2.00000e+01, 1.80000e+01,\n",
       "        1.40000e+01, 1.10000e+01, 6.00000e+00, 8.00000e+00, 4.00000e+00,\n",
       "        5.00000e+00, 7.00000e+00, 6.00000e+00, 4.00000e+00, 1.00000e+00,\n",
       "        0.00000e+00, 2.00000e+00, 1.00000e+00, 0.00000e+00, 2.00000e+00,\n",
       "        1.00000e+00, 1.00000e+00, 0.00000e+00, 0.00000e+00, 1.00000e+00,\n",
       "        0.00000e+00, 2.00000e+00, 1.00000e+00, 1.00000e+00, 2.00000e+00]),\n",
       " array([-1.1720900e+01, -1.1365067e+01, -1.1009234e+01, -1.0653401e+01,\n",
       "        -1.0297568e+01, -9.9417350e+00, -9.5859020e+00, -9.2300690e+00,\n",
       "        -8.8742360e+00, -8.5184030e+00, -8.1625700e+00, -7.8067370e+00,\n",
       "        -7.4509040e+00, -7.0950710e+00, -6.7392380e+00, -6.3834050e+00,\n",
       "        -6.0275720e+00, -5.6717390e+00, -5.3159060e+00, -4.9600730e+00,\n",
       "        -4.6042400e+00, -4.2484070e+00, -3.8925740e+00, -3.5367410e+00,\n",
       "        -3.1809080e+00, -2.8250750e+00, -2.4692420e+00, -2.1134090e+00,\n",
       "        -1.7575760e+00, -1.4017430e+00, -1.0459100e+00, -6.9007700e-01,\n",
       "        -3.3424400e-01,  2.1589000e-02,  3.7742200e-01,  7.3325500e-01,\n",
       "         1.0890880e+00,  1.4449210e+00,  1.8007540e+00,  2.1565870e+00,\n",
       "         2.5124200e+00,  2.8682530e+00,  3.2240860e+00,  3.5799190e+00,\n",
       "         3.9357520e+00,  4.2915850e+00,  4.6474180e+00,  5.0032510e+00,\n",
       "         5.3590840e+00,  5.7149170e+00,  6.0707500e+00,  6.4265830e+00,\n",
       "         6.7824160e+00,  7.1382490e+00,  7.4940820e+00,  7.8499150e+00,\n",
       "         8.2057480e+00,  8.5615810e+00,  8.9174140e+00,  9.2732470e+00,\n",
       "         9.6290800e+00,  9.9849130e+00,  1.0340746e+01,  1.0696579e+01,\n",
       "         1.1052412e+01,  1.1408245e+01,  1.1764078e+01,  1.2119911e+01,\n",
       "         1.2475744e+01,  1.2831577e+01,  1.3187410e+01,  1.3543243e+01,\n",
       "         1.3899076e+01,  1.4254909e+01,  1.4610742e+01,  1.4966575e+01,\n",
       "         1.5322408e+01,  1.5678241e+01,  1.6034074e+01,  1.6389907e+01,\n",
       "         1.6745740e+01,  1.7101573e+01,  1.7457406e+01,  1.7813239e+01,\n",
       "         1.8169072e+01,  1.8524905e+01,  1.8880738e+01,  1.9236571e+01,\n",
       "         1.9592404e+01,  1.9948237e+01,  2.0304070e+01,  2.0659903e+01,\n",
       "         2.1015736e+01,  2.1371569e+01,  2.1727402e+01,  2.2083235e+01,\n",
       "         2.2439068e+01,  2.2794901e+01,  2.3150734e+01,  2.3506567e+01,\n",
       "         2.3862400e+01]),\n",
       " <a list of 100 Patch objects>)"
      ]
     },
     "execution_count": 15,
     "metadata": {},
     "output_type": "execute_result"
    },
    {
     "data": {
      "image/png": "[encoded data removed]",
      "text/plain": [
       "<Figure size 432x288 with 1 Axes>"
      ]
     },
     "metadata": {
      "needs_background": "light"
     },
     "output_type": "display_data"
    }
   ],
   "source": [
    "plt.figure()\n",
    "plt.hist(dataset_logP, bins=100)\n",
    "# plt.figure()\n",
    "# plt.hist(dataset_tpsa, bins=100)\n",
    "# plt.figure()\n",
    "# plt.hist(dataset_qed, bins=100)\n",
    "# plt.figure()\n",
    "# plt.hist(dataset_sas, bins=100)\n",
    "# plt.show()"
   ]
  },
  {
   "cell_type": "code",
   "execution_count": 67,
   "metadata": {},
   "outputs": [
    {
     "name": "stdout",
     "output_type": "stream",
     "text": [
      "12 inf\n"
     ]
    }
   ],
   "source": [
    "state_dict = torch.load('/home/dawood/Experiments/compound-gan-1c8dd68344ed4250aeb8b38f9a329924/model_12.weights', map_location='cpu')\n",
    "#state_dict = torch.load('./model.weights', map_location='cpu')#.weights')\n",
    "print(state_dict['epoch'], state_dict['seq_len'])\n",
    "seq_len = state_dict['seq_len']\n",
    "seq_len = 300 if seq_len == np.inf else seq_len"
   ]
  },
  {
   "cell_type": "code",
   "execution_count": 68,
   "metadata": {},
   "outputs": [],
   "source": [
    "D = 256\n",
    "L = D\n",
    "C = 2\n",
    "DIM_TOKEN = 139\n",
    "model = CVAEF([DIM_TOKEN, 3], D,\n",
    "              [L, L, L, L], 1, 0.9, True, use_adjoint=False, num_decoder_layers=4)\n",
    "model.load_state_dict(state_dict['parameters'])\n",
    "model = model.eval().to(DEVICE)"
   ]
  },
  {
   "cell_type": "code",
   "execution_count": 69,
   "metadata": {},
   "outputs": [],
   "source": [
    "def pred2smiles(x):\n",
    "    seq = []\n",
    "    iterator = zip(x[:, :DIM_TOKEN].argmax(-1).long().tolist(), x[:, DIM_TOKEN:].argmax(-1).long().tolist())\n",
    "    for n, (i, j) in enumerate(iterator):\n",
    "        t = SELFIE_VOCAB[i]\n",
    "        s = SELFIES_STEREO[j]\n",
    "\n",
    "        if i != 0 and i != 1:\n",
    "            t = '[' + s + t[1:]\n",
    "\n",
    "        #print(t, x[n, i])\n",
    "        seq.append(t)\n",
    "\n",
    "        if i == 1:\n",
    "            break\n",
    "        \n",
    "    selfie = ''.join(seq)\n",
    "    smiles = selfies.decoder(selfie.replace('[START]', '').replace('[END]', ''))\n",
    "    \n",
    "    try:\n",
    "        mol = Chem.MolFromSmiles(smiles, sanitize=False)\n",
    "        Chem.SanitizeMol(mol, catchErrors=False)\n",
    "        smiles = Chem.MolToSmiles(mol)\n",
    "        return smiles, mol\n",
    "    except Exception as e:\n",
    "        print('MOL ERROR : ', e)\n",
    "    \n",
    "    return '', None\n",
    "                \n",
    "def reconstruct(smiles, draw=True, deterministic=False, seq_len=100):\n",
    "    emb, _, _, mol = SELFIES.get_selfies_from_smiles(smiles, True)\n",
    "    emb = emb[1:-1]\n",
    "    emb = emb.to(DEVICE)\n",
    "    \n",
    "    mu, var = model.encoder(emb.unsqueeze(1).float())\n",
    "    if not deterministic:\n",
    "        z = model.reparameterize(mu, var)\n",
    "    else:\n",
    "        z = mu\n",
    "    \n",
    "    z = z.to(DEVICE)\n",
    "    pred = model.decoder.generate(z, seq_len)\n",
    "    \n",
    "    smiles, pred_mol = pred2smiles(pred[:, 0])\n",
    "         \n",
    "    if pred_mol is None:\n",
    "        return z, 0, 0\n",
    "    \n",
    "    fp_gt   = FingerprintMols.FingerprintMol(mol)\n",
    "    fp_pred = FingerprintMols.FingerprintMol(pred_mol)\n",
    "    similarity = DataStructs.FingerprintSimilarity(fp_gt, fp_pred)\n",
    "         \n",
    "    if draw:\n",
    "        try:\n",
    "            img = Draw.MolsToGridImage([mol, pred_mol], molsPerRow=2, subImgSize=(400, 400), legends=['GT', 'Pred'])\n",
    "            plt.figure(figsize=(8, 8))\n",
    "            plt.imshow(img, interpolation='bilinear')\n",
    "        except Exception as e:\n",
    "            Draw.MolToMPL(mol, size=(250, 250)); \n",
    "            \n",
    "        plt.axis('off')\n",
    "        plt.show()\n",
    "    \n",
    "    return z, 1, similarity#edge_list, node_list, z, valid, similarity\n",
    "\n",
    "def generate_random(num_mols, req_condition=None, draw=True):\n",
    "\n",
    "    B = 32\n",
    "    \n",
    "    pred_smiles = []\n",
    "    pred_mols   = []\n",
    "    \n",
    "    logp_data = []\n",
    "    qed_data  = []\n",
    "    sas_data  = []\n",
    "    tpsa_data = []\n",
    "\n",
    "    for i in tqdm(range(num_mols//B)):\n",
    "        z = torch.zeros((B, D - C))\n",
    "        condition = torch.zeros((B, C))\n",
    "        condition.uniform_(0, 1)\n",
    "        for j in range(len(z)):\n",
    "            z[j].normal_(0, 1)\n",
    "            if C > 0:\n",
    "                if req_condition is not None:\n",
    "                    condition[j, 0] = req_condition[0]\n",
    "                    condition[j, 1] = req_condition[1]\n",
    "                    condition[j, 2] = req_condition[2]\n",
    "                else:\n",
    "                    # logp\n",
    "                    condition[j, 0] = ((condition[j, 0] - 0.5) * 12).int().float()\n",
    "                    # tpsa\n",
    "                    condition[j, 1] = ((condition[j, 1] * 15).int().float())\n",
    "                    # qed\n",
    "                    #condition[j, 1] = ((condition[j, 1] * 10).int().float())\n",
    "                    # sas\n",
    "                    #condition[j, 2] = ((condition[j, 2] * 10).int().float())\n",
    "\n",
    "        z = torch.cat([z, condition], -1)\n",
    "        z = z.to(DEVICE)\n",
    "        \n",
    "        z = model.cnf(z, None, True)[0]\n",
    "        pred = model.decoder.generate(z, seq_len)\n",
    "        \n",
    "        for b in range(pred.shape[1]):\n",
    "            smiles, mol = pred2smiles(pred[:, b])\n",
    "\n",
    "            if mol is not None:\n",
    "                pred_mols.append(mol)\n",
    "                pred_smiles.append(Chem.CanonSmiles(Chem.MolToSmiles(mol)))\n",
    "                \n",
    "                pred_logp = Chem.Descriptors.MolLogP(mol)\n",
    "                # pred_qed  = QED.qed(mol)\n",
    "                # pred_sas  = sascorer.calculateScore(mol)\n",
    "                pred_tpsa = Chem.Descriptors.TPSA(mol, includeSandP=True)  \n",
    "                \n",
    "                if C > 0:\n",
    "                    logp_data.append((condition[b, 0].item(), pred_logp))\n",
    "                    tpsa_data.append((condition[b, 1].item() * 10, pred_tpsa))\n",
    "                    # qed_data.append((condition[b, 1].item() / 10, pred_qed))\n",
    "                    # sas_data.append((condition[b, 2].item(), pred_sas))\n",
    "    \n",
    "    num_mols = len(pred_mols)\n",
    "\n",
    "    if draw:\n",
    "        img = Draw.MolsToGridImage(pred_mols, molsPerRow=4, subImgSize=(400, 400))\n",
    "        plt.figure(figsize=(num_mols*2, num_mols*2))\n",
    "        plt.imshow(img, interpolation='bilinear')\n",
    "        plt.axis('off')\n",
    "        plt.show()\n",
    "    \n",
    "    return pred_mols, pred_smiles, logp_data, tpsa_data, qed_data, sas_data"
   ]
  },
  {
   "cell_type": "code",
   "execution_count": 70,
   "metadata": {},
   "outputs": [
    {
     "data": {
      "application/vnd.jupyter.widget-view+json": {
       "model_id": "665b0bcce19a4e969d984291b9f15617",
       "version_major": 2,
       "version_minor": 0
      },
      "text/plain": [
       "HBox(children=(IntProgress(value=0, max=312), HTML(value='')))"
      ]
     },
     "metadata": {},
     "output_type": "display_data"
    },
    {
     "name": "stdout",
     "output_type": "stream",
     "text": [
      "MOL ERROR :  Sanitization error: Explicit valence for atom # 27 Cl, 2, is greater than permitted\n",
      "MOL ERROR :  Sanitization error: Explicit valence for atom # 12 O, 3, is greater than permitted\n",
      "MOL ERROR :  Sanitization error: Explicit valence for atom # 25 O, 3, is greater than permitted\n",
      "MOL ERROR :  Sanitization error: Explicit valence for atom # 18 Cl, 2, is greater than permitted\n",
      "MOL ERROR :  Sanitization error: Explicit valence for atom # 0 C, 5, is greater than permitted\n",
      "MOL ERROR :  Sanitization error: Explicit valence for atom # 6 Cl, 2, is greater than permitted\n",
      "MOL ERROR :  Sanitization error: Explicit valence for atom # 13 O, 3, is greater than permitted\n",
      "MOL ERROR :  Sanitization error: Explicit valence for atom # 0 Cl, 2, is greater than permitted\n",
      "MOL ERROR :  Sanitization error: Explicit valence for atom # 19 O, 3, is greater than permitted\n",
      "MOL ERROR :  Sanitization error: Explicit valence for atom # 21 N, 4, is greater than permitted\n",
      "MOL ERROR :  Sanitization error: Explicit valence for atom # 24 O, 3, is greater than permitted\n",
      "MOL ERROR :  Sanitization error: Explicit valence for atom # 4 O, 3, is greater than permitted\n",
      "MOL ERROR :  Sanitization error: Explicit valence for atom # 0 Br, 2, is greater than permitted\n",
      "MOL ERROR :  Sanitization error: Explicit valence for atom # 0 Cl, 2, is greater than permitted\n",
      "MOL ERROR :  Sanitization error: Explicit valence for atom # 4 Se, 8, is greater than permitted\n",
      "MOL ERROR :  Sanitization error: Explicit valence for atom # 0 Cl, 2, is greater than permitted\n",
      "MOL ERROR :  Sanitization error: Explicit valence for atom # 1 N, 4, is greater than permitted\n",
      "MOL ERROR :  Sanitization error: Explicit valence for atom # 8 O, 3, is greater than permitted\n",
      "MOL ERROR :  Sanitization error: Explicit valence for atom # 1 N, 4, is greater than permitted\n",
      "MOL ERROR :  Sanitization error: Explicit valence for atom # 0 Cl, 2, is greater than permitted\n",
      "MOL ERROR :  Sanitization error: Explicit valence for atom # 11 O, 3, is greater than permitted\n",
      "MOL ERROR :  Sanitization error: Explicit valence for atom # 0 C, 5, is greater than permitted\n",
      "MOL ERROR :  Sanitization error: Explicit valence for atom # 11 Cl, 2, is greater than permitted\n",
      "MOL ERROR :  Sanitization error: Explicit valence for atom # 1 N, 4, is greater than permitted\n",
      "MOL ERROR :  Sanitization error: Explicit valence for atom # 6 Cl, 2, is greater than permitted\n",
      "MOL ERROR :  Sanitization error: Explicit valence for atom # 18 O, 3, is greater than permitted\n",
      "MOL ERROR :  Sanitization error: Explicit valence for atom # 5 C, 5, is greater than permitted\n",
      "MOL ERROR :  Sanitization error: Explicit valence for atom # 0 Cl, 2, is greater than permitted\n",
      "MOL ERROR :  Sanitization error: Explicit valence for atom # 0 Cl, 2, is greater than permitted\n",
      "MOL ERROR :  Sanitization error: Explicit valence for atom # 10 Cl, 2, is greater than permitted\n",
      "MOL ERROR :  Sanitization error: Explicit valence for atom # 14 O, 3, is greater than permitted\n",
      "MOL ERROR :  Sanitization error: Explicit valence for atom # 6 N, 4, is greater than permitted\n",
      "MOL ERROR :  Sanitization error: Explicit valence for atom # 18 O, 3, is greater than permitted\n",
      "MOL ERROR :  Sanitization error: Explicit valence for atom # 0 Br, 2, is greater than permitted\n",
      "MOL ERROR :  Sanitization error: Explicit valence for atom # 1 N, 4, is greater than permitted\n",
      "MOL ERROR :  Sanitization error: Explicit valence for atom # 5 Cl, 2, is greater than permitted\n",
      "MOL ERROR :  Sanitization error: Explicit valence for atom # 9 O, 3, is greater than permitted\n",
      "MOL ERROR :  Sanitization error: Explicit valence for atom # 11 Cl, 2, is greater than permitted\n",
      "MOL ERROR :  Sanitization error: Explicit valence for atom # 0 Cl, 2, is greater than permitted\n",
      "MOL ERROR :  Sanitization error: Explicit valence for atom # 8 O, 3, is greater than permitted\n",
      "MOL ERROR :  Sanitization error: Explicit valence for atom # 12 O, 4, is greater than permitted\n",
      "MOL ERROR :  Sanitization error: Explicit valence for atom # 21 O, 4, is greater than permitted\n",
      "MOL ERROR :  Sanitization error: Explicit valence for atom # 0 Cl, 2, is greater than permitted\n",
      "MOL ERROR :  Sanitization error: Explicit valence for atom # 7 N, 4, is greater than permitted\n",
      "MOL ERROR :  Sanitization error: Explicit valence for atom # 20 O, 3, is greater than permitted\n",
      "MOL ERROR :  Sanitization error: Explicit valence for atom # 4 N, 4, is greater than permitted\n",
      "MOL ERROR :  Sanitization error: Explicit valence for atom # 0 Cl, 2, is greater than permitted\n",
      "MOL ERROR :  Sanitization error: Explicit valence for atom # 10 Cl, 2, is greater than permitted\n",
      "MOL ERROR :  Sanitization error: Explicit valence for atom # 21 Cl, 2, is greater than permitted\n",
      "MOL ERROR :  Sanitization error: Explicit valence for atom # 5 C, 5, is greater than permitted\n",
      "MOL ERROR :  Sanitization error: Explicit valence for atom # 10 Cl, 2, is greater than permitted\n",
      "MOL ERROR :  Sanitization error: Explicit valence for atom # 19 O, 3, is greater than permitted\n",
      "MOL ERROR :  Sanitization error: Explicit valence for atom # 8 Cl, 2, is greater than permitted\n",
      "MOL ERROR :  Sanitization error: Explicit valence for atom # 12 Cl, 2, is greater than permitted\n",
      "MOL ERROR :  Sanitization error: Explicit valence for atom # 14 N, 4, is greater than permitted\n",
      "MOL ERROR :  Sanitization error: Explicit valence for atom # 30 O, 3, is greater than permitted\n",
      "MOL ERROR :  Sanitization error: Explicit valence for atom # 25 O, 3, is greater than permitted\n",
      "MOL ERROR :  Sanitization error: Explicit valence for atom # 13 O, 3, is greater than permitted\n",
      "MOL ERROR :  Sanitization error: Explicit valence for atom # 5 Br, 2, is greater than permitted\n",
      "MOL ERROR :  Sanitization error: Explicit valence for atom # 25 N, 4, is greater than permitted\n",
      "MOL ERROR :  Sanitization error: Explicit valence for atom # 11 Cl, 2, is greater than permitted\n",
      "MOL ERROR :  Sanitization error: Explicit valence for atom # 18 Cl, 2, is greater than permitted\n",
      "MOL ERROR :  Sanitization error: Explicit valence for atom # 26 O, 3, is greater than permitted\n",
      "MOL ERROR :  Sanitization error: Explicit valence for atom # 0 Cl, 2, is greater than permitted\n",
      "MOL ERROR :  Sanitization error: Explicit valence for atom # 10 Cl, 2, is greater than permitted\n",
      "MOL ERROR :  Sanitization error: Explicit valence for atom # 2 O, 3, is greater than permitted\n",
      "MOL ERROR :  Sanitization error: Explicit valence for atom # 5 Cl, 2, is greater than permitted\n",
      "MOL ERROR :  Sanitization error: Explicit valence for atom # 7 O, 3, is greater than permitted\n",
      "MOL ERROR :  Sanitization error: Explicit valence for atom # 15 O, 3, is greater than permitted\n",
      "MOL ERROR :  Sanitization error: Explicit valence for atom # 22 Cl, 2, is greater than permitted\n",
      "MOL ERROR :  Sanitization error: Explicit valence for atom # 5 N, 4, is greater than permitted\n",
      "MOL ERROR :  Sanitization error: Explicit valence for atom # 13 Cl, 2, is greater than permitted\n",
      "MOL ERROR :  Sanitization error: Explicit valence for atom # 31 Cl, 2, is greater than permitted\n",
      "MOL ERROR :  Sanitization error: Explicit valence for atom # 4 N, 4, is greater than permitted\n",
      "MOL ERROR :  Sanitization error: Explicit valence for atom # 20 O, 4, is greater than permitted\n",
      "MOL ERROR :  Sanitization error: Explicit valence for atom # 12 Cl, 2, is greater than permitted\n",
      "MOL ERROR :  Sanitization error: Explicit valence for atom # 8 O, 3, is greater than permitted\n",
      "MOL ERROR :  Sanitization error: Explicit valence for atom # 1 B, 4, is greater than permitted\n",
      "MOL ERROR :  Sanitization error: Explicit valence for atom # 15 N, 4, is greater than permitted\n",
      "MOL ERROR :  Sanitization error: Explicit valence for atom # 19 O, 3, is greater than permitted\n",
      "MOL ERROR :  Sanitization error: Explicit valence for atom # 6 O, 3, is greater than permitted\n",
      "MOL ERROR :  Sanitization error: Explicit valence for atom # 6 N, 4, is greater than permitted\n",
      "MOL ERROR :  Sanitization error: Explicit valence for atom # 12 O, 3, is greater than permitted\n",
      "MOL ERROR :  Sanitization error: Explicit valence for atom # 15 O, 3, is greater than permitted\n",
      "MOL ERROR :  Sanitization error: Explicit valence for atom # 26 Cl, 2, is greater than permitted\n",
      "MOL ERROR :  Sanitization error: Explicit valence for atom # 11 O, 3, is greater than permitted\n",
      "MOL ERROR :  Sanitization error: Explicit valence for atom # 5 Cl, 2, is greater than permitted\n",
      "MOL ERROR :  Sanitization error: Explicit valence for atom # 5 B, 4, is greater than permitted\n",
      "MOL ERROR :  Sanitization error: Explicit valence for atom # 13 N, 4, is greater than permitted\n",
      "MOL ERROR :  Sanitization error: Explicit valence for atom # 7 O, 3, is greater than permitted\n",
      "MOL ERROR :  Sanitization error: Explicit valence for atom # 1 Se, 7, is greater than permitted\n",
      "MOL ERROR :  Sanitization error: Explicit valence for atom # 13 N, 5, is greater than permitted\n",
      "MOL ERROR :  Sanitization error: Explicit valence for atom # 12 Cl, 2, is greater than permitted\n",
      "MOL ERROR :  Sanitization error: Explicit valence for atom # 30 O, 3, is greater than permitted\n",
      "MOL ERROR :  Sanitization error: Explicit valence for atom # 9 O, 4, is greater than permitted\n",
      "MOL ERROR :  Sanitization error: Explicit valence for atom # 10 N, 4, is greater than permitted\n",
      "MOL ERROR :  Sanitization error: Explicit valence for atom # 34 O, 3, is greater than permitted\n",
      "MOL ERROR :  Sanitization error: Explicit valence for atom # 16 O, 4, is greater than permitted\n",
      "MOL ERROR :  Sanitization error: Explicit valence for atom # 24 N, 4, is greater than permitted\n",
      "MOL ERROR :  Sanitization error: Explicit valence for atom # 6 N, 4, is greater than permitted\n",
      "MOL ERROR :  Sanitization error: Explicit valence for atom # 0 Cl, 2, is greater than permitted\n",
      "MOL ERROR :  Sanitization error: Explicit valence for atom # 17 O, 4, is greater than permitted\n",
      "MOL ERROR :  Sanitization error: Explicit valence for atom # 15 Br, 2, is greater than permitted\n",
      "MOL ERROR :  Sanitization error: Explicit valence for atom # 0 Br, 2, is greater than permitted\n",
      "MOL ERROR :  Sanitization error: Explicit valence for atom # 11 Cl, 2, is greater than permitted\n",
      "MOL ERROR :  Sanitization error: Explicit valence for atom # 10 Cl, 2, is greater than permitted\n",
      "MOL ERROR :  Sanitization error: Explicit valence for atom # 5 O, 3, is greater than permitted\n",
      "MOL ERROR :  Sanitization error: Explicit valence for atom # 22 Cl, 2, is greater than permitted\n",
      "MOL ERROR :  Sanitization error: Explicit valence for atom # 11 Cl, 2, is greater than permitted\n",
      "MOL ERROR :  Sanitization error: Explicit valence for atom # 23 Cl, 2, is greater than permitted\n",
      "MOL ERROR :  Sanitization error: Explicit valence for atom # 12 O, 3, is greater than permitted\n",
      "MOL ERROR :  Sanitization error: Explicit valence for atom # 5 O, 3, is greater than permitted\n",
      "MOL ERROR :  Sanitization error: Explicit valence for atom # 0 Cl, 2, is greater than permitted\n",
      "MOL ERROR :  Sanitization error: Explicit valence for atom # 14 Cl, 2, is greater than permitted\n",
      "MOL ERROR :  Sanitization error: Explicit valence for atom # 13 Cl, 2, is greater than permitted\n",
      "MOL ERROR :  Sanitization error: Explicit valence for atom # 0 Br, 2, is greater than permitted\n",
      "MOL ERROR :  Sanitization error: Explicit valence for atom # 19 O, 3, is greater than permitted\n",
      "MOL ERROR :  Sanitization error: Explicit valence for atom # 9 N, 4, is greater than permitted\n",
      "MOL ERROR :  Sanitization error: Explicit valence for atom # 13 O, 3, is greater than permitted\n",
      "MOL ERROR :  Sanitization error: Explicit valence for atom # 3 Cl, 2, is greater than permitted\n",
      "MOL ERROR :  Sanitization error: Explicit valence for atom # 15 O, 3, is greater than permitted\n",
      "MOL ERROR :  Sanitization error: Explicit valence for atom # 10 O, 4, is greater than permitted\n",
      "MOL ERROR :  Sanitization error: Explicit valence for atom # 5 N, 4, is greater than permitted\n",
      "MOL ERROR :  Sanitization error: Explicit valence for atom # 5 C, 5, is greater than permitted\n",
      "MOL ERROR :  Sanitization error: Explicit valence for atom # 13 Br, 2, is greater than permitted\n",
      "MOL ERROR :  Sanitization error: Explicit valence for atom # 2 O, 3, is greater than permitted\n",
      "MOL ERROR :  Sanitization error: Explicit valence for atom # 3 O, 3, is greater than permitted\n",
      "MOL ERROR :  Sanitization error: Explicit valence for atom # 6 N, 5, is greater than permitted\n",
      "MOL ERROR :  Sanitization error: Explicit valence for atom # 12 Br, 2, is greater than permitted\n",
      "MOL ERROR :  Sanitization error: Explicit valence for atom # 7 Cl, 2, is greater than permitted\n",
      "MOL ERROR :  Sanitization error: Explicit valence for atom # 16 O, 4, is greater than permitted\n",
      "MOL ERROR :  Sanitization error: Explicit valence for atom # 13 O, 3, is greater than permitted\n",
      "MOL ERROR :  Sanitization error: Explicit valence for atom # 0 Br, 2, is greater than permitted\n",
      "MOL ERROR :  Sanitization error: Explicit valence for atom # 13 N, 4, is greater than permitted\n",
      "MOL ERROR :  Sanitization error: Explicit valence for atom # 2 O, 3, is greater than permitted\n",
      "MOL ERROR :  Sanitization error: Explicit valence for atom # 13 Cl, 2, is greater than permitted\n",
      "MOL ERROR :  Sanitization error: Explicit valence for atom # 0 Cl, 2, is greater than permitted\n",
      "MOL ERROR :  Sanitization error: Explicit valence for atom # 11 O, 3, is greater than permitted\n",
      "MOL ERROR :  Sanitization error: Explicit valence for atom # 0 Br, 2, is greater than permitted\n",
      "MOL ERROR :  Sanitization error: Explicit valence for atom # 3 O, 3, is greater than permitted\n",
      "MOL ERROR :  Sanitization error: Explicit valence for atom # 12 O, 3, is greater than permitted\n",
      "MOL ERROR :  Sanitization error: Explicit valence for atom # 6 Cl, 2, is greater than permitted\n",
      "MOL ERROR :  Sanitization error: Explicit valence for atom # 28 O, 3, is greater than permitted\n",
      "MOL ERROR :  Sanitization error: Explicit valence for atom # 7 Br, 2, is greater than permitted\n",
      "MOL ERROR :  Sanitization error: Explicit valence for atom # 5 N, 4, is greater than permitted\n",
      "MOL ERROR :  Sanitization error: Explicit valence for atom # 6 N, 5, is greater than permitted\n",
      "\n"
     ]
    }
   ],
   "source": [
    "num_gen = 10_000\n",
    "draw    = False\n",
    "pred_mols, pred_smiles, logp_data, tpsa_data, qed_data, sas_data = generate_random(num_gen, draw=draw)"
   ]
  },
  {
   "cell_type": "code",
   "execution_count": 71,
   "metadata": {},
   "outputs": [],
   "source": [
    "# reconstruct(dataset_smiles[0], deterministic=False)"
   ]
  },
  {
   "cell_type": "code",
   "execution_count": 76,
   "metadata": {},
   "outputs": [
    {
     "data": {
      "image/png": "[encoded data removed]",
      "text/plain": [
       "<Figure size 432x288 with 13 Axes>"
      ]
     },
     "metadata": {
      "needs_background": "light"
     },
     "output_type": "display_data"
    },
    {
     "data": {
      "image/png": "[encoded data removed]",
      "text/plain": [
       "<Figure size 432x288 with 17 Axes>"
      ]
     },
     "metadata": {
      "needs_background": "light"
     },
     "output_type": "display_data"
    }
   ],
   "source": [
    "logp_map = defaultdict(list)\n",
    "for i in sorted(logp_data, key=lambda x:x[0]):\n",
    "    logp_map[i[0]].append(i[1])\n",
    "logp_map['dataset'] = dataset_logP\n",
    "\n",
    "tpsa_map = defaultdict(list)\n",
    "for i in sorted(tpsa_data, key=lambda x:x[0]):\n",
    "    tpsa_map[i[0]].append(i[1])\n",
    "tpsa_map['dataset'] = [x*10 for x in dataset_tpsa]\n",
    "\n",
    "# qed_map = defaultdict(list)\n",
    "# for i in sorted(qed_data, key=lambda x:x[0]):\n",
    "#     qed_map[i[0]].append(i[1])\n",
    "# qed_map['dataset'] = dataset_qed\n",
    "\n",
    "# sas_map = defaultdict(list)\n",
    "# for i in sorted(sas_data, key=lambda x:x[0]):\n",
    "#     sas_map[i[0]].append(i[1])\n",
    "# sas_map['dataset'] = dataset_sas\n",
    "\n",
    "joypy.joyplot(logp_map, grid=True, fade=True, x_range=(-12, 12))#, labels=keys)\n",
    "#plt.xticks(range(-5, 6))\n",
    "#plt.xlabel('Predicted Property')\n",
    "#plt.ylabel('Requested Property')\n",
    "#plt.title('LogP')\n",
    "\n",
    "joypy.joyplot(tpsa_map, grid=True, fade=True, x_range=(-25, 225))#, labels=keys)\n",
    "# #plt.xticks(range(-5, 6))\n",
    "# plt.xlabel('Predicted Property')\n",
    "# plt.ylabel('Requested Property')\n",
    "# plt.title('TPSA')\n",
    "\n",
    "# joypy.joyplot(qed_map, grid=True, fade=True)#, labels=keys)\n",
    "# #plt.xticks(range(0, 11))\n",
    "# # plt.xlim(-5, 6)\n",
    "# plt.xlabel('Predicted Property')\n",
    "# plt.ylabel('Requested Property')\n",
    "# plt.title('QED')\n",
    "\n",
    "# joypy.joyplot(sas_map, grid=True, fade=True)#, labels=keys)\n",
    "# plt.xticks(range(0, 11))\n",
    "# # plt.xlim(-5, 6)\n",
    "# plt.xlabel('Predicted Property')\n",
    "# plt.ylabel('Requested Property')\n",
    "# plt.title('SA Score')\n",
    "\n",
    "plt.show()"
   ]
  },
  {
   "cell_type": "code",
   "execution_count": 73,
   "metadata": {},
   "outputs": [
    {
     "name": "stdout",
     "output_type": "stream",
     "text": [
      "logp  0.5086302127880751\n",
      "tpsa  0.7810551268364674\n"
     ]
    }
   ],
   "source": [
    "x = np.array(logp_data)\n",
    "print('logp ', r2_score(x[:, 0], x[:, 1]))\n",
    "\n",
    "x = np.array(tpsa_data)\n",
    "print('tpsa ', r2_score(x[:, 0], x[:, 1]))"
   ]
  },
  {
   "cell_type": "code",
   "execution_count": 74,
   "metadata": {},
   "outputs": [
    {
     "data": {
      "application/vnd.jupyter.widget-view+json": {
       "model_id": "eed17ba2824143f1b01fb7c2d5ef2489",
       "version_major": 2,
       "version_minor": 0
      },
      "text/plain": [
       "HBox(children=(IntProgress(value=0, max=9285), HTML(value='')))"
      ]
     },
     "metadata": {},
     "output_type": "display_data"
    },
    {
     "name": "stdout",
     "output_type": "stream",
     "text": [
      "\n"
     ]
    }
   ],
   "source": [
    "novel_smiles = []\n",
    "for p_smiles in tqdm(set(pred_smiles)):\n",
    "    if p_smiles not in dataset_smiles:\n",
    "        novel_smiles.append(p_smiles)"
   ]
  },
  {
   "cell_type": "code",
   "execution_count": 75,
   "metadata": {},
   "outputs": [
    {
     "data": {
      "text/plain": [
       "(9838, 9285, 9089)"
      ]
     },
     "execution_count": 75,
     "metadata": {},
     "output_type": "execute_result"
    }
   ],
   "source": [
    "len(pred_smiles), len(set(pred_smiles)), len(set(novel_smiles))"
   ]
  },
  {
   "cell_type": "code",
   "execution_count": null,
   "metadata": {},
   "outputs": [],
   "source": [
    "idx = torch.randint(len(dataset)//2, len(dataset), (1,))\n",
    "smiles = dataset.data[idx]\n",
    "\n",
    "valids = []\n",
    "scores = []\n",
    "for i in range(10):\n",
    "    z, v, s = reconstruct(smiles, deterministic=False)\n",
    "    valids.append(v)\n",
    "    scores.append(s)\n",
    "    #break\n",
    "    \n",
    "print(valids, scores)\n",
    "print(torch.tensor(valids, dtype=float).mean().item(), torch.tensor(scores, dtype=float).mean().item())"
   ]
  },
  {
   "cell_type": "code",
   "execution_count": null,
   "metadata": {},
   "outputs": [],
   "source": [
    "plt.figure(figsize=(32, 32))\n",
    "run('')"
   ]
  },
  {
   "cell_type": "code",
   "execution_count": null,
   "metadata": {},
   "outputs": [],
   "source": [
    "idx = torch.randint(len(dataset)//2, len(dataset), (1,))\n",
    "#idx = 20\n",
    "smiles = dataset.data[idx]\n",
    "mol = Chem.MolFromSmiles(smiles)\n",
    "Draw.MolToMPL(mol); plt.show()\n",
    "#edge_list, node_list, emb, valid, similarity = run_network(smiles)\n",
    "G = run(smiles)"
   ]
  },
  {
   "cell_type": "code",
   "execution_count": null,
   "metadata": {},
   "outputs": [],
   "source": [
    "#smiles = 'C(=O)C=CCC=C'\n",
    "#smiles = 'C'\n",
    "smiles='CC(=O)NC1=CC=CC=C1C(=O)O'\n",
    "#reconstruct(smiles)\n",
    "# smiles='C1=CC=C(C(=C1)C(=O)OC2=CC=CC=C2C(=O)O)O'\n",
    "# smiles='CCC[NH2+]C1CCC(O)(Cc2nc(C)cs2)CC1'\n",
    "# smiles='C#CCOCC1CCN(C(=O)c2ccc(S(=O)(=O)N3CCCC[C@H]3C)cc2)CC1'\n",
    "# smiles='Cc1cccc2sc(NC(=O)[C@H](C)N3C(=O)[C@@H]4CC=CC[C@H]4C3=O)nc12'\n",
    "# smiles='Cc1cc(C(=O)Nc2ccc(OCC(N)=O)cc2)c(C)n1C1CC1'\n",
    "# smiles='CCOc1ccc2nc(N(C[C@@H]3CCCO3)C(=O)c3ccccc3S(C)(=O)=O)sc2c1'\n",
    "# smiles='COc1cc(C(=O)N(Cc2cccc(F)c2)[C@H]2CCS(=O)(=O)C2)cc(OC)c1OC'\n",
    "mol = Chem.MolFromSmiles(smiles)\n",
    "Draw.MolToMPL(mol); plt.show()\n",
    "#G = mol2graph(mol)[0]\n",
    "#G.to(DEVICE)\n",
    "#mu, var = enc(G)\n",
    "run(smiles)"
   ]
  },
  {
   "cell_type": "raw",
   "metadata": {},
   "source": [
    "total_score = 0\n",
    "for i in tqdm(range(len(dataset)//2, len(dataset))):\n",
    "    smiles = dataset.data[idx]\n",
    "\n",
    "    valids = []\n",
    "    scores = []\n",
    "    for i in range(10):\n",
    "        z, v, s = reconstruct(smiles, draw=False)\n",
    "        valids.append(v)\n",
    "        scores.append(s)\n",
    "        \n",
    "    total_score += torch.tensor(scores, dtype=float).mean().item()\n",
    "    \n",
    "total_score /= len(dataset)//2"
   ]
  },
  {
   "cell_type": "raw",
   "metadata": {},
   "source": [
    "emb_list = []\n",
    "valid_list = []\n",
    "sim_list = []\n",
    "\n",
    "processed = []\n",
    "for i in tqdm(range(6000)):\n",
    "    while True:\n",
    "        idx = torch.randint(len(dataset), (1,))\n",
    "        if idx not in processed: break\n",
    "    processed.append(idx)\n",
    "    smiles = dataset.data[idx]\n",
    "    emb, valid, similarity = reconstruct(smiles, draw=False)\n",
    "    emb_list.append(emb.data.cpu().numpy())\n",
    "    valid_list.append(valid)\n",
    "    sim_list.append(similarity)"
   ]
  },
  {
   "cell_type": "raw",
   "metadata": {},
   "source": [
    "tsne = TSNE(n_components=2, random_state=10)\n",
    "emb_2d = tsne.fit_transform(emb_list)"
   ]
  },
  {
   "cell_type": "raw",
   "metadata": {},
   "source": [
    "plt.figure(figsize=(20, 10))\n",
    "plt.subplot(121)\n",
    "plt.scatter(emb_2d[:, 0], emb_2d[:, 1], c=valid_list, s=20, cmap='RdBu', alpha=0.7)\n",
    "plt.colorbar()\n",
    "\n",
    "plt.subplot(122)\n",
    "plt.scatter(emb_2d[:, 0], emb_2d[:, 1], c=sim_list, s=20, alpha=0.7)\n",
    "plt.colorbar()\n",
    "plt.show()\n",
    "\n",
    "plt.show()"
   ]
  },
  {
   "cell_type": "raw",
   "metadata": {},
   "source": [
    "predicted = nx.Graph()\n",
    "for i, n in enumerate(node_list):\n",
    "    predicted.add_node(i, atom=n)\n",
    "for e, bt in edge_list:\n",
    "    predicted.add_edge(*e, bond_type=bt)\n",
    "    \n",
    "plt.figure()\n",
    "plt.title(len(node_list))\n",
    "#pos = nx.spring_layout(predicted)\n",
    "pos = nx.kamada_kawai_layout(predicted)\n",
    "nx.draw(predicted, pos)\n",
    "node_labels = nx.get_node_attributes(predicted, 'atom')\n",
    "nx.draw_networkx_labels(predicted, pos, labels=node_labels)\n",
    "edge_labels = nx.get_edge_attributes(predicted, 'bond_type')\n",
    "nx.draw_networkx_edge_labels(predicted, pos, edge_labels=edge_labels)\n",
    "plt.show()"
   ]
  },
  {
   "cell_type": "code",
   "execution_count": null,
   "metadata": {},
   "outputs": [],
   "source": []
  },
  {
   "cell_type": "code",
   "execution_count": null,
   "metadata": {},
   "outputs": [],
   "source": [
    "mol"
   ]
  },
  {
   "cell_type": "code",
   "execution_count": null,
   "metadata": {},
   "outputs": [],
   "source": []
  }
 ],
 "metadata": {
  "kernelspec": {
   "display_name": "Python 3",
   "language": "python",
   "name": "python3"
  },
  "language_info": {
   "codemirror_mode": {
    "name": "ipython",
    "version": 3
   },
   "file_extension": ".py",
   "mimetype": "text/x-python",
   "name": "python",
   "nbconvert_exporter": "python",
   "pygments_lexer": "ipython3",
   "version": "3.7.3"
  }
 },
 "nbformat": 4,
 "nbformat_minor": 4
}
