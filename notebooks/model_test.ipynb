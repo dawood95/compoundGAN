{
 "cells": [
  {
   "cell_type": "code",
   "execution_count": 1,
   "metadata": {},
   "outputs": [
    {
     "name": "stdout",
     "output_type": "stream",
     "text": [
      "/home/dawood/Workspace/compoundGAN\n"
     ]
    }
   ],
   "source": [
    "%cd .."
   ]
  },
  {
   "cell_type": "code",
   "execution_count": 2,
   "metadata": {},
   "outputs": [],
   "source": [
    "import torch\n",
    "import dgl\n",
    "import random\n",
    "import networkx as nx\n",
    "import numpy as np\n",
    "\n",
    "from tqdm.notebook import tqdm \n",
    "from collections import defaultdict\n",
    "\n",
    "from rdkit import Chem\n",
    "from rdkit import DataStructs\n",
    "from rdkit.Chem import Draw\n",
    "from rdkit.Chem.Fingerprints import FingerprintMols\n",
    "from PIL import Image\n",
    "\n",
    "import selfies\n",
    "from selfies import encoder as selfies_encoder\n",
    "from selfies import decoder as selfies_decoder\n",
    "from data.selfies import SELFIES, SELFIE_VOCAB, SELFIES_STEREO\n",
    "\n",
    "from models.network import CVAEF\n",
    "\n",
    "from sklearn.metrics import r2_score\n",
    "from sklearn.manifold import TSNE\n",
    "from matplotlib import pyplot as plt\n",
    "plt.style.use('ggplot')\n",
    "%matplotlib inline\n",
    "\n",
    "DEVICE = torch.device('cpu')\n",
    "\n",
    "random.seed(42)"
   ]
  },
  {
   "cell_type": "code",
   "execution_count": 3,
   "metadata": {},
   "outputs": [
    {
     "data": {
      "application/vnd.jupyter.widget-view+json": {
       "model_id": "09d24e540af04cbd8de984645ffd5084",
       "version_major": 2,
       "version_minor": 0
      },
      "text/plain": [
       "HBox(children=(IntProgress(value=0, max=249455), HTML(value='')))"
      ]
     },
     "metadata": {},
     "output_type": "display_data"
    },
    {
     "name": "stdout",
     "output_type": "stream",
     "text": [
      "\n"
     ]
    }
   ],
   "source": [
    "dataset = SELFIES('/home/dawood/Datasets/ZINC250K/data.csv')\n",
    "dataset_smiles = []\n",
    "for smiles in tqdm(dataset.data):\n",
    "    mol = Chem.MolFromSmiles(smiles)\n",
    "    Chem.Kekulize(mol)\n",
    "    smiles = Chem.CanonSmiles(Chem.MolToSmiles(mol))\n",
    "    dataset_smiles.append(smiles)"
   ]
  },
  {
   "cell_type": "code",
   "execution_count": 10,
   "metadata": {},
   "outputs": [
    {
     "name": "stdout",
     "output_type": "stream",
     "text": [
      "111 inf\n"
     ]
    }
   ],
   "source": [
    "#state_dict = torch.load('/home/dawood/Experiments/compound-gan-c7f57372210a4de2a2af310e75c54d4f/model_76.weights', map_location='cpu')#\n",
    "#state_dict = torch.load('/home/dawood/Experiments/compound-gan-0f740abcf5244a9d91ad75689c747fcb/model_177.weights', map_location='cpu')#\n",
    "#state_dict = from tqdm.notebook import trange, tqdmtorch.load('/home/dawood/Experiments/compound-gan-9657e4bc21494989a3ab04e2e973deb7/model_29.weights', map_location='cpu')\n",
    "#state_dict = torch.load('/home/dawood/Experiments/compound-gan-c9f3638c8cb1488ab503d28fea2d4752/model_80.weights', map_location='cpu')\n",
    "state_dict = torch.load('./model.weights', map_location='cpu')#.weights')\n",
    "print(state_dict['epoch'], state_dict['seq_len'])\n",
    "seq_len = state_dict['seq_len']\n",
    "seq_len = 64 if seq_len == np.inf else seq_len"
   ]
  },
  {
   "cell_type": "code",
   "execution_count": 11,
   "metadata": {},
   "outputs": [],
   "source": [
    "D = 256\n",
    "model = CVAEF([81, 3], D,\n",
    "              [D, D, D, D], 1, 0.9, True, use_adjoint=False, num_decoder_layers=4)\n",
    "model.load_state_dict(state_dict['parameters'])\n",
    "model = model.eval().to(DEVICE)"
   ]
  },
  {
   "cell_type": "code",
   "execution_count": 12,
   "metadata": {},
   "outputs": [],
   "source": [
    "def pred2smiles(x):\n",
    "    seq = []\n",
    "    for (i, j) in zip(x[:, :81].argmax(-1).long().tolist(), x[:, 81:].argmax(-1).long().tolist()):\n",
    "        t = SELFIE_VOCAB[i]\n",
    "        s = SELFIES_STEREO[j]\n",
    "\n",
    "        if i != 0 and i != 1:\n",
    "            t = '[' + s + t[1:]\n",
    "\n",
    "        seq.append(t)\n",
    "\n",
    "        if i == 1:\n",
    "            break\n",
    "        \n",
    "    selfie = ''.join(seq)\n",
    "    smiles = selfies.decoder(selfie.replace('[START]', '').replace('[END]', ''))\n",
    "    \n",
    "    mol = Chem.MolFromSmiles(smiles, sanitize=False)\n",
    "    if mol is not None:\n",
    "        try:\n",
    "            Chem.SanitizeMol(mol, catchErrors=False)\n",
    "            smiles = Chem.MolToSmiles(mol)\n",
    "            return smiles, mol\n",
    "        except Exception as e:\n",
    "            print('MOL ERROR : ', e)\n",
    "    else:\n",
    "        print('SMILES ERROR for ', smiles, ' ', selfie)\n",
    "        \n",
    "    return '', None\n",
    "                \n",
    "def reconstruct(smiles, draw=True, deterministic=False, seq_len=100):\n",
    "    mol = Chem.MolFromSmiles(smiles)\n",
    "    G = mol2graph(mol)[0]\n",
    "    G.to(DEVICE)\n",
    "        \n",
    "    mu, var = model.encoder(G)\n",
    "    if not deterministic:\n",
    "        z = model.reparameterize(mu, var).unsqueeze(0)\n",
    "    else:\n",
    "        z = mu.unsqueeze(0)\n",
    "            \n",
    "    G = model.decoder.generate(z, seq_len)\n",
    "\n",
    "    pred_mol = graph2mol(G)\n",
    "    \n",
    "    fp_gt   = FingerprintMols.FingerprintMol(mol)\n",
    "    fp_pred = FingerprintMols.FingerprintMol(pred_mol)\n",
    "    similarity = DataStructs.FingerprintSimilarity(fp_gt, fp_pred)\n",
    "    \n",
    "    try:\n",
    "        Chem.SanitizeMol(pred_mol, catchErrors=False)\n",
    "        valid = 1\n",
    "    except Exception as e:\n",
    "        print(e)\n",
    "        valid = 0\n",
    "      \n",
    "    if draw:\n",
    "        try:\n",
    "            img = Draw.MolsToGridImage([mol, pred_mol], molsPerRow=2, subImgSize=(400, 400), legends=['GT', 'Pred'])\n",
    "            plt.figure(figsize=(8, 8))\n",
    "            plt.imshow(img, interpolation='bilinear')\n",
    "        except Exception as e:\n",
    "            Draw.MolToMPL(mol, size=(250, 250)); \n",
    "            \n",
    "        plt.axis('off')\n",
    "        plt.show()\n",
    "    \n",
    "    return z, valid, similarity#edge_list, node_list, z, valid, similarity\n",
    "\n",
    "def generate_random(num_mols, draw=True):\n",
    "\n",
    "    pred_smiles = []\n",
    "    pred_mols   = []\n",
    "    logP_data   = []\n",
    "\n",
    "    for i in tqdm(range(num_mols//32)):\n",
    "        z = torch.zeros((32, D))\n",
    "        logP = torch.zeros((32, 1))\n",
    "        for j in range(len(z)):\n",
    "            z[j].normal_(0, 1)\n",
    "            logP[j].uniform_(0, 1)\n",
    "            logP[j] = (logP[j] - 0.5) * 8\n",
    "        \n",
    "        z = z.to(DEVICE)\n",
    "        z = model.cnf(z, logP, None, True)[0]\n",
    "\n",
    "        pred = model.decoder.generate(z, seq_len)\n",
    "        \n",
    "        for b in range(pred.shape[1]):\n",
    "            smiles, mol = pred2smiles(pred[:, b])\n",
    "            if mol is not None:\n",
    "                pred_mols.append(mol)\n",
    "                pred_smiles.append(Chem.CanonSmiles(Chem.MolToSmiles(mol)))\n",
    "                pred_logP = Chem.Descriptors.MolLogP(mol)\n",
    "                logP_data.append((logP[b].item(), pred_logP))\n",
    "    \n",
    "    num_mols = len(pred_mols)\n",
    "\n",
    "    if draw:\n",
    "        img = Draw.MolsToGridImage(pred_mols, molsPerRow=4, subImgSize=(400, 400))\n",
    "        plt.figure(figsize=(num_mols*2, num_mols*2))\n",
    "        plt.imshow(img, interpolation='bilinear')\n",
    "        plt.axis('off')\n",
    "        plt.show()\n",
    "    \n",
    "    return pred_mols, pred_smiles, logP_data"
   ]
  },
  {
   "cell_type": "code",
   "execution_count": null,
   "metadata": {},
   "outputs": [
    {
     "data": {
      "application/vnd.jupyter.widget-view+json": {
       "model_id": "5da63d1403f64262b1dbb6b52df22da9",
       "version_major": 2,
       "version_minor": 0
      },
      "text/plain": [
       "HBox(children=(IntProgress(value=0, max=3), HTML(value='')))"
      ]
     },
     "metadata": {},
     "output_type": "display_data"
    },
    {
     "name": "stdout",
     "output_type": "stream",
     "text": [
      "MOL ERROR :  Sanitization error: Explicit valence for atom # 14 O, 3, is greater than permitted\n",
      "MOL ERROR :  Sanitization error: Explicit valence for atom # 12 O, 3, is greater than permitted\n"
     ]
    }
   ],
   "source": [
    "pred_mols, pred_smiles, logP_data = generate_random(100, draw=False)"
   ]
  },
  {
   "cell_type": "code",
   "execution_count": null,
   "metadata": {},
   "outputs": [],
   "source": [
    "plt.figure()\n",
    "plt.scatter([i[0] for i in logP_data], [i[1] for i in logP_data])\n",
    "plt.plot([-4, 4], [-4, 4], 'C1--')\n",
    "plt.xlabel('Requested LogP')\n",
    "plt.ylabel('Predicted Mol\\'s LogP')\n",
    "plt.show()"
   ]
  },
  {
   "cell_type": "code",
   "execution_count": null,
   "metadata": {},
   "outputs": [],
   "source": [
    "novel_smiles = []\n",
    "for p_smiles in set(pred_smiles):\n",
    "    if p_smiles not in dataset_smiles:\n",
    "        novel_smiles.append(p_smiles)"
   ]
  },
  {
   "cell_type": "code",
   "execution_count": null,
   "metadata": {},
   "outputs": [],
   "source": [
    "len(pred_smiles), len(set(pred_smiles)), len(set(novel_smiles))"
   ]
  },
  {
   "cell_type": "code",
   "execution_count": 82,
   "metadata": {},
   "outputs": [
    {
     "ename": "NameError",
     "evalue": "name 'mol2graph' is not defined",
     "output_type": "error",
     "traceback": [
      "\u001b[0;31m---------------------------------------------------------------------------\u001b[0m",
      "\u001b[0;31mNameError\u001b[0m                                 Traceback (most recent call last)",
      "\u001b[0;32m<ipython-input-82-bedd621ee273>\u001b[0m in \u001b[0;36m<module>\u001b[0;34m\u001b[0m\n\u001b[1;32m      5\u001b[0m \u001b[0mscores\u001b[0m \u001b[0;34m=\u001b[0m \u001b[0;34m[\u001b[0m\u001b[0;34m]\u001b[0m\u001b[0;34m\u001b[0m\u001b[0;34m\u001b[0m\u001b[0m\n\u001b[1;32m      6\u001b[0m \u001b[0;32mfor\u001b[0m \u001b[0mi\u001b[0m \u001b[0;32min\u001b[0m \u001b[0mrange\u001b[0m\u001b[0;34m(\u001b[0m\u001b[0;36m10\u001b[0m\u001b[0;34m)\u001b[0m\u001b[0;34m:\u001b[0m\u001b[0;34m\u001b[0m\u001b[0;34m\u001b[0m\u001b[0m\n\u001b[0;32m----> 7\u001b[0;31m     \u001b[0mz\u001b[0m\u001b[0;34m,\u001b[0m \u001b[0mv\u001b[0m\u001b[0;34m,\u001b[0m \u001b[0ms\u001b[0m \u001b[0;34m=\u001b[0m \u001b[0mreconstruct\u001b[0m\u001b[0;34m(\u001b[0m\u001b[0msmiles\u001b[0m\u001b[0;34m,\u001b[0m \u001b[0mdeterministic\u001b[0m\u001b[0;34m=\u001b[0m\u001b[0;32mFalse\u001b[0m\u001b[0;34m)\u001b[0m\u001b[0;34m\u001b[0m\u001b[0;34m\u001b[0m\u001b[0m\n\u001b[0m\u001b[1;32m      8\u001b[0m     \u001b[0mvalids\u001b[0m\u001b[0;34m.\u001b[0m\u001b[0mappend\u001b[0m\u001b[0;34m(\u001b[0m\u001b[0mv\u001b[0m\u001b[0;34m)\u001b[0m\u001b[0;34m\u001b[0m\u001b[0;34m\u001b[0m\u001b[0m\n\u001b[1;32m      9\u001b[0m     \u001b[0mscores\u001b[0m\u001b[0;34m.\u001b[0m\u001b[0mappend\u001b[0m\u001b[0;34m(\u001b[0m\u001b[0ms\u001b[0m\u001b[0;34m)\u001b[0m\u001b[0;34m\u001b[0m\u001b[0;34m\u001b[0m\u001b[0m\n",
      "\u001b[0;32m<ipython-input-71-085fe95b1d28>\u001b[0m in \u001b[0;36mreconstruct\u001b[0;34m(smiles, draw, deterministic, seq_len)\u001b[0m\n\u001b[1;32m     33\u001b[0m \u001b[0;32mdef\u001b[0m \u001b[0mreconstruct\u001b[0m\u001b[0;34m(\u001b[0m\u001b[0msmiles\u001b[0m\u001b[0;34m,\u001b[0m \u001b[0mdraw\u001b[0m\u001b[0;34m=\u001b[0m\u001b[0;32mTrue\u001b[0m\u001b[0;34m,\u001b[0m \u001b[0mdeterministic\u001b[0m\u001b[0;34m=\u001b[0m\u001b[0;32mFalse\u001b[0m\u001b[0;34m,\u001b[0m \u001b[0mseq_len\u001b[0m\u001b[0;34m=\u001b[0m\u001b[0;36m100\u001b[0m\u001b[0;34m)\u001b[0m\u001b[0;34m:\u001b[0m\u001b[0;34m\u001b[0m\u001b[0;34m\u001b[0m\u001b[0m\n\u001b[1;32m     34\u001b[0m     \u001b[0mmol\u001b[0m \u001b[0;34m=\u001b[0m \u001b[0mChem\u001b[0m\u001b[0;34m.\u001b[0m\u001b[0mMolFromSmiles\u001b[0m\u001b[0;34m(\u001b[0m\u001b[0msmiles\u001b[0m\u001b[0;34m)\u001b[0m\u001b[0;34m\u001b[0m\u001b[0;34m\u001b[0m\u001b[0m\n\u001b[0;32m---> 35\u001b[0;31m     \u001b[0mG\u001b[0m \u001b[0;34m=\u001b[0m \u001b[0mmol2graph\u001b[0m\u001b[0;34m(\u001b[0m\u001b[0mmol\u001b[0m\u001b[0;34m)\u001b[0m\u001b[0;34m[\u001b[0m\u001b[0;36m0\u001b[0m\u001b[0;34m]\u001b[0m\u001b[0;34m\u001b[0m\u001b[0;34m\u001b[0m\u001b[0m\n\u001b[0m\u001b[1;32m     36\u001b[0m     \u001b[0mG\u001b[0m\u001b[0;34m.\u001b[0m\u001b[0mto\u001b[0m\u001b[0;34m(\u001b[0m\u001b[0mDEVICE\u001b[0m\u001b[0;34m)\u001b[0m\u001b[0;34m\u001b[0m\u001b[0;34m\u001b[0m\u001b[0m\n\u001b[1;32m     37\u001b[0m \u001b[0;34m\u001b[0m\u001b[0m\n",
      "\u001b[0;31mNameError\u001b[0m: name 'mol2graph' is not defined"
     ]
    }
   ],
   "source": [
    "idx = torch.randint(len(dataset)//2, len(dataset), (1,))\n",
    "smiles = dataset.data[idx]\n",
    "\n",
    "valids = []\n",
    "scores = []\n",
    "for i in range(10):\n",
    "    z, v, s = reconstruct(smiles, deterministic=False)\n",
    "    valids.append(v)\n",
    "    scores.append(s)\n",
    "    #break\n",
    "    \n",
    "print(valids, scores)\n",
    "print(torch.tensor(valids, dtype=float).mean().item(), torch.tensor(scores, dtype=float).mean().item())"
   ]
  },
  {
   "cell_type": "code",
   "execution_count": null,
   "metadata": {},
   "outputs": [],
   "source": [
    "plt.figure(figsize=(32, 32))\n",
    "run('')"
   ]
  },
  {
   "cell_type": "code",
   "execution_count": null,
   "metadata": {},
   "outputs": [],
   "source": [
    "idx = torch.randint(len(dataset)//2, len(dataset), (1,))\n",
    "#idx = 20\n",
    "smiles = dataset.data[idx]\n",
    "mol = Chem.MolFromSmiles(smiles)\n",
    "Draw.MolToMPL(mol); plt.show()\n",
    "#edge_list, node_list, emb, valid, similarity = run_network(smiles)\n",
    "G = run(smiles)"
   ]
  },
  {
   "cell_type": "code",
   "execution_count": null,
   "metadata": {},
   "outputs": [],
   "source": [
    "#smiles = 'C(=O)C=CCC=C'\n",
    "#smiles = 'C'\n",
    "smiles='CC(=O)NC1=CC=CC=C1C(=O)O'\n",
    "#reconstruct(smiles)\n",
    "# smiles='C1=CC=C(C(=C1)C(=O)OC2=CC=CC=C2C(=O)O)O'\n",
    "# smiles='CCC[NH2+]C1CCC(O)(Cc2nc(C)cs2)CC1'\n",
    "# smiles='C#CCOCC1CCN(C(=O)c2ccc(S(=O)(=O)N3CCCC[C@H]3C)cc2)CC1'\n",
    "# smiles='Cc1cccc2sc(NC(=O)[C@H](C)N3C(=O)[C@@H]4CC=CC[C@H]4C3=O)nc12'\n",
    "# smiles='Cc1cc(C(=O)Nc2ccc(OCC(N)=O)cc2)c(C)n1C1CC1'\n",
    "# smiles='CCOc1ccc2nc(N(C[C@@H]3CCCO3)C(=O)c3ccccc3S(C)(=O)=O)sc2c1'\n",
    "# smiles='COc1cc(C(=O)N(Cc2cccc(F)c2)[C@H]2CCS(=O)(=O)C2)cc(OC)c1OC'\n",
    "mol = Chem.MolFromSmiles(smiles)\n",
    "Draw.MolToMPL(mol); plt.show()\n",
    "#G = mol2graph(mol)[0]\n",
    "#G.to(DEVICE)\n",
    "#mu, var = enc(G)\n",
    "run(smiles)"
   ]
  },
  {
   "cell_type": "raw",
   "metadata": {},
   "source": [
    "total_score = 0\n",
    "for i in tqdm(range(len(dataset)//2, len(dataset))):\n",
    "    smiles = dataset.data[idx]\n",
    "\n",
    "    valids = []\n",
    "    scores = []\n",
    "    for i in range(10):\n",
    "        z, v, s = reconstruct(smiles, draw=False)\n",
    "        valids.append(v)\n",
    "        scores.append(s)\n",
    "        \n",
    "    total_score += torch.tensor(scores, dtype=float).mean().item()\n",
    "    \n",
    "total_score /= len(dataset)//2"
   ]
  },
  {
   "cell_type": "raw",
   "metadata": {},
   "source": [
    "emb_list = []\n",
    "valid_list = []\n",
    "sim_list = []\n",
    "\n",
    "processed = []\n",
    "for i in tqdm(range(6000)):\n",
    "    while True:\n",
    "        idx = torch.randint(len(dataset), (1,))\n",
    "        if idx not in processed: break\n",
    "    processed.append(idx)\n",
    "    smiles = dataset.data[idx]\n",
    "    emb, valid, similarity = reconstruct(smiles, draw=False)\n",
    "    emb_list.append(emb.data.cpu().numpy())\n",
    "    valid_list.append(valid)\n",
    "    sim_list.append(similarity)"
   ]
  },
  {
   "cell_type": "raw",
   "metadata": {},
   "source": [
    "tsne = TSNE(n_components=2, random_state=10)\n",
    "emb_2d = tsne.fit_transform(emb_list)"
   ]
  },
  {
   "cell_type": "raw",
   "metadata": {},
   "source": [
    "plt.figure(figsize=(20, 10))\n",
    "plt.subplot(121)\n",
    "plt.scatter(emb_2d[:, 0], emb_2d[:, 1], c=valid_list, s=20, cmap='RdBu', alpha=0.7)\n",
    "plt.colorbar()\n",
    "\n",
    "plt.subplot(122)\n",
    "plt.scatter(emb_2d[:, 0], emb_2d[:, 1], c=sim_list, s=20, alpha=0.7)\n",
    "plt.colorbar()\n",
    "plt.show()\n",
    "\n",
    "plt.show()"
   ]
  },
  {
   "cell_type": "raw",
   "metadata": {},
   "source": [
    "predicted = nx.Graph()\n",
    "for i, n in enumerate(node_list):\n",
    "    predicted.add_node(i, atom=n)\n",
    "for e, bt in edge_list:\n",
    "    predicted.add_edge(*e, bond_type=bt)\n",
    "    \n",
    "plt.figure()\n",
    "plt.title(len(node_list))\n",
    "#pos = nx.spring_layout(predicted)\n",
    "pos = nx.kamada_kawai_layout(predicted)\n",
    "nx.draw(predicted, pos)\n",
    "node_labels = nx.get_node_attributes(predicted, 'atom')\n",
    "nx.draw_networkx_labels(predicted, pos, labels=node_labels)\n",
    "edge_labels = nx.get_edge_attributes(predicted, 'bond_type')\n",
    "nx.draw_networkx_edge_labels(predicted, pos, edge_labels=edge_labels)\n",
    "plt.show()"
   ]
  },
  {
   "cell_type": "code",
   "execution_count": null,
   "metadata": {},
   "outputs": [],
   "source": []
  },
  {
   "cell_type": "code",
   "execution_count": null,
   "metadata": {},
   "outputs": [],
   "source": [
    "mol"
   ]
  },
  {
   "cell_type": "code",
   "execution_count": null,
   "metadata": {},
   "outputs": [],
   "source": []
  }
 ],
 "metadata": {
  "kernelspec": {
   "display_name": "Python 3",
   "language": "python",
   "name": "python3"
  },
  "language_info": {
   "codemirror_mode": {
    "name": "ipython",
    "version": 3
   },
   "file_extension": ".py",
   "mimetype": "text/x-python",
   "name": "python",
   "nbconvert_exporter": "python",
   "pygments_lexer": "ipython3",
   "version": "3.7.3"
  }
 },
 "nbformat": 4,
 "nbformat_minor": 4
}
