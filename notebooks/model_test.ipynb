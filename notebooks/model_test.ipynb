{
 "cells": [
  {
   "cell_type": "code",
   "execution_count": 1,
   "metadata": {},
   "outputs": [
    {
     "name": "stdout",
     "output_type": "stream",
     "text": [
      "/home/dawood/Workspace/compoundGAN\n"
     ]
    }
   ],
   "source": [
    "%cd .."
   ]
  },
  {
   "cell_type": "code",
   "execution_count": 2,
   "metadata": {},
   "outputs": [],
   "source": [
    "import torch\n",
    "import random\n",
    "import math\n",
    "import networkx as nx\n",
    "import numpy as np\n",
    "from tqdm import tqdm\n",
    "\n",
    "from rdkit import Chem\n",
    "from rdkit import DataStructs\n",
    "from rdkit.Chem import Draw\n",
    "from rdkit.Chem.Fingerprints import FingerprintMols\n",
    "from PIL import Image\n",
    "\n",
    "from data.zinc import mol2graph, Library, ZINC250K\n",
    "\n",
    "from models.encoder import Encoder\n",
    "from models.generator import Generator\n",
    "\n",
    "from sklearn.manifold import TSNE\n",
    "from matplotlib import pyplot as plt\n",
    "plt.style.use('seaborn-deep')\n",
    "\n",
    "%matplotlib inline\n",
    "%load_ext line_profiler"
   ]
  },
  {
   "cell_type": "code",
   "execution_count": 3,
   "metadata": {},
   "outputs": [],
   "source": [
    "atom_list = [i for i in Library.atom_list]\n",
    "atom_list.append('END')"
   ]
  },
  {
   "cell_type": "markdown",
   "metadata": {},
   "source": [
    "## Generator test"
   ]
  },
  {
   "cell_type": "code",
   "execution_count": 153,
   "metadata": {},
   "outputs": [],
   "source": [
    "state_dict = torch.load('./model.weights')\n",
    "gen = Generator(128, [43, 7, 3, 2], [5, 2, 2, 4], 4)\n",
    "#gen = torch.nn.DataParallel(gen)\n",
    "gen.load_state_dict(state_dict['G'])\n",
    "\n",
    "#gen = gen.module\n",
    "gen = gen.cuda()\n",
    "gen = gen.eval()"
   ]
  },
  {
   "cell_type": "code",
   "execution_count": 154,
   "metadata": {},
   "outputs": [],
   "source": [
    "def run():\n",
    "    \"\"\"this is a docstring\"\"\"\n",
    "    x = torch.randn((1, 128)).cuda()\n",
    "    x.normal_(0, 1)\n",
    "    #print(x)\n",
    "    G = gen.create_graph(*gen(x, 50))\n",
    "    #print(G.ndata['feats'][:, :43])\n",
    "    #print(G.edata['feats'][:, :5])\n",
    "    atoms = [atom_list[i] for i in G.ndata['feats'][:, :43].argmax(1).data.cpu()]\n",
    "    G_pred = nx.Graph()\n",
    "    for i, atom in enumerate(atoms):\n",
    "        G_pred.add_node(i, atom='%s'%(atom))\n",
    "\n",
    "    edge_pred = G.edata['feats'][:, :5].argmax(1).data.cpu()\n",
    "    edge_pred_score = G.edata['feats'][:, :5].max(1)[0].data.cpu()\n",
    "\n",
    "    edges = []\n",
    "    edge_types = []\n",
    "    \n",
    "    edge_start = [i.item() for i in G.edges()[0]]\n",
    "    edge_end = [i.item() for i in G.edges()[1]]\n",
    "    edge_num = 0\n",
    "    for i,j in zip(edge_start, edge_end):\n",
    "        #print(i, j)\n",
    "        if edge_pred[edge_num] > 0:\n",
    "            edges.append((i, j))\n",
    "            edge_types.append(edge_pred[edge_num].item())\n",
    "        edge_num += 1\n",
    "\n",
    "    for i in range(len(edges)):\n",
    "        G_pred.add_edge(*edges[i], bond_type=edge_types[i])\n",
    "    \n",
    "\n",
    "    pos = nx.kamada_kawai_layout(G_pred)\n",
    "    node_labels = nx.get_node_attributes(G_pred, 'atom')\n",
    "    edge_labels = nx.get_edge_attributes(G_pred, 'bond_type')\n",
    "    edge_color_map = {\n",
    "        1: 'b',\n",
    "        2: 'r',\n",
    "        3: 'g',\n",
    "        4: 'y'\n",
    "    }\n",
    "    edge_colors = [edge_color_map[v] for k,v in edge_labels.items()]\n",
    "    nx.draw_networkx(G_pred, pos, font_color='w',\n",
    "                     node_size=800, labels=node_labels, \n",
    "                     edge_color=edge_colors, width=2)\n",
    "    #\n",
    "    #nx.draw_networkx_labels(G_pred, pos, labels=node_labels)\n",
    "\n",
    "    #if len(edges) < 30:\n",
    "    #    nx.draw_networkx_edge_labels(G_pred, pos, edge_labels=edge_labels)\n",
    "\n",
    "    plt.title('Num Atoms : %d'%(len(atoms)))"
   ]
  },
  {
   "cell_type": "code",
   "execution_count": null,
   "metadata": {},
   "outputs": [],
   "source": [
    "ncol = 3\n",
    "num_iter = 3*5\n",
    "nrow = math.ceil(num_iter/ncol)\n",
    "plt.figure(figsize=(20, 6*num_iter//3))\n",
    "for i in range(num_iter):\n",
    "    plt.subplot(nrow, ncol, i+1)\n",
    "    run()\n",
    "plt.show()"
   ]
  },
  {
   "cell_type": "code",
   "execution_count": null,
   "metadata": {},
   "outputs": [],
   "source": []
  },
  {
   "cell_type": "raw",
   "metadata": {},
   "source": [
    "idx = torch.randint(len(dataset), (1,))\n",
    "smiles = dataset.data[idx]\n",
    "#edge_list, node_list, emb, valid, similarity = run_network(smiles)\n",
    "node_list, edge_list = run_network(smiles)"
   ]
  },
  {
   "cell_type": "raw",
   "metadata": {},
   "source": [
    "emb_list = []\n",
    "valid_list = []\n",
    "sim_list = []\n",
    "\n",
    "processed = []\n",
    "for i in tqdm(range(6000)):\n",
    "    while True:\n",
    "        idx = torch.randint(len(dataset), (1,))\n",
    "        if idx not in processed: break\n",
    "    processed.append(idx)\n",
    "    smiles = dataset.data[idx]\n",
    "    emb, valid, similarity = run_network(smiles, draw=False)\n",
    "    emb_list.append(emb.data.cpu().numpy())\n",
    "    valid_list.append(valid)\n",
    "    sim_list.append(similarity)"
   ]
  },
  {
   "cell_type": "raw",
   "metadata": {},
   "source": [
    "tsne = TSNE(n_components=2, random_state=10)\n",
    "emb_2d = tsne.fit_transform(emb_list)"
   ]
  },
  {
   "cell_type": "raw",
   "metadata": {},
   "source": [
    "plt.figure(figsize=(20, 10))\n",
    "plt.subplot(121)\n",
    "plt.scatter(emb_2d[:, 0], emb_2d[:, 1], c=valid_list, s=20, cmap='RdBu', alpha=0.7)\n",
    "plt.colorbar()\n",
    "\n",
    "plt.subplot(122)\n",
    "plt.scatter(emb_2d[:, 0], emb_2d[:, 1], c=sim_list, s=20, alpha=0.7)\n",
    "plt.colorbar()\n",
    "plt.show()\n",
    "\n",
    "plt.show()"
   ]
  },
  {
   "cell_type": "raw",
   "metadata": {},
   "source": [
    "predicted = nx.Graph()\n",
    "for i, n in enumerate(node_list):\n",
    "    predicted.add_node(i, atom=n)\n",
    "for e, bt in edge_list:\n",
    "    predicted.add_edge(*e, bond_type=bt)\n",
    "    \n",
    "plt.figure()\n",
    "plt.title(len(node_list))\n",
    "#pos = nx.spring_layout(predicted)\n",
    "pos = nx.kamada_kawai_layout(predicted)\n",
    "nx.draw(predicted, pos)\n",
    "node_labels = nx.get_node_attributes(predicted, 'atom')\n",
    "nx.draw_networkx_labels(predicted, pos, labels=node_labels)\n",
    "edge_labels = nx.get_edge_attributes(predicted, 'bond_type')\n",
    "nx.draw_networkx_edge_labels(predicted, pos, edge_labels=edge_labels)\n",
    "plt.show()"
   ]
  },
  {
   "cell_type": "raw",
   "metadata": {},
   "source": []
  },
  {
   "cell_type": "raw",
   "metadata": {},
   "source": [
    "mol"
   ]
  },
  {
   "cell_type": "code",
   "execution_count": null,
   "metadata": {},
   "outputs": [],
   "source": []
  }
 ],
 "metadata": {
  "kernelspec": {
   "display_name": "Python 3",
   "language": "python",
   "name": "python3"
  },
  "language_info": {
   "codemirror_mode": {
    "name": "ipython",
    "version": 3
   },
   "file_extension": ".py",
   "mimetype": "text/x-python",
   "name": "python",
   "nbconvert_exporter": "python",
   "pygments_lexer": "ipython3",
   "version": "3.7.3"
  }
 },
 "nbformat": 4,
 "nbformat_minor": 4
}
