{
 "cells": [
  {
   "cell_type": "code",
   "execution_count": 1,
   "metadata": {},
   "outputs": [
    {
     "name": "stdout",
     "output_type": "stream",
     "text": [
      "/home/sheik_dawood/Workspace/compoundGAN\n"
     ]
    }
   ],
   "source": [
    "%cd .."
   ]
  },
  {
   "cell_type": "code",
   "execution_count": 2,
   "metadata": {},
   "outputs": [],
   "source": [
    "import torch\n",
    "import networkx as nx\n",
    "from rdkit import Chem\n",
    "from rdkit.Chem import Draw\n",
    "\n",
    "from data.zinc import mol2graph, Library\n",
    "\n",
    "from models.encoder import Encoder\n",
    "from models.generator import Generator\n",
    "\n",
    "from matplotlib import pyplot as plt\n",
    "%matplotlib inline"
   ]
  },
  {
   "cell_type": "code",
   "execution_count": 115,
   "metadata": {},
   "outputs": [],
   "source": [
    "state_dict = torch.load('/storage/sheik_dawood/Experiments/compoundGAN/compound-gan-a8fcf45856154d729ec334d81906580d/model_3.weights')"
   ]
  },
  {
   "cell_type": "code",
   "execution_count": 128,
   "metadata": {},
   "outputs": [],
   "source": [
    "enc = Encoder(59, 13, 256)\n",
    "enc = enc.cuda()\n",
    "enc.load_state_dict(state_dict['enc_state_dict'])\n",
    "enc = enc.eval()\n",
    "\n",
    "gen = Generator(256, [44, 7, 3, 3, 2], [5, 2, 2, 4])\n",
    "gen = gen.cuda()\n",
    "gen.load_state_dict(state_dict['gen_state_dict'])\n",
    "gen = gen.eval()"
   ]
  },
  {
   "cell_type": "code",
   "execution_count": 150,
   "metadata": {},
   "outputs": [
    {
     "data": {
      "image/png": "[encoded data removed]",
      "text/plain": [
       "<Figure size 216x216 with 1 Axes>"
      ]
     },
     "metadata": {
      "needs_background": "light"
     },
     "output_type": "display_data"
    }
   ],
   "source": [
    "#smiles = 'C1=CC=CC=C1'\n",
    "smiles = 'C'\n",
    "#smiles = 'CCOc1ccc(OCC)c([C@H]2C(C#N)=C(N)N(c3ccccc3C(F)(F)F)C3=C2C(=O)CCC3)c1'\n",
    "mol = Chem.MolFromSmiles(smiles)\n",
    "Draw.MolToMPL(mol); plt.show()"
   ]
  },
  {
   "cell_type": "code",
   "execution_count": 151,
   "metadata": {},
   "outputs": [],
   "source": [
    "G, atom_feats, bond_feats = mol2graph(mol)\n",
    "G.to(torch.device('cuda:0'))\n",
    "mu, var = enc(G)"
   ]
  },
  {
   "cell_type": "code",
   "execution_count": 154,
   "metadata": {},
   "outputs": [
    {
     "name": "stdout",
     "output_type": "stream",
     "text": [
      "C 1.0\n",
      "O 0.9626443386077881\n",
      "0.9999384880065918\n",
      "0.9211023449897766\n",
      "H 0.9999996423721313\n",
      "0.9999682903289795\n",
      "0.9749481678009033\n",
      "0.9984682202339172\n",
      "H 0.993723452091217\n",
      "0.9995088577270508\n",
      "0.7801901698112488\n",
      "0.9996381998062134\n",
      "0.9999979734420776\n",
      "H 0.9943408966064453\n",
      "0.9914235472679138\n",
      "0.8187702298164368\n",
      "0.9968020915985107\n",
      "0.9993526339530945\n",
      "0.9982326030731201\n"
     ]
    }
   ],
   "source": [
    "z = enc.reparameterize(mu, var, no_noise=True)\n",
    "node_list, edge_list = gen(z.unsqueeze(0), 100)\n",
    "nodes = []\n",
    "edges = []\n",
    "for i, node in enumerate(node_list):\n",
    "    n = []\n",
    "    print(Library.atom_list[node[0][0].data.cpu().numpy()[0]], node[0][1].data.cpu().item())\n",
    "    n.append(Library.atom_list[node[0][0].data.cpu().numpy()[0]])\n",
    "    n.append(Library.charge_list[node[1][0].data.cpu().numpy()[0]])\n",
    "    n.append(Library.electron_list[node[2][0].data.cpu().numpy()[0]])\n",
    "    try:\n",
    "        n.append(Library.chirality_list[node[3][0].data.cpu().numpy()[0]])\n",
    "    except IndexError:\n",
    "        n.append('')\n",
    "    nodes.append(n[0])\n",
    "    \n",
    "    e = []\n",
    "    _edges = edge_list[i]\n",
    "    for j, edge in enumerate(_edges):\n",
    "        print(edge[0][1].data.cpu().item())\n",
    "        idx = edge[0][0].data.cpu().numpy()[0]\n",
    "        if idx == 0:\n",
    "            continue\n",
    "        e.append((idx, j))\n",
    "        edges.append((j, i))"
   ]
  },
  {
   "cell_type": "code",
   "execution_count": 155,
   "metadata": {},
   "outputs": [
    {
     "data": {
      "text/plain": [
       "[[],\n",
       " [[(tensor([1], device='cuda:0'),\n",
       "    tensor([0.9999], device='cuda:0', grad_fn=<MaxBackward0>)),\n",
       "   (tensor([0], device='cuda:0'),\n",
       "    tensor([1.], device='cuda:0', grad_fn=<MaxBackward0>)),\n",
       "   (tensor([0], device='cuda:0'),\n",
       "    tensor([1.0000], device='cuda:0', grad_fn=<MaxBackward0>)),\n",
       "   (tensor([0], device='cuda:0'),\n",
       "    tensor([1.], device='cuda:0', grad_fn=<MaxBackward0>))],\n",
       "  [(tensor([1], device='cuda:0'),\n",
       "    tensor([0.9211], device='cuda:0', grad_fn=<MaxBackward0>)),\n",
       "   (tensor([0], device='cuda:0'),\n",
       "    tensor([0.9994], device='cuda:0', grad_fn=<MaxBackward0>)),\n",
       "   (tensor([0], device='cuda:0'),\n",
       "    tensor([1.0000], device='cuda:0', grad_fn=<MaxBackward0>)),\n",
       "   (tensor([0], device='cuda:0'),\n",
       "    tensor([1.], device='cuda:0', grad_fn=<MaxBackward0>))]],\n",
       " [[(tensor([1], device='cuda:0'),\n",
       "    tensor([1.0000], device='cuda:0', grad_fn=<MaxBackward0>)),\n",
       "   (tensor([0], device='cuda:0'),\n",
       "    tensor([1.0000], device='cuda:0', grad_fn=<MaxBackward0>)),\n",
       "   (tensor([0], device='cuda:0'),\n",
       "    tensor([1.], device='cuda:0', grad_fn=<MaxBackward0>)),\n",
       "   (tensor([0], device='cuda:0'),\n",
       "    tensor([1.], device='cuda:0', grad_fn=<MaxBackward0>))],\n",
       "  [(tensor([1], device='cuda:0'),\n",
       "    tensor([0.9749], device='cuda:0', grad_fn=<MaxBackward0>)),\n",
       "   (tensor([0], device='cuda:0'),\n",
       "    tensor([1.0000], device='cuda:0', grad_fn=<MaxBackward0>)),\n",
       "   (tensor([0], device='cuda:0'),\n",
       "    tensor([1.], device='cuda:0', grad_fn=<MaxBackward0>)),\n",
       "   (tensor([0], device='cuda:0'),\n",
       "    tensor([1.], device='cuda:0', grad_fn=<MaxBackward0>))],\n",
       "  [(tensor([0], device='cuda:0'),\n",
       "    tensor([0.9985], device='cuda:0', grad_fn=<MaxBackward0>)),\n",
       "   (tensor([0], device='cuda:0'),\n",
       "    tensor([1.], device='cuda:0', grad_fn=<MaxBackward0>)),\n",
       "   (tensor([0], device='cuda:0'),\n",
       "    tensor([1.], device='cuda:0', grad_fn=<MaxBackward0>)),\n",
       "   (tensor([0], device='cuda:0'),\n",
       "    tensor([1.], device='cuda:0', grad_fn=<MaxBackward0>))]],\n",
       " [[(tensor([1], device='cuda:0'),\n",
       "    tensor([0.9995], device='cuda:0', grad_fn=<MaxBackward0>)),\n",
       "   (tensor([0], device='cuda:0'),\n",
       "    tensor([1.0000], device='cuda:0', grad_fn=<MaxBackward0>)),\n",
       "   (tensor([0], device='cuda:0'),\n",
       "    tensor([1.], device='cuda:0', grad_fn=<MaxBackward0>)),\n",
       "   (tensor([0], device='cuda:0'),\n",
       "    tensor([1.], device='cuda:0', grad_fn=<MaxBackward0>))],\n",
       "  [(tensor([1], device='cuda:0'),\n",
       "    tensor([0.7802], device='cuda:0', grad_fn=<MaxBackward0>)),\n",
       "   (tensor([0], device='cuda:0'),\n",
       "    tensor([1.0000], device='cuda:0', grad_fn=<MaxBackward0>)),\n",
       "   (tensor([0], device='cuda:0'),\n",
       "    tensor([1.], device='cuda:0', grad_fn=<MaxBackward0>)),\n",
       "   (tensor([0], device='cuda:0'),\n",
       "    tensor([1.], device='cuda:0', grad_fn=<MaxBackward0>))],\n",
       "  [(tensor([0], device='cuda:0'),\n",
       "    tensor([0.9996], device='cuda:0', grad_fn=<MaxBackward0>)),\n",
       "   (tensor([0], device='cuda:0'),\n",
       "    tensor([1.], device='cuda:0', grad_fn=<MaxBackward0>)),\n",
       "   (tensor([0], device='cuda:0'),\n",
       "    tensor([1.], device='cuda:0', grad_fn=<MaxBackward0>)),\n",
       "   (tensor([0], device='cuda:0'),\n",
       "    tensor([1.], device='cuda:0', grad_fn=<MaxBackward0>))],\n",
       "  [(tensor([0], device='cuda:0'),\n",
       "    tensor([1.0000], device='cuda:0', grad_fn=<MaxBackward0>)),\n",
       "   (tensor([0], device='cuda:0'),\n",
       "    tensor([1.], device='cuda:0', grad_fn=<MaxBackward0>)),\n",
       "   (tensor([0], device='cuda:0'),\n",
       "    tensor([1.], device='cuda:0', grad_fn=<MaxBackward0>)),\n",
       "   (tensor([0], device='cuda:0'),\n",
       "    tensor([1.], device='cuda:0', grad_fn=<MaxBackward0>))]],\n",
       " [[(tensor([1], device='cuda:0'),\n",
       "    tensor([0.9914], device='cuda:0', grad_fn=<MaxBackward0>)),\n",
       "   (tensor([0], device='cuda:0'),\n",
       "    tensor([1.0000], device='cuda:0', grad_fn=<MaxBackward0>)),\n",
       "   (tensor([0], device='cuda:0'),\n",
       "    tensor([1.0000], device='cuda:0', grad_fn=<MaxBackward0>)),\n",
       "   (tensor([0], device='cuda:0'),\n",
       "    tensor([1.0000], device='cuda:0', grad_fn=<MaxBackward0>))],\n",
       "  [(tensor([1], device='cuda:0'),\n",
       "    tensor([0.8188], device='cuda:0', grad_fn=<MaxBackward0>)),\n",
       "   (tensor([0], device='cuda:0'),\n",
       "    tensor([0.9999], device='cuda:0', grad_fn=<MaxBackward0>)),\n",
       "   (tensor([0], device='cuda:0'),\n",
       "    tensor([1.0000], device='cuda:0', grad_fn=<MaxBackward0>)),\n",
       "   (tensor([0], device='cuda:0'),\n",
       "    tensor([1.], device='cuda:0', grad_fn=<MaxBackward0>))],\n",
       "  [(tensor([0], device='cuda:0'),\n",
       "    tensor([0.9968], device='cuda:0', grad_fn=<MaxBackward0>)),\n",
       "   (tensor([0], device='cuda:0'),\n",
       "    tensor([1.], device='cuda:0', grad_fn=<MaxBackward0>)),\n",
       "   (tensor([0], device='cuda:0'),\n",
       "    tensor([1.], device='cuda:0', grad_fn=<MaxBackward0>)),\n",
       "   (tensor([0], device='cuda:0'),\n",
       "    tensor([1.], device='cuda:0', grad_fn=<MaxBackward0>))],\n",
       "  [(tensor([0], device='cuda:0'),\n",
       "    tensor([0.9994], device='cuda:0', grad_fn=<MaxBackward0>)),\n",
       "   (tensor([0], device='cuda:0'),\n",
       "    tensor([1.0000], device='cuda:0', grad_fn=<MaxBackward0>)),\n",
       "   (tensor([0], device='cuda:0'),\n",
       "    tensor([1.], device='cuda:0', grad_fn=<MaxBackward0>)),\n",
       "   (tensor([0], device='cuda:0'),\n",
       "    tensor([1.], device='cuda:0', grad_fn=<MaxBackward0>))],\n",
       "  [(tensor([0], device='cuda:0'),\n",
       "    tensor([0.9982], device='cuda:0', grad_fn=<MaxBackward0>)),\n",
       "   (tensor([0], device='cuda:0'),\n",
       "    tensor([1.0000], device='cuda:0', grad_fn=<MaxBackward0>)),\n",
       "   (tensor([0], device='cuda:0'),\n",
       "    tensor([1.], device='cuda:0', grad_fn=<MaxBackward0>)),\n",
       "   (tensor([0], device='cuda:0'),\n",
       "    tensor([1.], device='cuda:0', grad_fn=<MaxBackward0>))]]]"
      ]
     },
     "execution_count": 155,
     "metadata": {},
     "output_type": "execute_result"
    }
   ],
   "source": [
    "edge_list"
   ]
  },
  {
   "cell_type": "code",
   "execution_count": 153,
   "metadata": {},
   "outputs": [
    {
     "data": {
      "image/png": "[encoded data removed]",
      "text/plain": [
       "<Figure size 432x288 with 1 Axes>"
      ]
     },
     "metadata": {},
     "output_type": "display_data"
    }
   ],
   "source": [
    "predicted = nx.Graph()\n",
    "for i, n in enumerate(nodes):\n",
    "    predicted.add_node(i, atom=n)\n",
    "for e in edges:\n",
    "    predicted.add_edge(*e)\n",
    "    \n",
    "for i, n in enumerate(nodes):\n",
    "    continue\n",
    "    if n == 'H':\n",
    "        predicted.remove_node(i)\n",
    "    \n",
    "plt.figure()\n",
    "#pos = nx.spring_layout(predicted)\n",
    "pos = nx.kamada_kawai_layout(predicted)\n",
    "nx.draw(predicted, pos)\n",
    "node_labels = nx.get_node_attributes(predicted,'atom')\n",
    "nx.draw_networkx_labels(predicted, pos, labels=node_labels)\n",
    "plt.show()"
   ]
  },
  {
   "cell_type": "code",
   "execution_count": null,
   "metadata": {},
   "outputs": [],
   "source": []
  },
  {
   "cell_type": "code",
   "execution_count": null,
   "metadata": {},
   "outputs": [],
   "source": []
  }
 ],
 "metadata": {
  "kernelspec": {
   "display_name": "Python 3",
   "language": "python",
   "name": "python3"
  },
  "language_info": {
   "codemirror_mode": {
    "name": "ipython",
    "version": 3
   },
   "file_extension": ".py",
   "mimetype": "text/x-python",
   "name": "python",
   "nbconvert_exporter": "python",
   "pygments_lexer": "ipython3",
   "version": "3.7.3"
  }
 },
 "nbformat": 4,
 "nbformat_minor": 2
}
