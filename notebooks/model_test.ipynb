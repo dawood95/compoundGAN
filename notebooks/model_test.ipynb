{
 "cells": [
  {
   "cell_type": "code",
   "execution_count": 1,
   "metadata": {},
   "outputs": [
    {
     "name": "stdout",
     "output_type": "stream",
     "text": [
      "/home/dawood/Workspace/compoundGAN\n"
     ]
    }
   ],
   "source": [
    "%cd .."
   ]
  },
  {
   "cell_type": "code",
   "execution_count": 2,
   "metadata": {},
   "outputs": [],
   "source": [
    "import torch\n",
    "import networkx as nx\n",
    "import numpy as np\n",
    "from tqdm import tqdm\n",
    "\n",
    "from rdkit import Chem\n",
    "from rdkit import DataStructs\n",
    "from rdkit.Chem import Draw\n",
    "from rdkit.Chem.Fingerprints import FingerprintMols\n",
    "from PIL import Image\n",
    "\n",
    "from data.zinc import mol2graph, Library, ZINC250K\n",
    "\n",
    "from models.encoder import Encoder\n",
    "from models.generator import Generator\n",
    "\n",
    "from sklearn.manifold import TSNE\n",
    "from matplotlib import pyplot as plt\n",
    "plt.style.use('ggplot')\n",
    "%matplotlib inline\n",
    "\n",
    "%load_ext line_profiler\n"
   ]
  },
  {
   "cell_type": "markdown",
   "metadata": {},
   "source": [
    "## Generator test"
   ]
  },
  {
   "cell_type": "code",
   "execution_count": 3,
   "metadata": {},
   "outputs": [],
   "source": [
    "gen = Generator(64, [44, 7, 3, 3, 2], [5, 2, 2, 4], 4)\n",
    "gen = gen.cuda()\n",
    "gen = gen.eval()"
   ]
  },
  {
   "cell_type": "code",
   "execution_count": 9,
   "metadata": {},
   "outputs": [
    {
     "data": {
      "text/plain": [
       "Timer unit: 1e-06 s\n",
       "\n",
       "Total time: 0.269614 s\n",
       "File: /home/dawood/Workspace/compoundGAN/models/generator.py\n",
       "Function: forward at line 41\n",
       "\n",
       "Line #      Hits         Time  Per Hit   % Time  Line Contents\n",
       "==============================================================\n",
       "    41                                               def forward(self, z, max_nodes=50):\n",
       "    42                                           \n",
       "    43         1          8.0      8.0      0.0          batch_size = z.shape[0]\n",
       "    44                                           \n",
       "    45         1       2480.0   2480.0      0.9          output_graphs = [dgl.DGLGraph() for _ in range(batch_size)]\n",
       "    46         1        317.0    317.0      0.1          num_nodes     = -1*torch.ones(batch_size)\n",
       "    47         1        119.0    119.0      0.0          num_nodes     = num_nodes.cuda() if z.is_cuda else num_nodes\n",
       "    48                                           \n",
       "    49         1          4.0      4.0      0.0          ctx = []\n",
       "    50         5         42.0      8.4      0.0          for l in self.latent_project:\n",
       "    51         4        546.0    136.5      0.2              x = l(z)\n",
       "    52         4        219.0     54.8      0.1              x = F.relu(x)\n",
       "    53         4         72.0     18.0      0.0              ctx.append(x.unsqueeze(0))\n",
       "    54         1        127.0    127.0      0.0          ctx = torch.cat(ctx, 0)\n",
       "    55                                           \n",
       "    56                                                   # Set nodeRNN hidden state to ctx\n",
       "    57         1        280.0    280.0      0.1          self.node_cell.reset_hidden(batch_size)\n",
       "    58         1         26.0     26.0      0.0          self.node_cell.hidden = ctx\n",
       "    59                                           \n",
       "    60         1          3.0      3.0      0.0          pred_node_feats = []\n",
       "    61         1          3.0      3.0      0.0          pred_edge_feats = []\n",
       "    62                                           \n",
       "    63         1          3.0      3.0      0.0          node_embeddings = []\n",
       "    64        51        137.0      2.7      0.1          for i in range(max_nodes):\n",
       "    65                                           \n",
       "    66                                                       # Create input for nodeRNN\n",
       "    67        50         97.0      1.9      0.0              if i == 0:\n",
       "    68         1         32.0     32.0      0.0                  x = torch.zeros((batch_size, self.node_inp_size))\n",
       "    69         1         58.0     58.0      0.0                  if z.is_cuda: x = x.cuda()\n",
       "    70                                                       else:\n",
       "    71        49         96.0      2.0      0.0                  x = node_embeddings[-1]\n",
       "    72                                           \n",
       "    73                                                       # Generate a node\n",
       "    74        50      26578.0    531.6      9.9              node_emb  = self.node_cell.forward_unit(x)\n",
       "    75        50      15247.0    304.9      5.7              node_pred = [c(node_emb) for c in self.node_classifiers]\n",
       "    76        50       4675.0     93.5      1.7              node_pred = [F.softmax(p, -1) for p in node_pred]\n",
       "    77                                           \n",
       "    78        50       2501.0     50.0      0.9              cond1 = node_pred[0].argmax(1) == self.end_node\n",
       "    79        50        910.0     18.2      0.3              cond2 = num_nodes == -1\n",
       "    80        50       5071.0    101.4      1.9              num_nodes[cond1 & cond2] = i+1\n",
       "    81                                           \n",
       "    82                                                       # Save node features\n",
       "    83        50       2751.0     55.0      1.0              node_pred = torch.cat(node_pred, 1)\n",
       "    84        50        549.0     11.0      0.2              pred_node_feats.append(node_pred.unsqueeze(1))\n",
       "    85                                           \n",
       "    86                                                       # Nothing to run for first node\n",
       "    87                                                       # NOTE: self-loop feature shouldn't be differentiable\n",
       "    88                                                       # So, it's not predicted\n",
       "    89        50         99.0      2.0      0.0              if i == 0:\n",
       "    90         1          4.0      4.0      0.0                  node_embeddings.append(node_emb)\n",
       "    91         1          3.0      3.0      0.0                  continue\n",
       "    92                                           \n",
       "    93        49       6645.0    135.6      2.5              self.edge_cell.reset_hidden(batch_size)\n",
       "    94        49        780.0     15.9      0.3              self.edge_cell.hidden = self.node_cell.hidden\n",
       "    95                                           \n",
       "    96        49       3166.0     64.6      1.2              edge_inp = [prev_nemb.unsqueeze(0) for prev_nemb in node_embeddings[::-1]]\n",
       "    97        49       3334.0     68.0      1.2              edge_inp = torch.cat(edge_inp, 0)\n",
       "    98        49      65870.0   1344.3     24.4              edge_emb_seq = self.edge_cell.forward_seq(edge_inp)\n",
       "    99        49      48222.0    984.1     17.9              edge_emb_seq = edge_emb_seq[list(range(len(edge_emb_seq)))[::-1]]\n",
       "   100        49        730.0     14.9      0.3              edge_emb_seq = edge_emb_seq.view(-1, edge_emb_seq.shape[-1])\n",
       "   101                                           \n",
       "   102        49      12165.0    248.3      4.5              edge_pred_seq = [c(edge_emb_seq) for c in self.edge_classifiers]\n",
       "   103        49       3867.0     78.9      1.4              edge_pred_seq = [F.softmax(p, -1) for p in edge_pred_seq]\n",
       "   104        49       2534.0     51.7      0.9              edge_pred_seq = torch.cat(edge_pred_seq, -1)\n",
       "   105        49        847.0     17.3      0.3              edge_pred_seq = edge_pred_seq.view(len(edge_inp), batch_size, -1)\n",
       "   106        49        107.0      2.2      0.0              pred_edge_feats.append(edge_pred_seq)\n",
       "   107                                           \n",
       "   108                                                       # Reset nodeRNN hidden state to output from edgeRNN\n",
       "   109        49       6567.0    134.0      2.4              self.node_cell.reset_hidden(batch_size)\n",
       "   110        49        779.0     15.9      0.3              self.node_cell.hidden = self.edge_cell.hidden\n",
       "   111        49         97.0      2.0      0.0              node_embeddings.append(node_emb)\n",
       "   112                                           \n",
       "   113        49       3524.0     71.9      1.3              if (num_nodes != -1).all(): break\n",
       "   114                                           \n",
       "   115         1        106.0    106.0      0.0          pred_node_feats = torch.cat(pred_node_feats, 1)\n",
       "   116         1        105.0    105.0      0.0          pred_edge_feats = torch.cat(pred_edge_feats, 0)\n",
       "   117                                           \n",
       "   118         1        110.0    110.0      0.0          num_nodes[num_nodes == -1] = i+1\n",
       "   119        33         85.0      2.6      0.0          for b in range(batch_size):\n",
       "   120        32        971.0     30.3      0.4              num_node = int(num_nodes[b].item())\n",
       "   121        32       1302.0     40.7      0.5              output_graphs[b].add_nodes(num_node)\n",
       "   122        32       1712.0     53.5      0.6              output_graphs[b].ndata['feats'] = pred_node_feats[b, :num_node]\n",
       "   123                                           \n",
       "   124        32         68.0      2.1      0.0              num_edge = (num_node * (num_node - 1)) + num_node\n",
       "   125        32         92.0      2.9      0.0              num_prede = len(pred_edge_feats)\n",
       "   126                                           \n",
       "   127        32        754.0     23.6      0.3              edge_feats = torch.zeros((num_edge, edge_pred_seq.shape[-1]))\n",
       "   128        32       2530.0     79.1      0.9              edge_feats[:num_prede] = pred_edge_feats[:, b, :]\n",
       "   129        32       2228.0     69.6      0.8              edge_feats[num_prede:2*num_prede] = pred_edge_feats[:, b, :]\n",
       "   130                                           \n",
       "   131        32       3711.0    116.0      1.4              edge_start = [j for i in range(num_node) for j in range(i)]\n",
       "   132        32       3540.0    110.6      1.3              edge_end = [i for i in range(num_node) for j in range(i)]\n",
       "   133                                           \n",
       "   134        32       9784.0    305.8      3.6              output_graphs[b].add_edges(edge_start, edge_end)\n",
       "   135        32       9088.0    284.0      3.4              output_graphs[b].add_edges(edge_end, edge_start)\n",
       "   136        32       3614.0    112.9      1.3              output_graphs[b].add_edges(list(range(num_node)), list(range(num_node)))\n",
       "   137        32       1553.0     48.5      0.6              output_graphs[b].edata['feats'] = edge_feats\n",
       "   138                                           \n",
       "   139         1       5970.0   5970.0      2.2          return dgl.batch(output_graphs)"
      ]
     },
     "metadata": {},
     "output_type": "display_data"
    }
   ],
   "source": [
    "x = torch.randn((32, 64)).cuda()\n",
    "%lprun -f gen.forward G = gen(x)"
   ]
  },
  {
   "cell_type": "raw",
   "metadata": {},
   "source": [
    "dataset = ZINC250K('/home/dawood/Datasets/ZINC250K/data.csv')"
   ]
  },
  {
   "cell_type": "raw",
   "metadata": {},
   "source": [
    "state_dict = torch.load('/home/dawood/model_500.weights')#\n",
    "#state_dict = torch.load('./model.weights')"
   ]
  },
  {
   "cell_type": "raw",
   "metadata": {},
   "source": [
    "enc = Encoder(59, 13, 256)\n",
    "enc = enc.cuda()\n",
    "enc.load_state_dict(state_dict['enc_state_dict'])\n",
    "enc = enc.eval()\n",
    "\n",
    "gen = Generator(256, [44, 7, 3, 3, 2], [5, 2, 2, 4], 1)\n",
    "gen = gen.cuda()\n",
    "gen.load_state_dict(state_dict['gen_state_dict'])\n",
    "gen = gen.eval()"
   ]
  },
  {
   "cell_type": "raw",
   "metadata": {},
   "source": [
    "# smiles = 'C1=CC=CC=C1'\n",
    "# smiles = 'C'\n",
    "# smiles='CC(=O)NC1=CC=CC=C1C(=O)O'\n",
    "# smiles='C1=CC=C(C(=C1)C(=O)OC2=CC=CC=C2C(=O)O)O'\n",
    "# smiles='CCC[NH2+]C1CCC(O)(Cc2nc(C)cs2)CC1'\n",
    "# smiles='C#CCOCC1CCN(C(=O)c2ccc(S(=O)(=O)N3CCCC[C@H]3C)cc2)CC1'\n",
    "# smiles='Cc1cccc2sc(NC(=O)[C@H](C)N3C(=O)[C@@H]4CC=CC[C@H]4C3=O)nc12'\n",
    "# smiles='Cc1cc(C(=O)Nc2ccc(OCC(N)=O)cc2)c(C)n1C1CC1'\n",
    "# smiles='CCOc1ccc2nc(N(C[C@@H]3CCCO3)C(=O)c3ccccc3S(C)(=O)=O)sc2c1'\n",
    "# smiles='COc1cc(C(=O)N(Cc2cccc(F)c2)[C@H]2CCS(=O)(=O)C2)cc(OC)c1OC'\n",
    "# mol = Chem.MolFromSmiles(smiles)\n",
    "# Draw.MolToMPL(mol); plt.show()\n",
    "# G, atom_feats, bond_feats = mol2graph(mol)\n",
    "# G.to(torch.device('cuda:0'))\n",
    "# mu, var = enc(G)"
   ]
  },
  {
   "cell_type": "raw",
   "metadata": {},
   "source": [
    "def run_network(smiles, draw=True):\n",
    "    mol = Chem.MolFromSmiles(smiles)\n",
    "\n",
    "    G, atom_feats, bond_feats = mol2graph(mol)\n",
    "    G.to(torch.device('cuda:0'))\n",
    "    mu, var = enc(G)\n",
    "\n",
    "    z = enc.reparameterize(mu, var, no_noise=False)\n",
    "    z = mu\n",
    "    #z = torch.randn_like(z)\n",
    "    node_list, edge_list = gen(z.unsqueeze(0), 100)\n",
    "    nodes = []\n",
    "    edges = []\n",
    "\n",
    "    bondtype_list  = [\n",
    "            Chem.rdchem.BondType.SINGLE,\n",
    "            Chem.rdchem.BondType.DOUBLE,\n",
    "            Chem.rdchem.BondType.TRIPLE,\n",
    "            Chem.rdchem.BondType.AROMATIC\n",
    "    ]\n",
    "\n",
    "    chirality_list = [\n",
    "        Chem.rdchem.BondStereo.STEREONONE, \n",
    "        Chem.rdchem.BondStereo.STEREOANY,\n",
    "        Chem.rdchem.BondStereo.STEREOZ,\n",
    "        Chem.rdchem.BondStereo.STEREOE\n",
    "    ]\n",
    "\n",
    "    idx_map = {}\n",
    "    pred_mol = Chem.RWMol()\n",
    "    for i, node in enumerate(node_list):\n",
    "        conf =  node[0][1].item()\n",
    "        atom_id = Library.atom_list[node[0][0].item()]\n",
    "        charge  = Library.charge_list[node[1][0].item()]\n",
    "        electron = Library.electron_list[node[2][0].item()]\n",
    "        try:\n",
    "            chirality = Library.chirality_list[node[3][0].item()]\n",
    "        except IndexError:\n",
    "            chirality = ''\n",
    "        aromatic =  Library.electron_list[node[4][0].item()]\n",
    "        \n",
    "        nodes.append(atom_id)\n",
    "\n",
    "        a = Chem.Atom(atom_id)\n",
    "        \n",
    "        if chirality=='R': a.SetChiralTag(Chem.ChiralType.CHI_TETRAHEDRAL_CW)\n",
    "        elif chirality=='S': a.SetChiralTag(Chem.ChiralType.CHI_TETRAHEDRAL_CCW)\n",
    "        a.SetFormalCharge(charge)\n",
    "        a.SetNumRadicalElectrons(electron)\n",
    "        a.SetIsAromatic(aromatic)\n",
    "        idx = pred_mol.AddAtom(a)\n",
    "        idx_map[i] = idx\n",
    "        \n",
    "        e = []\n",
    "        _edges = edge_list[i]\n",
    "        for j, edge in enumerate(_edges):\n",
    "            bond_type = edge[0][0].item()\n",
    "            conjugated = edge[1][0].item()\n",
    "            ring = edge[2][0].item()\n",
    "            chirality = edge[3][0].item()\n",
    "\n",
    "            if bond_type == 0:\n",
    "                continue\n",
    "\n",
    "            e.append((idx, j))\n",
    "            edges.append(((j, i), bond_type))\n",
    "\n",
    "            bond_type = bondtype_list[bond_type - 1]\n",
    "            bond = pred_mol.AddBond(idx_map[i], idx_map[j], bond_type)\n",
    "            bond = pred_mol.GetBondWithIdx(bond - 1)\n",
    "            bond.SetStereo(chirality_list[chirality])\n",
    "            bond.SetIsConjugated(conjugated)\n",
    "    \n",
    "    return nodes, edges\n",
    "\n",
    "    fp_gt   = FingerprintMols.FingerprintMol(mol)\n",
    "    fp_pred = FingerprintMols.FingerprintMol(pred_mol)\n",
    "    similarity = DataStructs.FingerprintSimilarity(fp_gt, fp_pred)\n",
    "    \n",
    "    try:\n",
    "        Chem.SanitizeMol(pred_mol, catchErrors=True)\n",
    "        if draw:\n",
    "            img = Draw.MolsToGridImage([mol, pred_mol], molsPerRow=2, subImgSize=(400, 400), legends=['GT', 'Pred'])\n",
    "            plt.figure(figsize=(10, 10))\n",
    "            plt.imshow(img, interpolation='bilinear')\n",
    "        valid = 1\n",
    "    except Exception as e:\n",
    "        print(e)\n",
    "        if draw:\n",
    "            Draw.MolToMPL(mol, size=(250, 250)); \n",
    "        valid = 0\n",
    "      \n",
    "    if draw:\n",
    "        plt.axis('off')\n",
    "        plt.show()\n",
    "    \n",
    "    return edge_list, node_list, z, valid, similarity"
   ]
  },
  {
   "cell_type": "raw",
   "metadata": {},
   "source": [
    "idx = torch.randint(len(dataset), (1,))\n",
    "smiles = dataset.data[idx]\n",
    "#edge_list, node_list, emb, valid, similarity = run_network(smiles)\n",
    "node_list, edge_list = run_network(smiles)"
   ]
  },
  {
   "cell_type": "raw",
   "metadata": {},
   "source": [
    "emb_list = []\n",
    "valid_list = []\n",
    "sim_list = []\n",
    "\n",
    "processed = []\n",
    "for i in tqdm(range(6000)):\n",
    "    while True:\n",
    "        idx = torch.randint(len(dataset), (1,))\n",
    "        if idx not in processed: break\n",
    "    processed.append(idx)\n",
    "    smiles = dataset.data[idx]\n",
    "    emb, valid, similarity = run_network(smiles, draw=False)\n",
    "    emb_list.append(emb.data.cpu().numpy())\n",
    "    valid_list.append(valid)\n",
    "    sim_list.append(similarity)"
   ]
  },
  {
   "cell_type": "raw",
   "metadata": {},
   "source": [
    "tsne = TSNE(n_components=2, random_state=10)\n",
    "emb_2d = tsne.fit_transform(emb_list)"
   ]
  },
  {
   "cell_type": "raw",
   "metadata": {},
   "source": [
    "plt.figure(figsize=(20, 10))\n",
    "plt.subplot(121)\n",
    "plt.scatter(emb_2d[:, 0], emb_2d[:, 1], c=valid_list, s=20, cmap='RdBu', alpha=0.7)\n",
    "plt.colorbar()\n",
    "\n",
    "plt.subplot(122)\n",
    "plt.scatter(emb_2d[:, 0], emb_2d[:, 1], c=sim_list, s=20, alpha=0.7)\n",
    "plt.colorbar()\n",
    "plt.show()\n",
    "\n",
    "plt.show()"
   ]
  },
  {
   "cell_type": "raw",
   "metadata": {},
   "source": [
    "predicted = nx.Graph()\n",
    "for i, n in enumerate(node_list):\n",
    "    predicted.add_node(i, atom=n)\n",
    "for e, bt in edge_list:\n",
    "    predicted.add_edge(*e, bond_type=bt)\n",
    "    \n",
    "plt.figure()\n",
    "plt.title(len(node_list))\n",
    "#pos = nx.spring_layout(predicted)\n",
    "pos = nx.kamada_kawai_layout(predicted)\n",
    "nx.draw(predicted, pos)\n",
    "node_labels = nx.get_node_attributes(predicted, 'atom')\n",
    "nx.draw_networkx_labels(predicted, pos, labels=node_labels)\n",
    "edge_labels = nx.get_edge_attributes(predicted, 'bond_type')\n",
    "nx.draw_networkx_edge_labels(predicted, pos, edge_labels=edge_labels)\n",
    "plt.show()"
   ]
  },
  {
   "cell_type": "raw",
   "metadata": {},
   "source": []
  },
  {
   "cell_type": "raw",
   "metadata": {},
   "source": [
    "mol"
   ]
  },
  {
   "cell_type": "code",
   "execution_count": null,
   "metadata": {},
   "outputs": [],
   "source": []
  }
 ],
 "metadata": {
  "kernelspec": {
   "display_name": "Python 3",
   "language": "python",
   "name": "python3"
  },
  "language_info": {
   "codemirror_mode": {
    "name": "ipython",
    "version": 3
   },
   "file_extension": ".py",
   "mimetype": "text/x-python",
   "name": "python",
   "nbconvert_exporter": "python",
   "pygments_lexer": "ipython3",
   "version": "3.7.3"
  }
 },
 "nbformat": 4,
 "nbformat_minor": 4
}
