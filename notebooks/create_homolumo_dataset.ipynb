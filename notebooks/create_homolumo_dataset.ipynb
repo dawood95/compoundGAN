{
 "cells": [
  {
   "cell_type": "code",
   "execution_count": 36,
   "metadata": {},
   "outputs": [],
   "source": [
    "import pandas as pd\n",
    "\n",
    "from pathlib import Path\n",
    "from rdkit import Chem\n",
    "from tqdm import tqdm_notebook as tqdm\n"
   ]
  },
  {
   "cell_type": "code",
   "execution_count": 21,
   "metadata": {},
   "outputs": [],
   "source": [
    "value_file = pd.read_excel('/home/dawood/Downloads/homolumo/frontier_orbitals_111725mols.xlsx')"
   ]
  },
  {
   "cell_type": "code",
   "execution_count": 37,
   "metadata": {},
   "outputs": [
    {
     "data": {
      "application/vnd.jupyter.widget-view+json": {
       "model_id": "55ab8e19bcea470abfcaa973a86f0074",
       "version_major": 2,
       "version_minor": 0
      },
      "text/plain": [
       "HBox(children=(IntProgress(value=1, bar_style='info', max=1), HTML(value='')))"
      ]
     },
     "metadata": {},
     "output_type": "display_data"
    },
    {
     "name": "stdout",
     "output_type": "stream",
     "text": [
      "\n"
     ]
    },
    {
     "data": {
      "application/vnd.jupyter.widget-view+json": {
       "model_id": "737782b965e446d7ab19cfce3121b8d6",
       "version_major": 2,
       "version_minor": 0
      },
      "text/plain": [
       "HBox(children=(IntProgress(value=1, bar_style='info', max=1), HTML(value='')))"
      ]
     },
     "metadata": {},
     "output_type": "display_data"
    },
    {
     "name": "stdout",
     "output_type": "stream",
     "text": [
      "\n"
     ]
    }
   ],
   "source": [
    "dataset_mols = {}\n",
    "mol_root = Path('/home/dawood/Downloads/homolumo/frontier_orbitals_111725mols_sdf (1)/Dataset')\n",
    "for sdf in tqdm(mol_root.glob('*')):\n",
    "    for mol in Chem.SDMolSupplier(sdf.as_posix()):\n",
    "        dataset_mols[sdf.name.split('.')[0]] = Chem.MolToSmiles(mol)\n",
    "mol_root = Path('/home/dawood/Downloads/homolumo/frontier_orbitals_111725mols_sdf (1)/TestFinal')\n",
    "for sdf in tqdm(mol_root.glob('*')):\n",
    "    for mol in Chem.SDMolSupplier(sdf.as_posix()):\n",
    "        dataset_mols[sdf.name.split('.')[0]] = Chem.MolToSmiles(mol)"
   ]
  },
  {
   "cell_type": "code",
   "execution_count": 44,
   "metadata": {},
   "outputs": [
    {
     "data": {
      "application/vnd.jupyter.widget-view+json": {
       "model_id": "03dce833e4794cd19cafdc98accbf736",
       "version_major": 2,
       "version_minor": 0
      },
      "text/plain": [
       "HBox(children=(IntProgress(value=1, bar_style='info', max=1), HTML(value='')))"
      ]
     },
     "metadata": {},
     "output_type": "display_data"
    },
    {
     "name": "stdout",
     "output_type": "stream",
     "text": [
      "\n"
     ]
    }
   ],
   "source": [
    "data = []\n",
    "for i, fname in tqdm(enumerate(value_file['Filename'])):\n",
    "    data.append((dataset_mols[fname], value_file.iloc[i][1], value_file.iloc[i][2]))"
   ]
  },
  {
   "cell_type": "code",
   "execution_count": 48,
   "metadata": {},
   "outputs": [
    {
     "data": {
      "application/vnd.jupyter.widget-view+json": {
       "model_id": "55f1ce14b9c84373a03820deddb9d0ff",
       "version_major": 2,
       "version_minor": 0
      },
      "text/plain": [
       "HBox(children=(IntProgress(value=0, max=98526), HTML(value='')))"
      ]
     },
     "metadata": {},
     "output_type": "display_data"
    },
    {
     "name": "stdout",
     "output_type": "stream",
     "text": [
      "\n"
     ]
    }
   ],
   "source": [
    "with open('/home/dawood/Datasets/homolumo.txt', 'w+') as F:\n",
    "    F.write(\"smiles,homo,lumo\\n\")\n",
    "    for smiles, homo, lumo in tqdm(data):\n",
    "        F.write(\"%s,%f,%f\\n\"%(smiles, homo, lumo))"
   ]
  },
  {
   "cell_type": "code",
   "execution_count": null,
   "metadata": {},
   "outputs": [],
   "source": []
  }
 ],
 "metadata": {
  "kernelspec": {
   "display_name": "Python 3",
   "language": "python",
   "name": "python3"
  },
  "language_info": {
   "codemirror_mode": {
    "name": "ipython",
    "version": 3
   },
   "file_extension": ".py",
   "mimetype": "text/x-python",
   "name": "python",
   "nbconvert_exporter": "python",
   "pygments_lexer": "ipython3",
   "version": "3.7.3"
  }
 },
 "nbformat": 4,
 "nbformat_minor": 2
}
