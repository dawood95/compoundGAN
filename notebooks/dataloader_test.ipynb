{
 "cells": [
  {
   "cell_type": "code",
   "execution_count": 1,
   "metadata": {},
   "outputs": [
    {
     "name": "stdout",
     "output_type": "stream",
     "text": [
      "/home/dawood/Workspace/compoundGAN\n"
     ]
    }
   ],
   "source": [
    "%cd .."
   ]
  },
  {
   "cell_type": "code",
   "execution_count": 2,
   "metadata": {},
   "outputs": [],
   "source": [
    "import torch\n",
    "import dgl\n",
    "from torch.utils.data import DataLoader\n",
    "from tqdm import tqdm\n",
    "\n",
    "from data.zinc import ZINC250K, ZINC_collate\n",
    "from models.gcn import GCN"
   ]
  },
  {
   "cell_type": "code",
   "execution_count": 3,
   "metadata": {},
   "outputs": [],
   "source": [
    "model = GCN(59, 13, 256, [64, 128, 128])"
   ]
  },
  {
   "cell_type": "code",
   "execution_count": 4,
   "metadata": {},
   "outputs": [],
   "source": [
    "dataset = ZINC250K('/home/dawood/Datasets/ZINC250K/data.csv')\n",
    "dataset.max_seq_len = 1"
   ]
  },
  {
   "cell_type": "code",
   "execution_count": 5,
   "metadata": {},
   "outputs": [],
   "source": [
    "dataloader = DataLoader(dataset, 1, shuffle=True, collate_fn=ZINC_collate, num_workers=8)"
   ]
  },
  {
   "cell_type": "code",
   "execution_count": 6,
   "metadata": {
    "scrolled": true
   },
   "outputs": [
    {
     "name": "stderr",
     "output_type": "stream",
     "text": [
      "0it [00:00, ?it/s]\n"
     ]
    }
   ],
   "source": [
    "num_nodes = []\n",
    "for i, g in tqdm(enumerate(dataloader)):\n",
    "    #num_nodes.extend(g.batch_num_nodes)\n",
    "    break"
   ]
  },
  {
   "cell_type": "code",
   "execution_count": 7,
   "metadata": {},
   "outputs": [
    {
     "data": {
      "text/plain": [
       "tensor([[9.2522e-01, 2.9074e-03, 7.4232e-04, 1.2976e-03, 7.4232e-04, 3.5081e-03,\n",
       "         7.4232e-04, 7.4232e-04, 7.4232e-04, 7.4232e-04, 7.4232e-04, 4.1125e-03,\n",
       "         7.4232e-04, 7.4232e-04, 4.0376e-03, 3.9121e-03, 2.2613e-03, 7.4232e-04,\n",
       "         7.8362e-04, 7.4232e-04, 7.4232e-04, 7.4232e-04, 5.2435e-03, 2.0194e-03,\n",
       "         3.4007e-03, 7.4232e-04, 7.4232e-04, 3.0282e-03, 7.4232e-04, 7.4232e-04,\n",
       "         5.1502e-03, 3.0469e-03, 4.9216e-03, 7.4232e-04, 7.4232e-04, 7.4232e-04,\n",
       "         1.6938e-03, 7.4232e-04, 7.4232e-04, 7.4232e-04, 3.5808e-03, 7.4232e-04,\n",
       "         2.0601e-03],\n",
       "        [7.3892e-04, 7.3892e-04, 3.6363e-03, 5.1491e-03, 7.3892e-04, 7.3892e-04,\n",
       "         4.9767e-03, 8.2045e-04, 7.3892e-04, 5.2743e-03, 7.3892e-04, 7.3892e-04,\n",
       "         7.3892e-04, 1.2397e-03, 2.3629e-03, 3.5278e-03, 4.9499e-03, 7.3892e-04,\n",
       "         4.0493e-03, 7.3892e-04, 7.3892e-04, 9.1389e-04, 7.3892e-04, 7.3892e-04,\n",
       "         7.3892e-04, 7.3892e-04, 7.3892e-04, 7.3892e-04, 1.3464e-03, 5.2492e-03,\n",
       "         3.9213e-03, 7.3892e-04, 7.3892e-04, 7.3892e-04, 3.6842e-03, 7.3892e-04,\n",
       "         3.5705e-03, 7.3892e-04, 2.9878e-03, 7.3892e-04, 8.5891e-04, 7.3892e-04,\n",
       "         9.2375e-01]])"
      ]
     },
     "execution_count": 7,
     "metadata": {},
     "output_type": "execute_result"
    }
   ],
   "source": [
    "g.ndata['feats'][:, :43]"
   ]
  },
  {
   "cell_type": "code",
   "execution_count": 8,
   "metadata": {},
   "outputs": [
    {
     "data": {
      "text/plain": [
       "tensor([[9.7535e-01, 1.1837e-02, 9.3889e-04, 9.3889e-04, 1.0932e-02, 9.9922e-01,\n",
       "         7.8114e-04, 9.9956e-01, 4.3501e-04, 9.4171e-01, 5.7032e-02, 6.3115e-04,\n",
       "         6.3115e-04],\n",
       "        [9.3951e-01, 5.0667e-04, 4.0942e-03, 3.7843e-02, 1.8049e-02, 9.9924e-01,\n",
       "         7.5643e-04, 9.9952e-01, 4.8306e-04, 9.8267e-01, 1.5234e-02, 2.0738e-05,\n",
       "         2.0742e-03],\n",
       "        [9.3951e-01, 5.0667e-04, 4.0942e-03, 3.7843e-02, 1.8049e-02, 9.9924e-01,\n",
       "         7.5643e-04, 9.9952e-01, 4.8306e-04, 9.8267e-01, 1.5234e-02, 2.0738e-05,\n",
       "         2.0742e-03],\n",
       "        [9.3757e-01, 3.0421e-02, 8.0137e-04, 3.0404e-02, 8.0137e-04, 9.3828e-01,\n",
       "         6.1722e-02, 9.9920e-01, 7.9602e-04, 9.6541e-01, 3.2925e-02, 8.3379e-04,\n",
       "         8.3379e-04]])"
      ]
     },
     "execution_count": 8,
     "metadata": {},
     "output_type": "execute_result"
    }
   ],
   "source": [
    "g.edata['feats'][:]"
   ]
  },
  {
   "cell_type": "code",
   "execution_count": 9,
   "metadata": {},
   "outputs": [
    {
     "data": {
      "text/plain": [
       "(DGLGraph(num_nodes=2, num_edges=4,\n",
       "          ndata_schemes={}\n",
       "          edata_schemes={}), DGLGraph(num_nodes=2, num_edges=4,\n",
       "          ndata_schemes={'feats': Scheme(shape=(58,), dtype=torch.float32)}\n",
       "          edata_schemes={'feats': Scheme(shape=(13,), dtype=torch.float32)}))"
      ]
     },
     "execution_count": 9,
     "metadata": {},
     "output_type": "execute_result"
    }
   ],
   "source": [
    "g_copy = dgl.batch([dgl.DGLGraph(_g._graph) for _g in dgl.unbatch(g)])\n",
    "g_copy, g"
   ]
  },
  {
   "cell_type": "code",
   "execution_count": 10,
   "metadata": {},
   "outputs": [
    {
     "data": {
      "text/plain": [
       "DGLGraph(num_nodes=2, num_edges=4,\n",
       "         ndata_schemes={}\n",
       "         edata_schemes={})"
      ]
     },
     "execution_count": 10,
     "metadata": {},
     "output_type": "execute_result"
    }
   ],
   "source": [
    "g_copy"
   ]
  },
  {
   "cell_type": "code",
   "execution_count": 11,
   "metadata": {},
   "outputs": [
    {
     "ename": "NameError",
     "evalue": "name 'mask' is not defined",
     "output_type": "error",
     "traceback": [
      "\u001b[0;31m---------------------------------------------------------------------------\u001b[0m",
      "\u001b[0;31mNameError\u001b[0m                                 Traceback (most recent call last)",
      "\u001b[0;32m<ipython-input-11-84118919d918>\u001b[0m in \u001b[0;36m<module>\u001b[0;34m\u001b[0m\n\u001b[0;32m----> 1\u001b[0;31m \u001b[0mmask\u001b[0m\u001b[0;34m.\u001b[0m\u001b[0mshape\u001b[0m\u001b[0;34m\u001b[0m\u001b[0;34m\u001b[0m\u001b[0m\n\u001b[0m",
      "\u001b[0;31mNameError\u001b[0m: name 'mask' is not defined"
     ]
    }
   ],
   "source": [
    "mask.shape"
   ]
  },
  {
   "cell_type": "code",
   "execution_count": null,
   "metadata": {},
   "outputs": [],
   "source": [
    "len(atom_y)"
   ]
  },
  {
   "cell_type": "code",
   "execution_count": null,
   "metadata": {},
   "outputs": [],
   "source": []
  },
  {
   "cell_type": "code",
   "execution_count": null,
   "metadata": {},
   "outputs": [],
   "source": []
  }
 ],
 "metadata": {
  "kernelspec": {
   "display_name": "Python 3",
   "language": "python",
   "name": "python3"
  },
  "language_info": {
   "codemirror_mode": {
    "name": "ipython",
    "version": 3
   },
   "file_extension": ".py",
   "mimetype": "text/x-python",
   "name": "python",
   "nbconvert_exporter": "python",
   "pygments_lexer": "ipython3",
   "version": "3.7.3"
  }
 },
 "nbformat": 4,
 "nbformat_minor": 4
}
