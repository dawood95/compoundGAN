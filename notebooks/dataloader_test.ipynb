{
 "cells": [
  {
   "cell_type": "code",
   "execution_count": 1,
   "metadata": {},
   "outputs": [
    {
     "name": "stdout",
     "output_type": "stream",
     "text": [
      "/home/dawood/Workspace/compoundGAN\n"
     ]
    }
   ],
   "source": [
    "%cd .."
   ]
  },
  {
   "cell_type": "code",
   "execution_count": 13,
   "metadata": {},
   "outputs": [
    {
     "name": "stdout",
     "output_type": "stream",
     "text": [
      "The line_profiler extension is already loaded. To reload it, use:\n",
      "  %reload_ext line_profiler\n"
     ]
    }
   ],
   "source": [
    "import torch\n",
    "import dgl\n",
    "import networkx as nx\n",
    "from torch.utils.data import DataLoader\n",
    "from tqdm import tqdm\n",
    "\n",
    "from data.zinc import ZINC250K, ZINC_collate, Library\n",
    "from data import utils\n",
    "from models.gcn import GCN\n",
    "\n",
    "from matplotlib import pyplot as plt\n",
    "plt.style.use('seaborn-deep')\n",
    "\n",
    "%matplotlib inline\n",
    "%load_ext line_profiler\n",
    "\n",
    "atom_list = [i for i in Library.atom_list]\n",
    "atom_list.append('END')"
   ]
  },
  {
   "cell_type": "code",
   "execution_count": 3,
   "metadata": {},
   "outputs": [],
   "source": [
    "model = GCN(59, 13, 256, [64, 128, 128])"
   ]
  },
  {
   "cell_type": "code",
   "execution_count": 15,
   "metadata": {},
   "outputs": [],
   "source": [
    "dataset = ZINC250K('/home/dawood/Datasets/ZINC250K/data.csv')\n",
    "dataset.max_seq_len = 50"
   ]
  },
  {
   "cell_type": "code",
   "execution_count": 16,
   "metadata": {},
   "outputs": [],
   "source": [
    "dataloader = DataLoader(dataset, 1, shuffle=True, collate_fn=ZINC_collate)"
   ]
  },
  {
   "cell_type": "code",
   "execution_count": 17,
   "metadata": {
    "scrolled": true
   },
   "outputs": [
    {
     "name": "stderr",
     "output_type": "stream",
     "text": [
      "0it [00:00, ?it/s]\n"
     ]
    }
   ],
   "source": [
    "num_nodes = []\n",
    "for i, G in tqdm(enumerate(dataloader)):\n",
    "    #num_nodes.extend(g.batch_num_nodes)\n",
    "    break"
   ]
  },
  {
   "cell_type": "code",
   "execution_count": 19,
   "metadata": {},
   "outputs": [
    {
     "data": {
      "text/plain": [
       "Timer unit: 1e-06 s\n",
       "\n",
       "Total time: 0.010372 s\n",
       "File: /home/dawood/Workspace/compoundGAN/data/utils.py\n",
       "Function: atoms2vec at line 36\n",
       "\n",
       "Line #      Hits         Time  Per Hit   % Time  Line Contents\n",
       "==============================================================\n",
       "    36                                           def atoms2vec(atoms):\n",
       "    37         1          4.0      4.0      0.0      atom_idx      = []\n",
       "    38         1          3.0      3.0      0.0      charge_idx    = []\n",
       "    39         1          2.0      2.0      0.0      electron_idx  = []\n",
       "    40         1          2.0      2.0      0.0      chirality_idx = []\n",
       "    41         1          2.0      2.0      0.0      aromatic_idx  = []\n",
       "    42                                           \n",
       "    43        37         43.0      1.2      0.4      for atom in atoms:\n",
       "    44                                                   # Element\n",
       "    45        36        103.0      2.9      1.0          try: idx = Library.atom_list.index(atom.GetSymbol())\n",
       "    46                                                   except: raise ValueError\n",
       "    47        36         43.0      1.2      0.4          atom_idx.append(idx)\n",
       "    48                                           \n",
       "    49                                                   # Charge\n",
       "    50        36         79.0      2.2      0.8          idx = atom.GetFormalCharge()+3\n",
       "    51        36         42.0      1.2      0.4          charge_idx.append(idx)\n",
       "    52                                           \n",
       "    53                                                   # Radical Electrons\n",
       "    54        36         58.0      1.6      0.6          idx = atom.GetNumRadicalElectrons()\n",
       "    55        36         40.0      1.1      0.4          electron_idx.append(idx)\n",
       "    56                                           \n",
       "    57                                                   # Aromatic\n",
       "    58        36         52.0      1.4      0.5          idx = atom.GetIsAromatic()\n",
       "    59        36         37.0      1.0      0.4          aromatic_idx.append(idx)\n",
       "    60                                           \n",
       "    61                                                   # Chirality\n",
       "    62        36       8347.0    231.9     80.5          try: idx = Library.chirality_list.index(atom.GetProp('_CIPCode'))\n",
       "    63        35         60.0      1.7      0.6          except: idx = len(Library.chirality_list)\n",
       "    64        36        110.0      3.1      1.1          chirality_idx.append(idx)\n",
       "    65                                           \n",
       "    66         1          1.0      1.0      0.0      atom_idx.append(len(Library.atom_list))\n",
       "    67         1          1.0      1.0      0.0      charge_idx.append(3)\n",
       "    68         1          0.0      0.0      0.0      electron_idx.append(0)\n",
       "    69         1          1.0      1.0      0.0      chirality_idx.append(2)\n",
       "    70         1          0.0      0.0      0.0      aromatic_idx.append(0)\n",
       "    71                                           \n",
       "    72         1         72.0     72.0      0.7      atom_idx      = torch.Tensor(atom_idx).long()\n",
       "    73         1         45.0     45.0      0.4      charge_idx    = torch.Tensor(charge_idx).long()\n",
       "    74         1        128.0    128.0      1.2      electron_idx  = torch.Tensor(electron_idx).long()\n",
       "    75         1         42.0     42.0      0.4      chirality_idx = torch.Tensor(chirality_idx).long()\n",
       "    76         1         32.0     32.0      0.3      aromatic_idx  = torch.Tensor(aromatic_idx).long()\n",
       "    77                                           \n",
       "    78         1         77.0     77.0      0.7      atom_emb      = F.one_hot(atom_idx, len(Library.atom_list)+1)\n",
       "    79         1         46.0     46.0      0.4      charge_emb    = F.one_hot(charge_idx, len(Library.charge_list))\n",
       "    80         1         43.0     43.0      0.4      electron_emb  = F.one_hot(electron_idx, len(Library.electron_list))\n",
       "    81         1         42.0     42.0      0.4      chirality_emb = F.one_hot(chirality_idx, len(Library.chirality_list)+1)\n",
       "    82         1         41.0     41.0      0.4      aromatic_emb  = F.one_hot(aromatic_idx, 2)\n",
       "    83                                           \n",
       "    84         1          2.0      2.0      0.0      feats = [atom_emb, charge_emb, electron_emb, chirality_emb, aromatic_emb]\n",
       "    85         1        734.0    734.0      7.1      feats = [onehot_noise(f.float()) for f in feats] # Add one-hot noise\n",
       "    86         1         36.0     36.0      0.3      feats = torch.cat(feats, dim=1)\n",
       "    87         1          2.0      2.0      0.0      return feats"
      ]
     },
     "metadata": {},
     "output_type": "display_data"
    }
   ],
   "source": [
    "%lprun -f utils.atoms2vec dataset[10]"
   ]
  },
  {
   "cell_type": "code",
   "execution_count": 9,
   "metadata": {},
   "outputs": [
    {
     "data": {
      "text/plain": [
       "<function matplotlib.pyplot.show(*args, **kw)>"
      ]
     },
     "execution_count": 9,
     "metadata": {},
     "output_type": "execute_result"
    },
    {
     "data": {
      "image/png": "[encoded data removed]",
      "text/plain": [
       "<Figure size 432x288 with 1 Axes>"
      ]
     },
     "metadata": {},
     "output_type": "display_data"
    }
   ],
   "source": [
    "atoms = [atom_list[i] for i in G.ndata['feats'][:, :43].argmax(1).data.cpu()]\n",
    "G_pred = nx.Graph()\n",
    "for i, atom in enumerate(atoms):\n",
    "    G_pred.add_node(i, atom='%d:%s'%(i, atom))\n",
    "\n",
    "edge_pred = G.edata['feats'][:, :5].argmax(1).data.cpu()\n",
    "edge_pred_score = G.edata['feats'][:, :5].max(1)[0].data.cpu()\n",
    "\n",
    "edges = []\n",
    "edge_num = 0\n",
    "edge_types = []\n",
    "for i in range(len(atoms)):\n",
    "    for j in range(i):\n",
    "        if edge_pred[edge_num] > 0:\n",
    "            #print(edge_pred[edge_num].item())\n",
    "            edges.append((j, i))\n",
    "            edge_types.append(edge_pred[edge_num].item())\n",
    "        edge_num += 2\n",
    "    edge_num +=1\n",
    "\n",
    "for i in range(len(edges)):\n",
    "    G_pred.add_edge(*edges[i], bond_type=edge_types[i])\n",
    "\n",
    "pos = nx.kamada_kawai_layout(G_pred)\n",
    "node_labels = nx.get_node_attributes(G_pred, 'atom')\n",
    "nx.draw_networkx(G_pred, pos, font_color='w', node_size=600, labels=node_labels)\n",
    "#\n",
    "#nx.draw_networkx_labels(G_pred, pos, labels=node_labels)\n",
    "\n",
    "if len(edges) < 30:\n",
    "    edge_labels = nx.get_edge_attributes(G_pred, 'bond_type')\n",
    "    nx.draw_networkx_edge_labels(G_pred, pos, edge_labels=edge_labels)\n",
    "\n",
    "plt.title('Num Atoms : %d'%(len(atoms)))\n",
    "plt.show"
   ]
  },
  {
   "cell_type": "code",
   "execution_count": 8,
   "metadata": {},
   "outputs": [
    {
     "ename": "NameError",
     "evalue": "name 'g' is not defined",
     "output_type": "error",
     "traceback": [
      "\u001b[0;31m---------------------------------------------------------------------------\u001b[0m",
      "\u001b[0;31mNameError\u001b[0m                                 Traceback (most recent call last)",
      "\u001b[0;32m<ipython-input-8-3e07bfcbdd66>\u001b[0m in \u001b[0;36m<module>\u001b[0;34m\u001b[0m\n\u001b[0;32m----> 1\u001b[0;31m \u001b[0mg_copy\u001b[0m \u001b[0;34m=\u001b[0m \u001b[0mdgl\u001b[0m\u001b[0;34m.\u001b[0m\u001b[0mbatch\u001b[0m\u001b[0;34m(\u001b[0m\u001b[0;34m[\u001b[0m\u001b[0mdgl\u001b[0m\u001b[0;34m.\u001b[0m\u001b[0mDGLGraph\u001b[0m\u001b[0;34m(\u001b[0m\u001b[0m_g\u001b[0m\u001b[0;34m.\u001b[0m\u001b[0m_graph\u001b[0m\u001b[0;34m)\u001b[0m \u001b[0;32mfor\u001b[0m \u001b[0m_g\u001b[0m \u001b[0;32min\u001b[0m \u001b[0mdgl\u001b[0m\u001b[0;34m.\u001b[0m\u001b[0munbatch\u001b[0m\u001b[0;34m(\u001b[0m\u001b[0mg\u001b[0m\u001b[0;34m)\u001b[0m\u001b[0;34m]\u001b[0m\u001b[0;34m)\u001b[0m\u001b[0;34m\u001b[0m\u001b[0;34m\u001b[0m\u001b[0m\n\u001b[0m\u001b[1;32m      2\u001b[0m \u001b[0mg_copy\u001b[0m\u001b[0;34m,\u001b[0m \u001b[0mg\u001b[0m\u001b[0;34m\u001b[0m\u001b[0;34m\u001b[0m\u001b[0m\n",
      "\u001b[0;31mNameError\u001b[0m: name 'g' is not defined"
     ]
    }
   ],
   "source": [
    "g_copy = dgl.batch([dgl.DGLGraph(_g._graph) for _g in dgl.unbatch(g)])\n",
    "g_copy, g"
   ]
  },
  {
   "cell_type": "code",
   "execution_count": 11,
   "metadata": {},
   "outputs": [
    {
     "data": {
      "text/plain": [
       "tensor([[9.4971e-01, 2.4756e-04, 2.4756e-04, 2.4756e-04, 2.4756e-04, 2.4756e-04,\n",
       "         2.4756e-04, 2.4756e-04, 3.2829e-03, 4.2020e-03, 4.0417e-03, 2.4756e-04,\n",
       "         2.4756e-04, 1.9999e-03, 2.4756e-04, 4.6864e-03, 2.4756e-04, 5.4227e-03,\n",
       "         2.4756e-04, 2.4756e-04, 5.0554e-03, 7.0746e-04, 4.8894e-03, 1.6411e-03,\n",
       "         5.9364e-04, 2.4756e-04, 2.4756e-04, 2.4756e-04, 1.8396e-03, 1.3446e-03,\n",
       "         2.4756e-04, 2.4756e-04, 2.4756e-04, 2.4756e-04, 1.2096e-03, 1.6108e-03,\n",
       "         2.4756e-04, 2.4756e-04, 1.1069e-03, 2.4756e-04, 2.4756e-04, 2.4756e-04,\n",
       "         4.7108e-04],\n",
       "        [2.9712e-03, 9.3465e-01, 2.4153e-04, 4.9218e-03, 2.4153e-04, 1.2454e-03,\n",
       "         2.4153e-04, 2.9800e-03, 2.4153e-04, 2.4153e-04, 2.4153e-04, 2.9484e-03,\n",
       "         2.4153e-04, 2.4153e-04, 5.3058e-03, 5.6043e-04, 2.4153e-04, 3.8470e-03,\n",
       "         2.0576e-03, 3.2399e-03, 2.4153e-04, 2.4153e-04, 2.4153e-04, 2.4153e-04,\n",
       "         2.4153e-04, 5.2482e-03, 2.4153e-04, 2.4153e-04, 3.1192e-03, 2.4153e-04,\n",
       "         2.4153e-04, 2.4153e-04, 2.4153e-04, 2.4153e-04, 6.2848e-04, 5.1759e-03,\n",
       "         3.5780e-03, 1.6449e-03, 5.3709e-03, 2.4153e-04, 2.4153e-04, 4.7097e-03,\n",
       "         2.4153e-04],\n",
       "        [9.2795e-01, 2.4143e-04, 2.4143e-04, 2.4143e-04, 2.9062e-03, 2.4143e-04,\n",
       "         1.8964e-03, 1.2936e-03, 7.2734e-04, 2.4143e-04, 2.4143e-04, 2.4143e-04,\n",
       "         2.4143e-04, 3.6275e-03, 5.0362e-03, 2.4143e-04, 4.8905e-03, 2.4143e-04,\n",
       "         4.3116e-03, 4.6505e-03, 3.4264e-03, 5.3141e-03, 1.9123e-03, 2.4143e-04,\n",
       "         4.9191e-03, 2.4143e-04, 2.4143e-04, 2.9844e-03, 5.1575e-03, 2.4143e-04,\n",
       "         2.4143e-04, 1.6199e-03, 4.9537e-03, 2.4143e-04, 2.4143e-04, 3.9055e-04,\n",
       "         3.9341e-03, 2.7816e-03, 2.4143e-04, 2.4143e-04, 2.4143e-04, 2.4143e-04,\n",
       "         2.4143e-04],\n",
       "        [9.5030e-01, 2.4825e-04, 2.4825e-04, 2.4825e-04, 3.5250e-03, 4.2244e-03,\n",
       "         3.1743e-03, 4.8378e-03, 2.4825e-04, 2.4825e-04, 2.4825e-04, 2.4825e-04,\n",
       "         2.4825e-04, 3.4192e-03, 4.3159e-03, 2.4825e-04, 3.9524e-03, 2.4825e-04,\n",
       "         2.4825e-04, 2.4825e-04, 5.5363e-03, 2.4825e-04, 2.4825e-04, 1.0569e-03,\n",
       "         2.4825e-04, 2.4825e-04, 2.4825e-04, 2.7241e-04, 2.4825e-04, 2.4825e-04,\n",
       "         2.4825e-04, 2.4825e-04, 2.4825e-04, 2.4825e-04, 2.4825e-04, 2.4825e-04,\n",
       "         3.0829e-03, 2.4825e-04, 2.2138e-03, 2.4825e-04, 2.4825e-04, 2.8889e-03,\n",
       "         2.4825e-04],\n",
       "        [2.4605e-04, 2.4605e-04, 9.4649e-01, 5.3422e-03, 2.4605e-04, 2.2403e-03,\n",
       "         4.2189e-03, 2.4605e-04, 2.4605e-04, 2.4605e-04, 2.4605e-04, 7.7171e-04,\n",
       "         2.4605e-04, 4.2365e-03, 2.4605e-04, 5.6703e-04, 2.4605e-04, 5.3053e-03,\n",
       "         4.1809e-03, 8.3938e-04, 2.4605e-04, 2.4605e-04, 2.4605e-04, 2.7384e-03,\n",
       "         2.4605e-04, 2.4605e-04, 2.4605e-04, 4.7921e-03, 2.4605e-04, 2.8083e-03,\n",
       "         2.4605e-04, 2.4605e-04, 2.4605e-04, 2.4605e-04, 2.4605e-04, 2.4605e-04,\n",
       "         2.4579e-03, 4.1505e-03, 2.4605e-04, 2.4605e-04, 1.5201e-03, 2.4605e-04,\n",
       "         9.4365e-04],\n",
       "        [1.0520e-03, 4.7102e-03, 9.2613e-01, 4.9844e-03, 2.8179e-03, 1.7951e-03,\n",
       "         5.3538e-03, 5.2308e-03, 2.4127e-04, 2.4127e-04, 2.4127e-04, 2.4159e-03,\n",
       "         2.4127e-04, 2.4127e-04, 2.4127e-04, 2.4127e-04, 1.1718e-03, 2.4127e-04,\n",
       "         4.1063e-03, 1.0274e-03, 3.4020e-03, 2.4127e-04, 2.4127e-04, 2.4127e-04,\n",
       "         2.4127e-04, 3.5056e-03, 4.5846e-03, 2.4127e-04, 4.3962e-03, 7.1028e-04,\n",
       "         2.4127e-04, 1.5018e-03, 2.4127e-04, 2.9760e-03, 3.7872e-03, 3.2679e-03,\n",
       "         2.4127e-04, 2.4127e-04, 2.4127e-04, 2.0894e-03, 4.1563e-03, 2.4127e-04,\n",
       "         2.4127e-04],\n",
       "        [9.2198e-01, 1.1761e-03, 1.5792e-03, 2.3990e-04, 2.3990e-04, 2.3990e-04,\n",
       "         2.3990e-04, 1.1161e-03, 1.3818e-03, 2.3990e-04, 2.3990e-04, 2.3990e-04,\n",
       "         4.7348e-03, 3.0470e-03, 1.5948e-03, 3.6250e-03, 2.3990e-04, 2.3990e-04,\n",
       "         6.9356e-04, 2.3990e-04, 5.0785e-03, 2.7235e-03, 4.9377e-03, 2.3990e-04,\n",
       "         5.0022e-03, 8.5127e-04, 2.7773e-03, 2.3990e-04, 2.4552e-03, 2.3990e-04,\n",
       "         1.4670e-03, 2.3990e-04, 4.5782e-03, 3.5721e-03, 2.3990e-04, 3.6050e-03,\n",
       "         2.3990e-04, 5.3314e-03, 1.0793e-03, 3.5087e-03, 4.7121e-03, 3.2417e-03,\n",
       "         3.1659e-04],\n",
       "        [9.4648e-01, 3.7133e-03, 2.4572e-04, 3.8370e-03, 2.4572e-04, 2.4572e-04,\n",
       "         5.3375e-03, 2.4572e-04, 2.4572e-04, 2.4572e-04, 2.9201e-03, 3.4202e-03,\n",
       "         2.4572e-04, 2.4572e-04, 2.0273e-03, 2.4572e-04, 2.4572e-04, 2.4572e-04,\n",
       "         2.4572e-04, 7.9119e-04, 2.4572e-04, 2.4572e-04, 6.7963e-04, 2.4572e-04,\n",
       "         3.7800e-03, 2.4572e-04, 1.4071e-03, 3.9148e-03, 2.0286e-03, 2.4572e-04,\n",
       "         2.4572e-04, 2.4572e-04, 2.4572e-04, 2.4572e-04, 4.8349e-03, 1.0735e-03,\n",
       "         2.4572e-04, 2.4572e-04, 2.4572e-04, 8.8660e-04, 2.4572e-04, 2.2465e-03,\n",
       "         4.4740e-03],\n",
       "        [2.2239e-03, 3.5931e-03, 4.3795e-03, 2.4269e-04, 2.8962e-03, 4.2528e-03,\n",
       "         4.8962e-04, 1.9919e-03, 2.4269e-04, 2.4269e-04, 3.1942e-03, 3.9338e-03,\n",
       "         3.2780e-03, 3.3140e-03, 2.4269e-04, 2.4269e-04, 2.4269e-04, 1.3181e-03,\n",
       "         2.4269e-04, 2.9464e-03, 4.1021e-03, 1.9945e-03, 2.4269e-04, 6.7106e-04,\n",
       "         1.0926e-03, 2.4269e-04, 1.7339e-03, 2.4269e-04, 2.4269e-04, 2.4269e-04,\n",
       "         3.8088e-03, 1.6711e-03, 2.4269e-04, 2.3674e-03, 2.4269e-04, 2.4269e-04,\n",
       "         2.4269e-04, 4.3425e-03, 2.4269e-04, 2.4269e-04, 2.4269e-04, 2.4269e-04,\n",
       "         9.3555e-01]])"
      ]
     },
     "execution_count": 11,
     "metadata": {},
     "output_type": "execute_result"
    }
   ],
   "source": [
    "G.ndata['feats'][:, :43]"
   ]
  },
  {
   "cell_type": "code",
   "execution_count": null,
   "metadata": {},
   "outputs": [],
   "source": [
    "mask.shape"
   ]
  },
  {
   "cell_type": "code",
   "execution_count": null,
   "metadata": {},
   "outputs": [],
   "source": [
    "len(atom_y)"
   ]
  },
  {
   "cell_type": "code",
   "execution_count": null,
   "metadata": {},
   "outputs": [],
   "source": []
  },
  {
   "cell_type": "code",
   "execution_count": null,
   "metadata": {},
   "outputs": [],
   "source": []
  }
 ],
 "metadata": {
  "kernelspec": {
   "display_name": "Python 3",
   "language": "python",
   "name": "python3"
  },
  "language_info": {
   "codemirror_mode": {
    "name": "ipython",
    "version": 3
   },
   "file_extension": ".py",
   "mimetype": "text/x-python",
   "name": "python",
   "nbconvert_exporter": "python",
   "pygments_lexer": "ipython3",
   "version": "3.7.3"
  }
 },
 "nbformat": 4,
 "nbformat_minor": 4
}
