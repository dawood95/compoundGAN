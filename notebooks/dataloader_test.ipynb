{
 "cells": [
  {
   "cell_type": "code",
   "execution_count": 1,
   "metadata": {},
   "outputs": [
    {
     "name": "stdout",
     "output_type": "stream",
     "text": [
      "/home/dawood/Workspace/compoundGAN\n"
     ]
    }
   ],
   "source": [
    "%cd .."
   ]
  },
  {
   "cell_type": "code",
   "execution_count": 12,
   "metadata": {},
   "outputs": [
    {
     "name": "stdout",
     "output_type": "stream",
     "text": [
      "The line_profiler extension is already loaded. To reload it, use:\n",
      "  %reload_ext line_profiler\n"
     ]
    }
   ],
   "source": [
    "import torch\n",
    "import dgl\n",
    "import networkx as nx\n",
    "from torch.utils.data import DataLoader\n",
    "from tqdm import tqdm\n",
    "\n",
    "from data.zinc import ZINC250K, ZINC_collate, Library\n",
    "from data import utils\n",
    "from models.gcn import GCN\n",
    "\n",
    "from rdkit import Chem\n",
    "from rdkit.Chem import AllChem, Draw\n",
    "\n",
    "from matplotlib import pyplot as plt\n",
    "plt.style.use('seaborn-deep')\n",
    "\n",
    "%matplotlib inline\n",
    "%load_ext line_profiler\n",
    "\n",
    "atom_list = [i for i in Library.atom_list]\n",
    "atom_list.append('END')"
   ]
  },
  {
   "cell_type": "code",
   "execution_count": 3,
   "metadata": {},
   "outputs": [],
   "source": [
    "model = GCN(59, 13, 256, [64, 128, 128])"
   ]
  },
  {
   "cell_type": "code",
   "execution_count": 4,
   "metadata": {},
   "outputs": [],
   "source": [
    "dataset = ZINC250K('/home/dawood/Datasets/ZINC250K/data.csv')\n",
    "dataset.max_seq_len = 19\n",
    "dataset.gumbel_temp = 0.1"
   ]
  },
  {
   "cell_type": "code",
   "execution_count": 5,
   "metadata": {},
   "outputs": [],
   "source": [
    "dataloader = DataLoader(dataset, 100, shuffle=True, collate_fn=ZINC_collate)"
   ]
  },
  {
   "cell_type": "code",
   "execution_count": 6,
   "metadata": {
    "scrolled": true
   },
   "outputs": [
    {
     "name": "stderr",
     "output_type": "stream",
     "text": [
      "0it [00:00, ?it/s]"
     ]
    },
    {
     "name": "stdout",
     "output_type": "stream",
     "text": [
      "C[C@@H]1CN(S(=O)(=O)N2CCC(OCc3ccc(F)cc3)CC2)[C@H](C)CO1\n",
      "\n",
      "[16, 17, 18, 15, 19, 14, 13, 12, 11, 10, 20, 9, 21, 8, 7, 4, 5, 6, 3, 22, 2, 23, 24, 1, 25, 0]\n",
      "C[C@@H](Sc1ccccn1)C(=O)NCCNC(=O)c1ccccc1Cl\n",
      "\n",
      "[19, 20, 18, 21, 17, 22, 15, 23, 16, 14, 13, 12, 11, 9, 10, 1, 2, 0, 3, 4, 8, 5, 7, 6]\n",
      "Cc1oc2ncnc(N3CCC[C@H](C(=O)Nc4cccc(C(F)(F)F)c4)C3)c2c1C\n",
      "\n",
      "[7, 8, 27, 6, 9, 26, 28, 3, 5, 10, 12, 29, 1, 4, 2, 11, 13, 0, 14, 15, 16, 17, 25, 18, 20, 19, 21, 22, 23, 24]\n",
      "C[C@H](O)CNC(=O)Cn1c(C2CCCCC2)nc2ccccc21\n",
      "\n",
      "[19, 20, 18, 21, 17, 22, 16, 8, 9, 7, 10, 5, 11, 15, 6, 4, 12, 14, 3, 13, 1, 2, 0]\n",
      "C/N=C1\\S/C(=C/C(=O)OC)C(=O)N1C\n",
      "\n",
      "[9, 8, 6, 7, 5, 4, 10, 3, 11, 12, 2, 13, 1, 0]\n",
      "CCCc1cc(C(=O)Nc2cccc(CN(C)C(C)=O)c2)[nH]n1\n",
      "\n",
      "[6, 7, 8, 5, 9, 21, 4, 10, 20, 22, 3, 11, 13, 2, 12, 14, 1, 15, 0, 16, 17, 18, 19]\n",
      "CC(C)CCOCC[NH+]1CCC(C(=O)N2C[C@H](C)O[C@H](C)C2)CC1\n",
      "\n",
      "[15, 16, 14, 17, 18, 12, 21, 19, 13, 11, 20, 22, 10, 23, 9, 8, 7, 6, 5, 4, 3, 1, 2, 0]\n",
      "CCc1nn(C)cc1CNC(=O)Nc1cc(C)ccc1-n1cc(C)cn1\n",
      "\n",
      "[5, 4, 6, 3, 7, 2, 8, 1, 9, 0, 10, 11, 12, 13, 14, 19, 15, 20, 18, 16, 17, 21, 25, 22, 24, 23]\n",
      "COc1ccc(-c2nc3cc(N4C[C@@H](C(=O)[O-])CC4=O)ccc3o2)cc1\n",
      "\n",
      "[2, 3, 1, 25, 4, 0, 24, 5, 6, 7, 23, 8, 22, 9, 21, 10, 20, 11, 12, 18, 13, 19, 17, 14, 15, 16]\n",
      "CCc1cnc(CN(C)C(=O)Nc2cccc(N3CCOC3=O)c2)s1\n",
      "\n",
      "[7, 8, 9, 6, 10, 11, 5, 12, 24, 4, 13, 23, 2, 3, 14, 16, 1, 15, 17, 0, 18, 21, 19, 22, 20]\n",
      "COc1ccc(CC(=O)Nc2nnc(-c3ccccc3OC)o2)cc1C\n",
      "\n",
      "[22, 10, 13, 11, 9, 14, 12, 7, 15, 19, 8, 6, 16, 20, 18, 5, 17, 21, 23, 4, 24, 3, 25, 2, 1, 0]\n",
      "CCOc1ccccc1-c1cccc(C(=O)N2C[C@H]3OCCN(C)[C@@H]3C2)c1\n",
      "\n",
      "[15, 14, 16, 13, 17, 25, 26, 12, 18, 24, 9, 11, 19, 22, 10, 8, 20, 23, 21, 3, 7, 4, 2, 6, 5, 1, 0]\n",
      "CC[C@@H](CSC)[NH+](C)Cn1nc(-c2cccs2)[nH]c1=S\n",
      "\n",
      "[5, 4, 3, 2, 6, 1, 7, 8, 0, 9, 10, 18, 11, 19, 17, 12, 13, 16, 14, 15]\n",
      "Cc1nc(C[C@H]([NH3+])c2sccc2C)cs1\n",
      "\n",
      "[14, 1, 13, 2, 0, 3, 4, 5, 6, 7, 8, 11, 9, 12, 10]\n",
      "CC(=O)N1CCN(C(=O)/C=C/c2ccc(F)cc2)CC1\n",
      "\n",
      "[16, 17, 14, 11, 15, 13, 12, 10, 9, 7, 8, 6, 18, 5, 19, 4, 3, 1, 2, 0]\n",
      "Cc1ccc(F)c(O[C@@H]2CCC[C@](CO)([NH2+]C3CC3)C2)c1\n",
      "\n",
      "[0, 1, 2, 20, 3, 6, 4, 7, 5, 8, 9, 19, 10, 12, 11, 13, 15, 14, 16, 17, 18]\n",
      "O=C(NC1CCCCC1)[C@@H](c1ccncc1)N(C(=O)c1csnn1)c1ccccc1-c1ccccc1\n",
      "\n",
      "[6, 7, 5, 8, 4, 3, 2, 1, 9, 0, 10, 16, 11, 15, 17, 24, 12, 14, 18, 19, 25, 29, 13, 20, 23, 26, 30, 28, 21, 22, 27, 31, 35, 32, 34, 33]\n",
      "O=S(=O)(c1ccc(NCc2ccc(F)cc2C(F)(F)F)nc1)N1CCOCC1\n",
      "\n",
      "[19, 16, 17, 18, 15, 9, 14, 10, 8, 12, 11, 7, 13, 6, 20, 5, 21, 4, 3, 1, 2, 22, 0, 23, 27, 24, 26, 25]\n",
      "CCc1ccc([C@@H](O)CN2C[C@H](CC)CC2=O)cc1\n",
      "\n",
      "[16, 15, 9, 14, 10, 8, 11, 6, 12, 7, 5, 13, 17, 4, 18, 3, 2, 1, 0]\n",
      "CCc1ccsc1CNC(=O)Nc1ccc(-c2ncon2)cc1\n",
      "\n",
      "[5, 6, 4, 7, 2, 3, 8, 1, 9, 0, 10, 11, 12, 13, 22, 14, 21, 15, 16, 17, 20, 18, 19]\n",
      "CCOc1ccc([C@@H]2C[C@H](c3ccccc3C)n3ncnc3N2)cc1\n",
      "\n",
      "[1, 2, 0, 3, 4, 24, 5, 23, 6, 7, 8, 22, 9, 21, 10, 17, 20, 11, 15, 18, 19, 12, 16, 14, 13]\n",
      "Clc1ccc(N2CCC(OC[C@H]3CCCO3)CC2)nc1\n",
      "\n",
      "[0, 1, 2, 19, 3, 18, 4, 5, 6, 17, 7, 16, 8, 9, 10, 11, 12, 15, 13, 14]\n",
      "C=C1CC(=O)N[C@H](c2ccccc2)C1\n",
      "\n",
      "[4, 3, 5, 2, 6, 1, 7, 13, 0, 8, 12, 9, 11, 10]\n",
      "CCS(=O)(=O)[C@H](C)C(=O)Nc1ccccc1Cl\n",
      "\n",
      "[7, 8, 9, 5, 10, 6, 2, 11, 15, 3, 4, 1, 12, 16, 14, 0, 13]\n",
      "CC[NH+](Cc1cccc(C)c1)Cc1c(C)nn(-c2ccc(F)cc2)c1N1CC[NH+](C)CC1\n",
      "\n",
      "[9, 8, 10, 7, 4, 6, 5, 3, 2, 11, 1, 12, 0, 13, 24, 14, 15, 25, 16, 26, 31, 17, 27, 30, 18, 23, 28, 19, 22, 29, 20, 21]\n",
      "CCc1ocnc1C(=O)Nc1ccn(-c2ccc(Cl)cc2Cl)n1\n",
      "\n",
      "[15, 16, 14, 17, 13, 20, 18, 19, 22, 12, 21, 10, 11, 9, 7, 8, 6, 2, 5, 3, 1, 4, 0]\n",
      "O=S(=O)(/N=C1/CCCN1)c1cccc(/N=C/c2cc(Cl)ccc2O)c1\n",
      "\n",
      "[21, 22, 20, 23, 16, 18, 17, 15, 19, 14, 13, 24, 12, 9, 11, 10, 1, 2, 3, 0, 4, 5, 8, 6, 7]\n",
      "CCS(=O)(=O)N[C@H]1CC(=O)N(C)[C@H]1c1ccc(Cl)cc1\n",
      "\n",
      "[1, 2, 0, 3, 4, 5, 6, 7, 12, 8, 13, 10, 9, 14, 19, 11, 15, 18, 16, 17]\n",
      "SC[C@@H](C[NH+]1CCCSCC1)c1ccccc1\n",
      "\n",
      "[6, 7, 5, 8, 4, 9, 3, 10, 2, 11, 1, 12, 16, 0, 13, 15, 14]\n",
      "Cc1noc(C)c1C[NH+]1CCC[C@H]1C(=O)Nc1nccs1\n",
      "\n",
      "[3, 4, 2, 5, 6, 1, 7, 0, 8, 9, 12, 10, 13, 11, 14, 15, 16, 17, 20, 18, 19]\n",
      "O=C(CSc1nnc(N2CCCC2)n1Cc1ccco1)N1CCc2ccccc2C1\n",
      "\n",
      "[12, 8, 11, 9, 7, 10, 13, 6, 14, 4, 5, 15, 3, 16, 19, 2, 17, 18, 1, 20, 0, 21, 29, 22, 28, 23, 27, 24, 26, 25]\n",
      "COc1ccc(CC(=O)Oc2ccc(I)cc2)cc1\n",
      "\n",
      "[3, 4, 2, 5, 1, 18, 6, 17, 0, 7, 8, 9, 10, 11, 16, 12, 15, 13, 14]\n",
      "N#Cc1ccc(C[NH+]2CCC(C(=O)N3CCN(C(c4ccccc4)c4ccccc4)CC3)CC2)cc1\n",
      "\n",
      "[5, 6, 34, 4, 7, 35, 3, 8, 33, 2, 9, 32, 1, 10, 0, 11, 12, 13, 14, 31, 15, 30, 16, 17, 18, 24, 19, 23, 25, 29, 20, 22, 26, 28, 21, 27]\n",
      "Cc1cccc2[nH]cc([C@@H](O)C[NH3+])c12\n",
      "\n",
      "[13, 1, 5, 8, 2, 0, 6, 4, 9, 7, 3, 10, 11, 12]\n",
      "Cc1c(NC(=O)c2cccc(Cl)c2)cccc1[N+](=O)[O-]\n",
      "\n",
      "[17, 18, 19, 16, 1, 15, 2, 0, 14, 3, 13, 4, 5, 6, 7, 12, 8, 10, 9, 11]\n",
      "CCC(CC)[C@H](NC(=O)N(C)C[C@@H](C)O)c1ccccc1\n",
      "\n",
      "[20, 15, 19, 16, 5, 18, 17, 6, 2, 7, 3, 1, 8, 9, 4, 0, 10, 11, 12, 13, 14]\n",
      "Cc1ccccc1CN(Cc1cccnc1)C(=O)c1ccc2c(c1)NC(=O)CO2\n",
      "\n",
      "[7, 8, 6, 9, 16, 1, 5, 10, 17, 18, 2, 0, 4, 11, 15, 19, 23, 3, 12, 14, 20, 22, 13, 21, 24, 28, 25, 27, 26]\n",
      "CC[C@@H](C)[C@H](C)[NH+](Cc1c(N)ncnc1OC)C1CC1\n",
      "\n",
      "[0, 1, 2, 3, 4, 5, 6, 7, 17, 8, 18, 19, 9, 14, 10, 11, 15, 13, 12, 16]\n",
      "CC(C)c1noc(CCCC(=O)NCC2CCCCCCC2)n1\n",
      "\n",
      "[12, 13, 10, 14, 11, 9, 15, 21, 8, 16, 20, 7, 17, 19, 6, 18, 22, 5, 3, 4, 1, 2, 0]\n",
      "O=C(c1ccccn1)N1CCCSc2ccccc21\n",
      "\n",
      "[13, 14, 12, 18, 15, 11, 8, 17, 16, 10, 9, 1, 2, 0, 3, 7, 4, 6, 5]\n",
      "C#CCn1/c(=N/C(=O)c2ccc([N+](=O)[O-])s2)sc2ccccc21\n",
      "\n",
      "[7, 6, 8, 5, 9, 15, 4, 10, 11, 16, 3, 12, 17, 2, 22, 13, 14, 18, 1, 21, 19, 0, 20]\n",
      "COc1ccc(CCNC(=O)[C@@H](C)Oc2cc(C)ccc2C)cc1\n",
      "\n",
      "[23, 2, 22, 3, 1, 5, 4, 0, 6, 7, 8, 9, 10, 11, 12, 13, 14, 15, 20, 16, 21, 19, 17, 18]\n",
      "CCN(Cc1cccs1)C[C@@H](CS)c1ccccc1\n",
      "\n",
      "[17, 18, 16, 13, 15, 14, 10, 11, 9, 12, 2, 3, 1, 4, 0, 5, 8, 6, 7]\n",
      "C[C@H](NC(=O)N[C@H]1CC[NH+](Cc2ccccn2)C[C@H]1C)[C@@H](C)CO\n",
      "\n",
      "[21, 20, 22, 1, 23, 2, 0, 3, 4, 5, 6, 7, 18, 8, 19, 17, 9, 10, 11, 12, 16, 13, 15, 14]\n",
      "C[C@@H]1OCC[C@@H]1C(=O)[C@@H](C#N)c1ccc(Cl)cc1Cl\n",
      "\n",
      "[12, 13, 11, 14, 8, 17, 15, 16, 9, 6, 18, 10, 7, 5, 1, 4, 2, 0, 3]\n",
      "CCOc1ccc(-c2nnc(NC(=O)c3ccc(C(C)(C)C)cc3)o2)cc1\n",
      "\n",
      "[16, 17, 15, 18, 22, 14, 19, 20, 21, 23, 12, 13, 11, 10, 24, 9, 7, 8, 6, 25, 5, 26, 4, 3, 2, 1, 0]\n",
      "CC1CC[NH+]([C@H](C)CNC(=O)N(Cc2ccc(C#N)cc2)C(C)C)CC1\n",
      "\n",
      "[1, 2, 0, 25, 3, 24, 4, 5, 6, 7, 8, 9, 10, 11, 12, 21, 13, 22, 23, 14, 20, 15, 19, 16, 17, 18]\n",
      "CC(C)(C)CC(C)(C)NC(=O)c1cnn2c1N[C@H](c1ccco1)C[C@@H]2C(F)(F)F\n",
      "\n",
      "[5, 6, 7, 8, 4, 9, 1, 10, 11, 2, 3, 0, 12, 15, 13, 16, 14, 17, 24, 18, 23, 25, 19, 22, 26, 27, 28, 20, 21]\n",
      "CC[C@](C)([NH3+])C(=O)N(C)CCS(C)(=O)=O\n",
      "\n",
      "[13, 11, 12, 14, 10, 9, 7, 8, 5, 6, 2, 3, 4, 1, 0]\n",
      "C[C@@H]1CSC(Nc2ccc(Cl)cc2)=N1\n",
      "\n",
      "[3, 4, 2, 5, 13, 1, 6, 0, 7, 12, 8, 11, 9, 10]\n",
      "COc1ccccc1CN1C[C@@H](C(=O)NCc2noc(-c3ccccc3)n2)CCC1=O\n",
      "\n",
      "[7, 8, 2, 6, 9, 3, 1, 5, 10, 29, 4, 0, 11, 30, 28, 12, 27, 13, 14, 15, 16, 17, 26, 18, 19, 20, 21, 25, 22, 24, 23]\n",
      "CC(=O)N1CCC2(CC1)Oc1ccccc1[C@H]1CC(c3ccc(Cl)cc3Cl)=NN12\n",
      "\n",
      "[25, 26, 19, 24, 20, 18, 22, 21, 27, 17, 23, 28, 16, 6, 15, 7, 9, 5, 10, 14, 8, 4, 11, 13, 3, 12, 1, 2, 0]\n",
      "C[C@H]1[C@H](C(=O)[O-])CC[NH+]1Cc1cnn(-c2ccccc2)c1\n",
      "\n",
      "[12, 13, 11, 14, 20, 10, 15, 19, 9, 16, 18, 8, 17, 1, 7, 2, 0, 6, 3, 4, 5]\n",
      "C[C@]1(CN[C@@H](C[NH3+])c2ccc(F)c(F)c2)CCCO1\n",
      "\n",
      "[16, 17, 15, 18, 1, 2, 0, 3, 4, 5, 7, 6, 8, 14, 9, 12, 10, 13, 11]\n",
      "Nc1ccccc1CN1CCN2C(=O)NC[C@@H]2C1\n",
      "\n",
      "[0, 1, 2, 6, 3, 7, 5, 4, 8, 9, 17, 10, 16, 11, 15, 12, 14, 13]\n",
      "CC(/C=N\\NC(=O)Cn1nc(C)cc1C)=C/c1ccc(C(C)C)cc1\n",
      "\n",
      "[19, 20, 23, 18, 21, 22, 24, 17, 16, 15, 1, 2, 0, 3, 4, 5, 6, 7, 8, 9, 13, 10, 14, 12, 11]\n",
      "C[C@H]1CC[C@@H](C)CN1C(=O)c1cc(C(C)(C)C)on1\n",
      "\n",
      "[18, 10, 17, 11, 8, 12, 9, 7, 13, 1, 6, 14, 15, 16, 2, 0, 4, 3, 5]\n",
      "Cc1ccc(C(=O)NNC(=O)[C@@H](C)Sc2nnc(-c3ccccc3)c(-c3ccccc3)n2)cc1\n",
      "\n",
      "[31, 14, 24, 15, 13, 25, 17, 16, 11, 26, 30, 18, 12, 9, 27, 29, 19, 23, 10, 8, 28, 20, 22, 7, 21, 5, 6, 4, 32, 3, 33, 2, 1, 0]\n",
      "O=C(NC[C@]1(O)CCOC1)Nc1cccc(-c2ccc3c(c2)CCO3)c1\n",
      "\n",
      "[24, 19, 23, 20, 18, 22, 21, 17, 16, 15, 25, 14, 11, 13, 12, 10, 1, 2, 0, 3, 4, 5, 6, 9, 7, 8]\n",
      "CC(C)Cc1cc(C(=O)N2CCC(Nc3ncccn3)CC2)on1\n",
      "\n",
      "[20, 21, 12, 9, 13, 11, 10, 7, 14, 8, 6, 15, 19, 22, 5, 16, 18, 23, 4, 17, 3, 1, 2, 0]\n"
     ]
    },
    {
     "ename": "KeyboardInterrupt",
     "evalue": "",
     "output_type": "error",
     "traceback": [
      "\u001b[0;31m---------------------------------------------------------------------------\u001b[0m",
      "\u001b[0;31mKeyboardInterrupt\u001b[0m                         Traceback (most recent call last)",
      "\u001b[0;32m<ipython-input-6-7ea381913ade>\u001b[0m in \u001b[0;36m<module>\u001b[0;34m\u001b[0m\n\u001b[1;32m      1\u001b[0m \u001b[0mnum_nodes\u001b[0m \u001b[0;34m=\u001b[0m \u001b[0;34m[\u001b[0m\u001b[0;34m]\u001b[0m\u001b[0;34m\u001b[0m\u001b[0;34m\u001b[0m\u001b[0m\n\u001b[0;32m----> 2\u001b[0;31m \u001b[0;32mfor\u001b[0m \u001b[0mi\u001b[0m\u001b[0;34m,\u001b[0m \u001b[0mG\u001b[0m \u001b[0;32min\u001b[0m \u001b[0mtqdm\u001b[0m\u001b[0;34m(\u001b[0m\u001b[0menumerate\u001b[0m\u001b[0;34m(\u001b[0m\u001b[0mdataloader\u001b[0m\u001b[0;34m)\u001b[0m\u001b[0;34m)\u001b[0m\u001b[0;34m:\u001b[0m\u001b[0;34m\u001b[0m\u001b[0;34m\u001b[0m\u001b[0m\n\u001b[0m\u001b[1;32m      3\u001b[0m     \u001b[0;31m#num_nodes.extend(g.batch_num_nodes)\u001b[0m\u001b[0;34m\u001b[0m\u001b[0;34m\u001b[0m\u001b[0;34m\u001b[0m\u001b[0m\n\u001b[1;32m      4\u001b[0m     \u001b[0;32mbreak\u001b[0m\u001b[0;34m\u001b[0m\u001b[0;34m\u001b[0m\u001b[0m\n",
      "\u001b[0;32m~/anaconda3/lib/python3.7/site-packages/tqdm/std.py\u001b[0m in \u001b[0;36m__iter__\u001b[0;34m(self)\u001b[0m\n\u001b[1;32m   1079\u001b[0m             \"\"\"), fp_write=getattr(self.fp, 'write', sys.stderr.write))\n\u001b[1;32m   1080\u001b[0m \u001b[0;34m\u001b[0m\u001b[0m\n\u001b[0;32m-> 1081\u001b[0;31m         \u001b[0;32mfor\u001b[0m \u001b[0mobj\u001b[0m \u001b[0;32min\u001b[0m \u001b[0miterable\u001b[0m\u001b[0;34m:\u001b[0m\u001b[0;34m\u001b[0m\u001b[0;34m\u001b[0m\u001b[0m\n\u001b[0m\u001b[1;32m   1082\u001b[0m             \u001b[0;32myield\u001b[0m \u001b[0mobj\u001b[0m\u001b[0;34m\u001b[0m\u001b[0;34m\u001b[0m\u001b[0m\n\u001b[1;32m   1083\u001b[0m             \u001b[0;31m# Update and possibly print the progressbar.\u001b[0m\u001b[0;34m\u001b[0m\u001b[0;34m\u001b[0m\u001b[0;34m\u001b[0m\u001b[0m\n",
      "\u001b[0;32m~/anaconda3/lib/python3.7/site-packages/torch/utils/data/dataloader.py\u001b[0m in \u001b[0;36m__next__\u001b[0;34m(self)\u001b[0m\n\u001b[1;32m    344\u001b[0m     \u001b[0;32mdef\u001b[0m \u001b[0m__next__\u001b[0m\u001b[0;34m(\u001b[0m\u001b[0mself\u001b[0m\u001b[0;34m)\u001b[0m\u001b[0;34m:\u001b[0m\u001b[0;34m\u001b[0m\u001b[0;34m\u001b[0m\u001b[0m\n\u001b[1;32m    345\u001b[0m         \u001b[0mindex\u001b[0m \u001b[0;34m=\u001b[0m \u001b[0mself\u001b[0m\u001b[0;34m.\u001b[0m\u001b[0m_next_index\u001b[0m\u001b[0;34m(\u001b[0m\u001b[0;34m)\u001b[0m  \u001b[0;31m# may raise StopIteration\u001b[0m\u001b[0;34m\u001b[0m\u001b[0;34m\u001b[0m\u001b[0m\n\u001b[0;32m--> 346\u001b[0;31m         \u001b[0mdata\u001b[0m \u001b[0;34m=\u001b[0m \u001b[0mself\u001b[0m\u001b[0;34m.\u001b[0m\u001b[0m_dataset_fetcher\u001b[0m\u001b[0;34m.\u001b[0m\u001b[0mfetch\u001b[0m\u001b[0;34m(\u001b[0m\u001b[0mindex\u001b[0m\u001b[0;34m)\u001b[0m  \u001b[0;31m# may raise StopIteration\u001b[0m\u001b[0;34m\u001b[0m\u001b[0;34m\u001b[0m\u001b[0m\n\u001b[0m\u001b[1;32m    347\u001b[0m         \u001b[0;32mif\u001b[0m \u001b[0mself\u001b[0m\u001b[0;34m.\u001b[0m\u001b[0m_pin_memory\u001b[0m\u001b[0;34m:\u001b[0m\u001b[0;34m\u001b[0m\u001b[0;34m\u001b[0m\u001b[0m\n\u001b[1;32m    348\u001b[0m             \u001b[0mdata\u001b[0m \u001b[0;34m=\u001b[0m \u001b[0m_utils\u001b[0m\u001b[0;34m.\u001b[0m\u001b[0mpin_memory\u001b[0m\u001b[0;34m.\u001b[0m\u001b[0mpin_memory\u001b[0m\u001b[0;34m(\u001b[0m\u001b[0mdata\u001b[0m\u001b[0;34m)\u001b[0m\u001b[0;34m\u001b[0m\u001b[0;34m\u001b[0m\u001b[0m\n",
      "\u001b[0;32m~/anaconda3/lib/python3.7/site-packages/torch/utils/data/_utils/fetch.py\u001b[0m in \u001b[0;36mfetch\u001b[0;34m(self, possibly_batched_index)\u001b[0m\n\u001b[1;32m     42\u001b[0m     \u001b[0;32mdef\u001b[0m \u001b[0mfetch\u001b[0m\u001b[0;34m(\u001b[0m\u001b[0mself\u001b[0m\u001b[0;34m,\u001b[0m \u001b[0mpossibly_batched_index\u001b[0m\u001b[0;34m)\u001b[0m\u001b[0;34m:\u001b[0m\u001b[0;34m\u001b[0m\u001b[0;34m\u001b[0m\u001b[0m\n\u001b[1;32m     43\u001b[0m         \u001b[0;32mif\u001b[0m \u001b[0mself\u001b[0m\u001b[0;34m.\u001b[0m\u001b[0mauto_collation\u001b[0m\u001b[0;34m:\u001b[0m\u001b[0;34m\u001b[0m\u001b[0;34m\u001b[0m\u001b[0m\n\u001b[0;32m---> 44\u001b[0;31m             \u001b[0mdata\u001b[0m \u001b[0;34m=\u001b[0m \u001b[0;34m[\u001b[0m\u001b[0mself\u001b[0m\u001b[0;34m.\u001b[0m\u001b[0mdataset\u001b[0m\u001b[0;34m[\u001b[0m\u001b[0midx\u001b[0m\u001b[0;34m]\u001b[0m \u001b[0;32mfor\u001b[0m \u001b[0midx\u001b[0m \u001b[0;32min\u001b[0m \u001b[0mpossibly_batched_index\u001b[0m\u001b[0;34m]\u001b[0m\u001b[0;34m\u001b[0m\u001b[0;34m\u001b[0m\u001b[0m\n\u001b[0m\u001b[1;32m     45\u001b[0m         \u001b[0;32melse\u001b[0m\u001b[0;34m:\u001b[0m\u001b[0;34m\u001b[0m\u001b[0;34m\u001b[0m\u001b[0m\n\u001b[1;32m     46\u001b[0m             \u001b[0mdata\u001b[0m \u001b[0;34m=\u001b[0m \u001b[0mself\u001b[0m\u001b[0;34m.\u001b[0m\u001b[0mdataset\u001b[0m\u001b[0;34m[\u001b[0m\u001b[0mpossibly_batched_index\u001b[0m\u001b[0;34m]\u001b[0m\u001b[0;34m\u001b[0m\u001b[0;34m\u001b[0m\u001b[0m\n",
      "\u001b[0;32m~/anaconda3/lib/python3.7/site-packages/torch/utils/data/_utils/fetch.py\u001b[0m in \u001b[0;36m<listcomp>\u001b[0;34m(.0)\u001b[0m\n\u001b[1;32m     42\u001b[0m     \u001b[0;32mdef\u001b[0m \u001b[0mfetch\u001b[0m\u001b[0;34m(\u001b[0m\u001b[0mself\u001b[0m\u001b[0;34m,\u001b[0m \u001b[0mpossibly_batched_index\u001b[0m\u001b[0;34m)\u001b[0m\u001b[0;34m:\u001b[0m\u001b[0;34m\u001b[0m\u001b[0;34m\u001b[0m\u001b[0m\n\u001b[1;32m     43\u001b[0m         \u001b[0;32mif\u001b[0m \u001b[0mself\u001b[0m\u001b[0;34m.\u001b[0m\u001b[0mauto_collation\u001b[0m\u001b[0;34m:\u001b[0m\u001b[0;34m\u001b[0m\u001b[0;34m\u001b[0m\u001b[0m\n\u001b[0;32m---> 44\u001b[0;31m             \u001b[0mdata\u001b[0m \u001b[0;34m=\u001b[0m \u001b[0;34m[\u001b[0m\u001b[0mself\u001b[0m\u001b[0;34m.\u001b[0m\u001b[0mdataset\u001b[0m\u001b[0;34m[\u001b[0m\u001b[0midx\u001b[0m\u001b[0;34m]\u001b[0m \u001b[0;32mfor\u001b[0m \u001b[0midx\u001b[0m \u001b[0;32min\u001b[0m \u001b[0mpossibly_batched_index\u001b[0m\u001b[0;34m]\u001b[0m\u001b[0;34m\u001b[0m\u001b[0;34m\u001b[0m\u001b[0m\n\u001b[0m\u001b[1;32m     45\u001b[0m         \u001b[0;32melse\u001b[0m\u001b[0;34m:\u001b[0m\u001b[0;34m\u001b[0m\u001b[0;34m\u001b[0m\u001b[0m\n\u001b[1;32m     46\u001b[0m             \u001b[0mdata\u001b[0m \u001b[0;34m=\u001b[0m \u001b[0mself\u001b[0m\u001b[0;34m.\u001b[0m\u001b[0mdataset\u001b[0m\u001b[0;34m[\u001b[0m\u001b[0mpossibly_batched_index\u001b[0m\u001b[0;34m]\u001b[0m\u001b[0;34m\u001b[0m\u001b[0;34m\u001b[0m\u001b[0m\n",
      "\u001b[0;32m~/Workspace/compoundGAN/data/zinc.py\u001b[0m in \u001b[0;36m__getitem__\u001b[0;34m(self, idx)\u001b[0m\n\u001b[1;32m     26\u001b[0m         \u001b[0mprint\u001b[0m\u001b[0;34m(\u001b[0m\u001b[0msmiles\u001b[0m\u001b[0;34m)\u001b[0m\u001b[0;34m\u001b[0m\u001b[0;34m\u001b[0m\u001b[0m\n\u001b[1;32m     27\u001b[0m         \u001b[0mmol\u001b[0m \u001b[0;34m=\u001b[0m \u001b[0mChem\u001b[0m\u001b[0;34m.\u001b[0m\u001b[0mMolFromSmiles\u001b[0m\u001b[0;34m(\u001b[0m\u001b[0msmiles\u001b[0m\u001b[0;34m)\u001b[0m\u001b[0;34m\u001b[0m\u001b[0;34m\u001b[0m\u001b[0m\n\u001b[0;32m---> 28\u001b[0;31m         \u001b[0mG\u001b[0m \u001b[0;34m=\u001b[0m \u001b[0mmol2graph\u001b[0m\u001b[0;34m(\u001b[0m\u001b[0mmol\u001b[0m\u001b[0;34m,\u001b[0m \u001b[0mmax_len\u001b[0m\u001b[0;34m=\u001b[0m\u001b[0mself\u001b[0m\u001b[0;34m.\u001b[0m\u001b[0mmax_seq_len\u001b[0m\u001b[0;34m,\u001b[0m \u001b[0mtemp\u001b[0m\u001b[0;34m=\u001b[0m\u001b[0mself\u001b[0m\u001b[0;34m.\u001b[0m\u001b[0mgumbel_temp\u001b[0m\u001b[0;34m)\u001b[0m\u001b[0;34m\u001b[0m\u001b[0;34m\u001b[0m\u001b[0m\n\u001b[0m\u001b[1;32m     29\u001b[0m         \u001b[0;32mreturn\u001b[0m \u001b[0mG\u001b[0m\u001b[0;34m\u001b[0m\u001b[0;34m\u001b[0m\u001b[0m\n\u001b[1;32m     30\u001b[0m \u001b[0;34m\u001b[0m\u001b[0m\n",
      "\u001b[0;32m~/Workspace/compoundGAN/data/utils.py\u001b[0m in \u001b[0;36mmol2graph\u001b[0;34m(mol, canonical, max_len, temp)\u001b[0m\n\u001b[1;32m    230\u001b[0m                 \u001b[0medge_feats\u001b[0m\u001b[0;34m[\u001b[0m\u001b[0medge_num\u001b[0m \u001b[0;34m+\u001b[0m \u001b[0;36m1\u001b[0m\u001b[0;34m]\u001b[0m \u001b[0;34m=\u001b[0m \u001b[0mbond_feats\u001b[0m\u001b[0;34m[\u001b[0m\u001b[0mbond_id\u001b[0m\u001b[0;34m]\u001b[0m\u001b[0;34m.\u001b[0m\u001b[0mclone\u001b[0m\u001b[0;34m(\u001b[0m\u001b[0;34m)\u001b[0m\u001b[0;34m\u001b[0m\u001b[0;34m\u001b[0m\u001b[0m\n\u001b[1;32m    231\u001b[0m             \u001b[0;32melse\u001b[0m\u001b[0;34m:\u001b[0m\u001b[0;34m\u001b[0m\u001b[0;34m\u001b[0m\u001b[0m\n\u001b[0;32m--> 232\u001b[0;31m                 \u001b[0mdummy_feats\u001b[0m \u001b[0;34m=\u001b[0m \u001b[0;34m[\u001b[0m\u001b[0monehot_noise\u001b[0m\u001b[0;34m(\u001b[0m\u001b[0mf\u001b[0m\u001b[0;34m.\u001b[0m\u001b[0mfloat\u001b[0m\u001b[0;34m(\u001b[0m\u001b[0;34m)\u001b[0m\u001b[0;34m,\u001b[0m \u001b[0mtemp\u001b[0m\u001b[0;34m)\u001b[0m \u001b[0;32mfor\u001b[0m \u001b[0mf\u001b[0m \u001b[0;32min\u001b[0m \u001b[0mno_edge_feats\u001b[0m\u001b[0;34m]\u001b[0m\u001b[0;34m\u001b[0m\u001b[0;34m\u001b[0m\u001b[0m\n\u001b[0m\u001b[1;32m    233\u001b[0m                 \u001b[0mdummy_feats\u001b[0m \u001b[0;34m=\u001b[0m \u001b[0mtorch\u001b[0m\u001b[0;34m.\u001b[0m\u001b[0mcat\u001b[0m\u001b[0;34m(\u001b[0m\u001b[0mdummy_feats\u001b[0m\u001b[0;34m,\u001b[0m \u001b[0mdim\u001b[0m\u001b[0;34m=\u001b[0m\u001b[0;36m1\u001b[0m\u001b[0;34m)\u001b[0m\u001b[0;34m[\u001b[0m\u001b[0;36m0\u001b[0m\u001b[0;34m]\u001b[0m\u001b[0;34m\u001b[0m\u001b[0;34m\u001b[0m\u001b[0m\n\u001b[1;32m    234\u001b[0m                 \u001b[0medge_feats\u001b[0m\u001b[0;34m[\u001b[0m\u001b[0medge_num\u001b[0m\u001b[0;34m]\u001b[0m \u001b[0;34m=\u001b[0m \u001b[0mdummy_feats\u001b[0m\u001b[0;34m.\u001b[0m\u001b[0mclone\u001b[0m\u001b[0;34m(\u001b[0m\u001b[0;34m)\u001b[0m\u001b[0;34m\u001b[0m\u001b[0;34m\u001b[0m\u001b[0m\n",
      "\u001b[0;32m~/Workspace/compoundGAN/data/utils.py\u001b[0m in \u001b[0;36m<listcomp>\u001b[0;34m(.0)\u001b[0m\n\u001b[1;32m    230\u001b[0m                 \u001b[0medge_feats\u001b[0m\u001b[0;34m[\u001b[0m\u001b[0medge_num\u001b[0m \u001b[0;34m+\u001b[0m \u001b[0;36m1\u001b[0m\u001b[0;34m]\u001b[0m \u001b[0;34m=\u001b[0m \u001b[0mbond_feats\u001b[0m\u001b[0;34m[\u001b[0m\u001b[0mbond_id\u001b[0m\u001b[0;34m]\u001b[0m\u001b[0;34m.\u001b[0m\u001b[0mclone\u001b[0m\u001b[0;34m(\u001b[0m\u001b[0;34m)\u001b[0m\u001b[0;34m\u001b[0m\u001b[0;34m\u001b[0m\u001b[0m\n\u001b[1;32m    231\u001b[0m             \u001b[0;32melse\u001b[0m\u001b[0;34m:\u001b[0m\u001b[0;34m\u001b[0m\u001b[0;34m\u001b[0m\u001b[0m\n\u001b[0;32m--> 232\u001b[0;31m                 \u001b[0mdummy_feats\u001b[0m \u001b[0;34m=\u001b[0m \u001b[0;34m[\u001b[0m\u001b[0monehot_noise\u001b[0m\u001b[0;34m(\u001b[0m\u001b[0mf\u001b[0m\u001b[0;34m.\u001b[0m\u001b[0mfloat\u001b[0m\u001b[0;34m(\u001b[0m\u001b[0;34m)\u001b[0m\u001b[0;34m,\u001b[0m \u001b[0mtemp\u001b[0m\u001b[0;34m)\u001b[0m \u001b[0;32mfor\u001b[0m \u001b[0mf\u001b[0m \u001b[0;32min\u001b[0m \u001b[0mno_edge_feats\u001b[0m\u001b[0;34m]\u001b[0m\u001b[0;34m\u001b[0m\u001b[0;34m\u001b[0m\u001b[0m\n\u001b[0m\u001b[1;32m    233\u001b[0m                 \u001b[0mdummy_feats\u001b[0m \u001b[0;34m=\u001b[0m \u001b[0mtorch\u001b[0m\u001b[0;34m.\u001b[0m\u001b[0mcat\u001b[0m\u001b[0;34m(\u001b[0m\u001b[0mdummy_feats\u001b[0m\u001b[0;34m,\u001b[0m \u001b[0mdim\u001b[0m\u001b[0;34m=\u001b[0m\u001b[0;36m1\u001b[0m\u001b[0;34m)\u001b[0m\u001b[0;34m[\u001b[0m\u001b[0;36m0\u001b[0m\u001b[0;34m]\u001b[0m\u001b[0;34m\u001b[0m\u001b[0;34m\u001b[0m\u001b[0m\n\u001b[1;32m    234\u001b[0m                 \u001b[0medge_feats\u001b[0m\u001b[0;34m[\u001b[0m\u001b[0medge_num\u001b[0m\u001b[0;34m]\u001b[0m \u001b[0;34m=\u001b[0m \u001b[0mdummy_feats\u001b[0m\u001b[0;34m.\u001b[0m\u001b[0mclone\u001b[0m\u001b[0;34m(\u001b[0m\u001b[0;34m)\u001b[0m\u001b[0;34m\u001b[0m\u001b[0;34m\u001b[0m\u001b[0m\n",
      "\u001b[0;32m~/Workspace/compoundGAN/data/utils.py\u001b[0m in \u001b[0;36monehot_noise\u001b[0;34m(vector, temp)\u001b[0m\n\u001b[1;32m     33\u001b[0m     '''\n\u001b[1;32m     34\u001b[0m \u001b[0;34m\u001b[0m\u001b[0m\n\u001b[0;32m---> 35\u001b[0;31m     \u001b[0mvector\u001b[0m \u001b[0;34m=\u001b[0m \u001b[0mgumbel\u001b[0m\u001b[0;34m(\u001b[0m\u001b[0mtemp\u001b[0m\u001b[0;34m,\u001b[0m \u001b[0mprobs\u001b[0m\u001b[0;34m=\u001b[0m\u001b[0mvector\u001b[0m\u001b[0;34m)\u001b[0m\u001b[0;34m.\u001b[0m\u001b[0msample\u001b[0m\u001b[0;34m(\u001b[0m\u001b[0;34m)\u001b[0m\u001b[0;34m\u001b[0m\u001b[0;34m\u001b[0m\u001b[0m\n\u001b[0m\u001b[1;32m     36\u001b[0m     \u001b[0;32mreturn\u001b[0m \u001b[0mvector\u001b[0m\u001b[0;34m\u001b[0m\u001b[0;34m\u001b[0m\u001b[0m\n\u001b[1;32m     37\u001b[0m \u001b[0;34m\u001b[0m\u001b[0m\n",
      "\u001b[0;32m~/anaconda3/lib/python3.7/site-packages/torch/distributions/transformed_distribution.py\u001b[0m in \u001b[0;36msample\u001b[0;34m(self, sample_shape)\u001b[0m\n\u001b[1;32m     83\u001b[0m         \"\"\"\n\u001b[1;32m     84\u001b[0m         \u001b[0;32mwith\u001b[0m \u001b[0mtorch\u001b[0m\u001b[0;34m.\u001b[0m\u001b[0mno_grad\u001b[0m\u001b[0;34m(\u001b[0m\u001b[0;34m)\u001b[0m\u001b[0;34m:\u001b[0m\u001b[0;34m\u001b[0m\u001b[0;34m\u001b[0m\u001b[0m\n\u001b[0;32m---> 85\u001b[0;31m             \u001b[0mx\u001b[0m \u001b[0;34m=\u001b[0m \u001b[0mself\u001b[0m\u001b[0;34m.\u001b[0m\u001b[0mbase_dist\u001b[0m\u001b[0;34m.\u001b[0m\u001b[0msample\u001b[0m\u001b[0;34m(\u001b[0m\u001b[0msample_shape\u001b[0m\u001b[0;34m)\u001b[0m\u001b[0;34m\u001b[0m\u001b[0;34m\u001b[0m\u001b[0m\n\u001b[0m\u001b[1;32m     86\u001b[0m             \u001b[0;32mfor\u001b[0m \u001b[0mtransform\u001b[0m \u001b[0;32min\u001b[0m \u001b[0mself\u001b[0m\u001b[0;34m.\u001b[0m\u001b[0mtransforms\u001b[0m\u001b[0;34m:\u001b[0m\u001b[0;34m\u001b[0m\u001b[0;34m\u001b[0m\u001b[0m\n\u001b[1;32m     87\u001b[0m                 \u001b[0mx\u001b[0m \u001b[0;34m=\u001b[0m \u001b[0mtransform\u001b[0m\u001b[0;34m(\u001b[0m\u001b[0mx\u001b[0m\u001b[0;34m)\u001b[0m\u001b[0;34m\u001b[0m\u001b[0;34m\u001b[0m\u001b[0m\n",
      "\u001b[0;32m~/anaconda3/lib/python3.7/site-packages/torch/distributions/distribution.py\u001b[0m in \u001b[0;36msample\u001b[0;34m(self, sample_shape)\u001b[0m\n\u001b[1;32m    117\u001b[0m         \"\"\"\n\u001b[1;32m    118\u001b[0m         \u001b[0;32mwith\u001b[0m \u001b[0mtorch\u001b[0m\u001b[0;34m.\u001b[0m\u001b[0mno_grad\u001b[0m\u001b[0;34m(\u001b[0m\u001b[0;34m)\u001b[0m\u001b[0;34m:\u001b[0m\u001b[0;34m\u001b[0m\u001b[0;34m\u001b[0m\u001b[0m\n\u001b[0;32m--> 119\u001b[0;31m             \u001b[0;32mreturn\u001b[0m \u001b[0mself\u001b[0m\u001b[0;34m.\u001b[0m\u001b[0mrsample\u001b[0m\u001b[0;34m(\u001b[0m\u001b[0msample_shape\u001b[0m\u001b[0;34m)\u001b[0m\u001b[0;34m\u001b[0m\u001b[0;34m\u001b[0m\u001b[0m\n\u001b[0m\u001b[1;32m    120\u001b[0m \u001b[0;34m\u001b[0m\u001b[0m\n\u001b[1;32m    121\u001b[0m     \u001b[0;32mdef\u001b[0m \u001b[0mrsample\u001b[0m\u001b[0;34m(\u001b[0m\u001b[0mself\u001b[0m\u001b[0;34m,\u001b[0m \u001b[0msample_shape\u001b[0m\u001b[0;34m=\u001b[0m\u001b[0mtorch\u001b[0m\u001b[0;34m.\u001b[0m\u001b[0mSize\u001b[0m\u001b[0;34m(\u001b[0m\u001b[0;34m)\u001b[0m\u001b[0;34m)\u001b[0m\u001b[0;34m:\u001b[0m\u001b[0;34m\u001b[0m\u001b[0;34m\u001b[0m\u001b[0m\n",
      "\u001b[0;32m~/anaconda3/lib/python3.7/site-packages/torch/distributions/relaxed_categorical.py\u001b[0m in \u001b[0;36mrsample\u001b[0;34m(self, sample_shape)\u001b[0m\n\u001b[1;32m     71\u001b[0m         \u001b[0mgumbels\u001b[0m \u001b[0;34m=\u001b[0m \u001b[0;34m-\u001b[0m\u001b[0;34m(\u001b[0m\u001b[0;34m(\u001b[0m\u001b[0;34m-\u001b[0m\u001b[0;34m(\u001b[0m\u001b[0muniforms\u001b[0m\u001b[0;34m.\u001b[0m\u001b[0mlog\u001b[0m\u001b[0;34m(\u001b[0m\u001b[0;34m)\u001b[0m\u001b[0;34m)\u001b[0m\u001b[0;34m)\u001b[0m\u001b[0;34m.\u001b[0m\u001b[0mlog\u001b[0m\u001b[0;34m(\u001b[0m\u001b[0;34m)\u001b[0m\u001b[0;34m)\u001b[0m\u001b[0;34m\u001b[0m\u001b[0;34m\u001b[0m\u001b[0m\n\u001b[1;32m     72\u001b[0m         \u001b[0mscores\u001b[0m \u001b[0;34m=\u001b[0m \u001b[0;34m(\u001b[0m\u001b[0mself\u001b[0m\u001b[0;34m.\u001b[0m\u001b[0mlogits\u001b[0m \u001b[0;34m+\u001b[0m \u001b[0mgumbels\u001b[0m\u001b[0;34m)\u001b[0m \u001b[0;34m/\u001b[0m \u001b[0mself\u001b[0m\u001b[0;34m.\u001b[0m\u001b[0mtemperature\u001b[0m\u001b[0;34m\u001b[0m\u001b[0;34m\u001b[0m\u001b[0m\n\u001b[0;32m---> 73\u001b[0;31m         \u001b[0;32mreturn\u001b[0m \u001b[0mscores\u001b[0m \u001b[0;34m-\u001b[0m \u001b[0mscores\u001b[0m\u001b[0;34m.\u001b[0m\u001b[0mlogsumexp\u001b[0m\u001b[0;34m(\u001b[0m\u001b[0mdim\u001b[0m\u001b[0;34m=\u001b[0m\u001b[0;34m-\u001b[0m\u001b[0;36m1\u001b[0m\u001b[0;34m,\u001b[0m \u001b[0mkeepdim\u001b[0m\u001b[0;34m=\u001b[0m\u001b[0;32mTrue\u001b[0m\u001b[0;34m)\u001b[0m\u001b[0;34m\u001b[0m\u001b[0;34m\u001b[0m\u001b[0m\n\u001b[0m\u001b[1;32m     74\u001b[0m \u001b[0;34m\u001b[0m\u001b[0m\n\u001b[1;32m     75\u001b[0m     \u001b[0;32mdef\u001b[0m \u001b[0mlog_prob\u001b[0m\u001b[0;34m(\u001b[0m\u001b[0mself\u001b[0m\u001b[0;34m,\u001b[0m \u001b[0mvalue\u001b[0m\u001b[0;34m)\u001b[0m\u001b[0;34m:\u001b[0m\u001b[0;34m\u001b[0m\u001b[0;34m\u001b[0m\u001b[0m\n",
      "\u001b[0;31mKeyboardInterrupt\u001b[0m: "
     ]
    }
   ],
   "source": [
    "num_nodes = []\n",
    "for i, G in tqdm(enumerate(dataloader)):\n",
    "    #num_nodes.extend(g.batch_num_nodes)\n",
    "    break"
   ]
  },
  {
   "cell_type": "markdown",
   "metadata": {},
   "source": [
    "# %lprun -f utils.mol2graph dataset[10]\n",
    "nx.draw(G.to_networkx(), pos=nx.kamada_kawai_layout(G.to_networkx()))"
   ]
  },
  {
   "cell_type": "code",
   "execution_count": 13,
   "metadata": {},
   "outputs": [
    {
     "name": "stdout",
     "output_type": "stream",
     "text": [
      "C[C@@H]1C[C@@H]1C(=O)N(Cc1ccc(F)cc1F)C1CC1\n",
      "\n",
      "[8, 9, 7, 14, 10, 6, 15, 13, 11, 16, 4, 12, 17, 18, 5, 3, 1, 2, 0]\n"
     ]
    },
    {
     "data": {
      "image/png": "[encoded data removed]",
      "text/plain": [
       "<Figure size 432x288 with 1 Axes>"
      ]
     },
     "metadata": {},
     "output_type": "display_data"
    }
   ],
   "source": [
    "#plt.figure(figsize=(50, 50))\n",
    "G = dataset[206170]\n",
    "atoms = [atom_list[i] for i in G.ndata['feats'][:, :43].argmax(1).data.cpu()]\n",
    "G_pred = nx.Graph()\n",
    "for i, atom in enumerate(atoms):\n",
    "    G_pred.add_node(i, atom='%s'%(atom))\n",
    "\n",
    "edge_pred = G.edata['feats'][:, :5].argmax(1).data.cpu()\n",
    "#print(edge_pred)\n",
    "edge_pred_score = G.edata['feats'][:, :5].max(1)[0].data.cpu()\n",
    "\n",
    "edges = []\n",
    "edge_types = []\n",
    "edge_start = [i.item() for i in G.edges()[0]]\n",
    "edge_end = [i.item() for i in G.edges()[1]]\n",
    "edge_num = 0\n",
    "for i,j in zip(edge_start, edge_end):\n",
    "    if (i == j): \n",
    "        edge_num += 1\n",
    "        continue\n",
    "    if edge_pred[edge_num] > 0:\n",
    "        edges.append((i, j))\n",
    "        edge_types.append(edge_pred[edge_num].item())\n",
    "    edge_num += 1\n",
    "        \n",
    "for i in range(len(edges)):\n",
    "    G_pred.add_edge(*edges[i], bond_type=edge_types[i])\n",
    "\n",
    "pos = nx.drawing.nx_agraph.graphviz_layout(G_pred)\n",
    "node_labels = nx.get_node_attributes(G_pred, 'atom')\n",
    "nx.draw_networkx(G_pred, pos, font_color='w', node_size=400, labels=node_labels)\n",
    "#\n",
    "#nx.draw_networkx_labels(G_pred, pos, labels=node_labels)\n",
    "\n",
    "edge_labels = nx.get_edge_attributes(G_pred, 'bond_type')\n",
    "nx.draw_networkx_edge_labels(G_pred, pos, edge_labels=edge_labels)\n",
    "\n",
    "plt.title('Num Atoms : %d'%(len(atoms)))\n",
    "plt.show()"
   ]
  },
  {
   "cell_type": "code",
   "execution_count": 16,
   "metadata": {},
   "outputs": [
    {
     "data": {
      "image/png": "[encoded data removed]",
      "text/plain": [
       "<PIL.Image.Image image mode=RGB size=300x300 at 0x7FCFCD4EA1D0>"
      ]
     },
     "execution_count": 16,
     "metadata": {},
     "output_type": "execute_result"
    }
   ],
   "source": [
    "Draw.MolToImage(Chem.MolFromSmiles('C[C@@H]1C[C@@H]1C(=O)N(Cc1ccc(F)cc1F)C1CC1'))"
   ]
  },
  {
   "cell_type": "code",
   "execution_count": 48,
   "metadata": {},
   "outputs": [
    {
     "data": {
      "text/plain": [
       "tensor([[1., 0., 0.,  ..., 0., 0., 0.],\n",
       "        [1., 0., 0.,  ..., 0., 0., 0.],\n",
       "        [1., 0., 0.,  ..., 0., 0., 0.],\n",
       "        ...,\n",
       "        [1., 0., 0.,  ..., 0., 0., 0.],\n",
       "        [1., 0., 0.,  ..., 0., 0., 0.],\n",
       "        [1., 0., 0.,  ..., 0., 0., 0.]])"
      ]
     },
     "execution_count": 48,
     "metadata": {},
     "output_type": "execute_result"
    }
   ],
   "source": [
    "G.ndata['feats'][:, :43]"
   ]
  },
  {
   "cell_type": "code",
   "execution_count": 17,
   "metadata": {},
   "outputs": [
    {
     "ename": "NameError",
     "evalue": "name 'g' is not defined",
     "output_type": "error",
     "traceback": [
      "\u001b[0;31m---------------------------------------------------------------------------\u001b[0m",
      "\u001b[0;31mNameError\u001b[0m                                 Traceback (most recent call last)",
      "\u001b[0;32m<ipython-input-17-3e07bfcbdd66>\u001b[0m in \u001b[0;36m<module>\u001b[0;34m\u001b[0m\n\u001b[0;32m----> 1\u001b[0;31m \u001b[0mg_copy\u001b[0m \u001b[0;34m=\u001b[0m \u001b[0mdgl\u001b[0m\u001b[0;34m.\u001b[0m\u001b[0mbatch\u001b[0m\u001b[0;34m(\u001b[0m\u001b[0;34m[\u001b[0m\u001b[0mdgl\u001b[0m\u001b[0;34m.\u001b[0m\u001b[0mDGLGraph\u001b[0m\u001b[0;34m(\u001b[0m\u001b[0m_g\u001b[0m\u001b[0;34m.\u001b[0m\u001b[0m_graph\u001b[0m\u001b[0;34m)\u001b[0m \u001b[0;32mfor\u001b[0m \u001b[0m_g\u001b[0m \u001b[0;32min\u001b[0m \u001b[0mdgl\u001b[0m\u001b[0;34m.\u001b[0m\u001b[0munbatch\u001b[0m\u001b[0;34m(\u001b[0m\u001b[0mg\u001b[0m\u001b[0;34m)\u001b[0m\u001b[0;34m]\u001b[0m\u001b[0;34m)\u001b[0m\u001b[0;34m\u001b[0m\u001b[0;34m\u001b[0m\u001b[0m\n\u001b[0m\u001b[1;32m      2\u001b[0m \u001b[0mg_copy\u001b[0m\u001b[0;34m,\u001b[0m \u001b[0mg\u001b[0m\u001b[0;34m\u001b[0m\u001b[0;34m\u001b[0m\u001b[0m\n",
      "\u001b[0;31mNameError\u001b[0m: name 'g' is not defined"
     ]
    }
   ],
   "source": [
    "g_copy = dgl.batch([dgl.DGLGraph(_g._graph) for _g in dgl.unbatch(g)])\n",
    "g_copy, g"
   ]
  },
  {
   "cell_type": "code",
   "execution_count": null,
   "metadata": {},
   "outputs": [],
   "source": [
    "G.ndata['feats'][:, :43]"
   ]
  },
  {
   "cell_type": "code",
   "execution_count": null,
   "metadata": {},
   "outputs": [],
   "source": [
    "mask.shape"
   ]
  },
  {
   "cell_type": "code",
   "execution_count": null,
   "metadata": {},
   "outputs": [],
   "source": [
    "len(atom_y)"
   ]
  },
  {
   "cell_type": "code",
   "execution_count": null,
   "metadata": {},
   "outputs": [],
   "source": []
  },
  {
   "cell_type": "code",
   "execution_count": null,
   "metadata": {},
   "outputs": [],
   "source": []
  }
 ],
 "metadata": {
  "kernelspec": {
   "display_name": "Python 3",
   "language": "python",
   "name": "python3"
  },
  "language_info": {
   "codemirror_mode": {
    "name": "ipython",
    "version": 3
   },
   "file_extension": ".py",
   "mimetype": "text/x-python",
   "name": "python",
   "nbconvert_exporter": "python",
   "pygments_lexer": "ipython3",
   "version": "3.7.3"
  }
 },
 "nbformat": 4,
 "nbformat_minor": 4
}
