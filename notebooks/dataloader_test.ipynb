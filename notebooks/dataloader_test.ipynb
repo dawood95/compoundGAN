{
 "cells": [
  {
   "cell_type": "code",
   "execution_count": 1,
   "metadata": {},
   "outputs": [
    {
     "name": "stdout",
     "output_type": "stream",
     "text": [
      "/home/dawood/Workspace/compoundGAN\n"
     ]
    }
   ],
   "source": [
    "%cd .."
   ]
  },
  {
   "cell_type": "code",
   "execution_count": 14,
   "metadata": {},
   "outputs": [],
   "source": [
    "import torch\n",
    "from torch.utils.data import DataLoader\n",
    "\n",
    "from rdkit import Chem\n",
    "from rdkit.Chem import Draw\n",
    "\n",
    "from data.zinc import ZINC250K, ZINC_collate, Library\n",
    "from data.qm9 import QM9\n",
    "\n",
    "from models.gcn import GCN\n",
    "\n",
    "from tqdm import tqdm\n",
    "import networkx as nx\n",
    "\n",
    "from matplotlib import pyplot as plt\n",
    "%matplotlib inline"
   ]
  },
  {
   "cell_type": "code",
   "execution_count": 3,
   "metadata": {},
   "outputs": [],
   "source": [
    "atom_list = [i for i in Library.atom_list]\n",
    "atom_list.append('END')"
   ]
  },
  {
   "cell_type": "code",
   "execution_count": 4,
   "metadata": {},
   "outputs": [],
   "source": [
    "model = GCN(58, 11, 256, [64, 128, 128])"
   ]
  },
  {
   "cell_type": "code",
   "execution_count": 5,
   "metadata": {},
   "outputs": [],
   "source": [
    "dataset = ZINC250K('~/Datasets/ZINC250K/data.csv')\n",
    "dataset = QM9('~/Datasets/QM9/data.txt')\n",
    "\n",
    "#dataset.seq_length = 4"
   ]
  },
  {
   "cell_type": "code",
   "execution_count": 6,
   "metadata": {},
   "outputs": [],
   "source": [
    "dataloader = DataLoader(dataset, 2, shuffle=True, collate_fn=ZINC_collate)"
   ]
  },
  {
   "cell_type": "code",
   "execution_count": 16,
   "metadata": {},
   "outputs": [
    {
     "name": "stderr",
     "output_type": "stream",
     "text": [
      "0it [00:00, ?it/s]"
     ]
    },
    {
     "name": "stdout",
     "output_type": "stream",
     "text": [
      "NC(=O)C1(CO1)C(N)=O\n",
      "O=C1NCCNC11CC1\n"
     ]
    },
    {
     "name": "stderr",
     "output_type": "stream",
     "text": [
      "\n"
     ]
    }
   ],
   "source": [
    "for i, (g, atom_id, atom_x, atom_y, bond_y) in tqdm(enumerate(dataloader)):\n",
    "    break"
   ]
  },
  {
   "cell_type": "code",
   "execution_count": 8,
   "metadata": {},
   "outputs": [
    {
     "data": {
      "text/plain": [
       "tensor([2, 0, 1, 0, 0, 1, 0, 0, 0, 1, 0, 0, 0, 0, 1, 0, 0, 0, 0, 1, 0, 0, 0, 0,\n",
       "        0, 1, 0, 1, 0, 0, 0, 0, 0, 1, 1, 0, 0, 0, 0, 0, 0, 0, 0, 0, 0])"
      ]
     },
     "execution_count": 8,
     "metadata": {},
     "output_type": "execute_result"
    }
   ],
   "source": [
    "bond_y[:, 0, 0]"
   ]
  },
  {
   "cell_type": "code",
   "execution_count": 17,
   "metadata": {},
   "outputs": [],
   "source": [
    "def run(atom_y, bond_y):\n",
    "    \n",
    "    #print(G.ndata['feats'][:, :43])\n",
    "    #print(G.edata['feats'][:, :5])\n",
    "    atoms = [atom_list[i] for i in atom_y[:, 0, 0]]\n",
    "    # atoms = [atom_list[i] for i in G.ndata['feats'][:, :43].argmax(1).data.cpu()]\n",
    "    # aromatic = [i.item() for i in G.ndata['feats'][:, -2:].argmax(1).data.cpu()]\n",
    "\n",
    "    G_pred = nx.Graph()\n",
    "    num_nodes = len(atoms)\n",
    "    aid = 0\n",
    "    cid = 0\n",
    "    for i, atom in enumerate(atoms):\n",
    "        G_pred.add_node(i, atom='%s'%(atom), atom_id='%d'%(aid), compound_id=cid)\n",
    "        aid += 1\n",
    "\n",
    "    edges = []\n",
    "    edge_types = []\n",
    "    bn = 0\n",
    "    for i in range(len(atoms)):\n",
    "        for j in range(i):\n",
    "            if (i > 12) and (j < (i - 12)):\n",
    "                continue\n",
    "            _j = j - (i - 12) if (i - 12) > 0 else j\n",
    "            if bond_y[bn, 0, 0] > 0:\n",
    "                edges.append((i, j))\n",
    "                edge_types.append(bond_y[bn, 0, 0].item())\n",
    "            bn += 1\n",
    "                \n",
    "    # edge_pred = G.edata['feats'][:, :5].argmax(1).data.cpu()\n",
    "    # edge_pred_score = G.edata['feats'][:, :5].max(1)[0].data.cpu()\n",
    "    for i in range(len(edges)):\n",
    "        G_pred.add_edge(*edges[i], bond_type=edge_types[i])\n",
    "    \n",
    "#     if atoms[-1] == 'END' and len(atoms) > 1:\n",
    "#         G_pred.remove_node(len(atoms) - 1)\n",
    "\n",
    "    pos = nx.drawing.nx_agraph.graphviz_layout(G_pred)\n",
    "    #pos = nx.kamada_kawai_layout(G_pred)\n",
    "    node_labels = nx.get_node_attributes(G_pred, 'atom')\n",
    "    edge_labels = nx.get_edge_attributes(G_pred, 'bond_type')\n",
    "    cids = nx.get_node_attributes(G_pred, 'compound_id')\n",
    "    edge_color_map = {\n",
    "        0: 'm',\n",
    "        1: 'b',\n",
    "        2: 'r',\n",
    "        3: 'g',\n",
    "        4: 'y'\n",
    "    }\n",
    "    \n",
    "    edge_colors = [edge_color_map[v] for k,v in edge_labels.items()]\n",
    "    node_colors = [v for k, v in cids.items()]\n",
    "    nx.draw_networkx(G_pred, pos, font_color='w', font_size=10, font_weight='bold',\n",
    "                     node_size=256, labels=node_labels, #node_color=node_colors,\n",
    "                     edge_color=edge_colors, width=2, cmap=plt.cm.Set1)\n",
    "    \n",
    "    node_labels = nx.get_node_attributes(G_pred, 'atom_id')\n",
    "    for k in node_labels:\n",
    "        node_labels[k] = '%10s'%node_labels[k]\n",
    "    new_pos = {}\n",
    "    for k, (x, y) in pos.items():\n",
    "        new_pos[k] = (x, y)\n",
    "    nx.draw_networkx_labels(G_pred, new_pos, labels=node_labels, font_size=10, font_weight='bold',)"
   ]
  },
  {
   "cell_type": "code",
   "execution_count": 18,
   "metadata": {},
   "outputs": [
    {
     "data": {
      "image/png": "[encoded data removed]",
      "text/plain": [
       "<Figure size 432x288 with 1 Axes>"
      ]
     },
     "metadata": {},
     "output_type": "display_data"
    }
   ],
   "source": [
    "run(atom_y, bond_y)"
   ]
  },
  {
   "cell_type": "code",
   "execution_count": 20,
   "metadata": {},
   "outputs": [
    {
     "data": {
      "image/png": "[encoded data removed]",
      "text/plain": [
       "<Figure size 216x216 with 1 Axes>"
      ]
     },
     "metadata": {
      "needs_background": "light"
     },
     "output_type": "display_data"
    }
   ],
   "source": [
    "mol = Chem.MolFromSmiles('NC(=O)C1(CO1)C(N)=O')\n",
    "Draw.MolToMPL(mol); plt.show()\n"
   ]
  },
  {
   "cell_type": "code",
   "execution_count": 7,
   "metadata": {},
   "outputs": [
    {
     "data": {
      "text/plain": [
       "torch.Size([24, 1, 4])"
      ]
     },
     "execution_count": 7,
     "metadata": {},
     "output_type": "execute_result"
    }
   ],
   "source": [
    "atom_y.shape"
   ]
  },
  {
   "cell_type": "code",
   "execution_count": null,
   "metadata": {},
   "outputs": [],
   "source": [
    "model(g).shape"
   ]
  },
  {
   "cell_type": "code",
   "execution_count": 15,
   "metadata": {},
   "outputs": [],
   "source": [
    "x = torch.Tensor([10, 3]).cuda()"
   ]
  },
  {
   "cell_type": "code",
   "execution_count": 18,
   "metadata": {},
   "outputs": [
    {
     "data": {
      "text/plain": [
       "tensor([5.], device='cuda:0')"
      ]
     },
     "execution_count": 18,
     "metadata": {},
     "output_type": "execute_result"
    }
   ],
   "source": [
    "y = torch.Tensor([5])\n",
    "y = y.to(x)\n",
    "y"
   ]
  },
  {
   "cell_type": "code",
   "execution_count": 8,
   "metadata": {},
   "outputs": [
    {
     "data": {
      "text/plain": [
       "torch.Size([24, 12, 1, 3])"
      ]
     },
     "execution_count": 8,
     "metadata": {},
     "output_type": "execute_result"
    }
   ],
   "source": [
    "bond_y.shape"
   ]
  },
  {
   "cell_type": "code",
   "execution_count": null,
   "metadata": {},
   "outputs": [],
   "source": [
    "mask.shape"
   ]
  },
  {
   "cell_type": "code",
   "execution_count": 12,
   "metadata": {},
   "outputs": [
    {
     "data": {
      "text/plain": [
       "DGLGraph(num_nodes=3019, num_edges=9527,\n",
       "         ndata_schemes={'feats': Scheme(shape=(56,), dtype=torch.float32)}\n",
       "         edata_schemes={'feats': Scheme(shape=(11,), dtype=torch.float32)})"
      ]
     },
     "execution_count": 12,
     "metadata": {},
     "output_type": "execute_result"
    }
   ],
   "source": [
    "g"
   ]
  },
  {
   "cell_type": "code",
   "execution_count": null,
   "metadata": {},
   "outputs": [],
   "source": []
  },
  {
   "cell_type": "code",
   "execution_count": 43,
   "metadata": {},
   "outputs": [],
   "source": [
    "a = list(range(15))"
   ]
  },
  {
   "cell_type": "code",
   "execution_count": 44,
   "metadata": {},
   "outputs": [
    {
     "data": {
      "text/plain": [
       "[14, 13, 12, 11, 10, 9, 8, 7, 6, 5, 4, 3]"
      ]
     },
     "execution_count": 44,
     "metadata": {},
     "output_type": "execute_result"
    }
   ],
   "source": [
    "a[:0:-1][:12]"
   ]
  },
  {
   "cell_type": "code",
   "execution_count": 37,
   "metadata": {},
   "outputs": [
    {
     "data": {
      "text/plain": [
       "[1, 0]"
      ]
     },
     "execution_count": 37,
     "metadata": {},
     "output_type": "execute_result"
    }
   ],
   "source": [
    "a[::-1]"
   ]
  },
  {
   "cell_type": "code",
   "execution_count": null,
   "metadata": {},
   "outputs": [],
   "source": []
  }
 ],
 "metadata": {
  "kernelspec": {
   "display_name": "Python 3",
   "language": "python",
   "name": "python3"
  },
  "language_info": {
   "codemirror_mode": {
    "name": "ipython",
    "version": 3
   },
   "file_extension": ".py",
   "mimetype": "text/x-python",
   "name": "python",
   "nbconvert_exporter": "python",
   "pygments_lexer": "ipython3",
   "version": "3.7.3"
  }
 },
 "nbformat": 4,
 "nbformat_minor": 4
}
