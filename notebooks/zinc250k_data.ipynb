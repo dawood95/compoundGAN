{
 "cells": [
  {
   "cell_type": "code",
   "execution_count": 17,
   "metadata": {},
   "outputs": [],
   "source": [
    "import pandas as pd\n",
    "import numpy as np\n",
    "import networkx as nx\n",
    "import dgl\n",
    "import torch\n",
    "import random\n",
    "\n",
    "from torch.nn import functional as F\n",
    "from tqdm import tqdm as tqdm\n",
    "\n",
    "from rdkit import Chem\n",
    "from rdkit.Chem import AllChem, Draw\n",
    "\n",
    "from matplotlib import pyplot as plt\n",
    "%matplotlib inline"
   ]
  },
  {
   "cell_type": "code",
   "execution_count": 2,
   "metadata": {},
   "outputs": [],
   "source": [
    "def mol_to_nx(mol):\n",
    "    G = nx.Graph()\n",
    "\n",
    "    for atom in mol.GetAtoms():\n",
    "        G.add_node(atom.GetIdx(),\n",
    "                   label=atom.GetSymbol(),\n",
    "                   atomic_num=atom.GetAtomicNum(),\n",
    "                   formal_charge=atom.GetFormalCharge(),\n",
    "                   chiral_tag=atom.GetChiralTag(),\n",
    "                   hybridization=atom.GetHybridization(),\n",
    "                   num_explicit_hs=atom.GetNumExplicitHs(),\n",
    "                   is_aromatic=atom.GetIsAromatic())\n",
    "    for bond in mol.GetBonds():\n",
    "        G.add_edge(bond.GetBeginAtomIdx(),\n",
    "                   bond.GetEndAtomIdx(),\n",
    "                   bond_type=bond.GetBondType())\n",
    "    return G\n",
    "\n",
    "def nx_to_mol(G):\n",
    "    mol = Chem.RWMol()\n",
    "    atomic_nums = nx.get_node_attributes(G, 'atomic_num')\n",
    "    chiral_tags = nx.get_node_attributes(G, 'chiral_tag')\n",
    "    formal_charges = nx.get_node_attributes(G, 'formal_charge')\n",
    "    node_is_aromatics = nx.get_node_attributes(G, 'is_aromatic')\n",
    "    node_hybridizations = nx.get_node_attributes(G, 'hybridization')\n",
    "    num_explicit_hss = nx.get_node_attributes(G, 'num_explicit_hs')\n",
    "    node_to_idx = {}\n",
    "    for node in G.nodes():\n",
    "        a=Chem.Atom(atomic_nums[node])\n",
    "        a.SetChiralTag(chiral_tags[node])\n",
    "        a.SetFormalCharge(formal_charges[node])\n",
    "        a.SetIsAromatic(node_is_aromatics[node])\n",
    "        a.SetHybridization(node_hybridizations[node])\n",
    "        a.SetNumExplicitHs(num_explicit_hss[node])\n",
    "        idx = mol.AddAtom(a)\n",
    "        node_to_idx[node] = idx\n",
    "\n",
    "    bond_types = nx.get_edge_attributes(G, 'bond_type')\n",
    "    for edge in G.edges():\n",
    "        first, second = edge\n",
    "        ifirst = node_to_idx[first]\n",
    "        isecond = node_to_idx[second]\n",
    "        bond_type = bond_types[first, second]\n",
    "        mol.AddBond(ifirst, isecond, bond_type)\n",
    "\n",
    "    Chem.SanitizeMol(mol)\n",
    "    return mol"
   ]
  },
  {
   "cell_type": "code",
   "execution_count": 3,
   "metadata": {},
   "outputs": [],
   "source": [
    "def atoms2vec(atoms):\n",
    "    atom_list = ['C', 'N', 'O', 'S', 'F', 'Si', 'P', 'Cl', 'Br', 'Mg', 'Na', 'Ca', 'Fe', \\\n",
    "                 'As', 'Al', 'I', 'B', 'V', 'K', 'Tl', 'Yb', 'Sb', 'Sn', 'Ag', 'Pd', 'Co', \\\n",
    "                 'Se', 'Ti', 'Zn', 'H', 'Li', 'Ge', 'Cu', 'Au', 'Ni', 'Cd', 'In', 'Mn', 'Zr',\\\n",
    "                 'Cr', 'Pt', 'Hg', 'Pb']\n",
    "    charge_list = [-3, -2, -1, 0, 1, 2, 3]\n",
    "    electron_list = [0, 1, 2]\n",
    "    chirality_list = ['R', 'S']\n",
    "    \n",
    "    atom_emb = []\n",
    "    charge_emb = []\n",
    "    electron_emb = []\n",
    "    chirality_emb = []\n",
    "    aromatic_emb = []\n",
    "    for atom in atoms:\n",
    "        try:\n",
    "            idx = atom_list.index(atom.GetSymbol())\n",
    "        except:\n",
    "            idx = len(atom_list)\n",
    "        \n",
    "        atom_emb.append(F.one_hot(torch.Tensor([idx]).long(), num_classes=len(atom_list)+1))\n",
    "        charge_emb.append(F.one_hot(torch.Tensor([atom.GetFormalCharge()+3]).long(), num_classes=len(charge_list)))\n",
    "        electron_emb.append(F.one_hot(torch.Tensor([atom.GetNumRadicalElectrons()]).long(), num_classes=len(electron_list)))\n",
    "        aromatic_emb.append(torch.Tensor([atom.GetIsAromatic()]).long().unsqueeze(0))\n",
    "        try:\n",
    "            idx = chirality_list.index(atom.GetProp('_CIPCode'))\n",
    "        except:\n",
    "            idx = len(chirality_list)\n",
    "        chirality_emb.append(F.one_hot(torch.Tensor([idx]).long(), num_classes=len(chirality_list)+1))\n",
    "\n",
    "    return atom_emb, charge_emb, electron_emb, chirality_emb, aromatic_emb\n",
    "   \n",
    "def bonds2vec(bonds):\n",
    "    conjugated = []\n",
    "    ring = []\n",
    "    bond_emb = []\n",
    "    chirality = []\n",
    "    for bond in bonds:\n",
    "        bt = bond.GetBondType()\n",
    "        bs = bond.GetStereo()\n",
    "        bond_emb.append(torch.Tensor([bt == Chem.rdchem.BondType.SINGLE, bt == Chem.rdchem.BondType.DOUBLE,\n",
    "                         bt == Chem.rdchem.BondType.TRIPLE, bt == Chem.rdchem.BondType.AROMATIC]).long())\n",
    "        conjugated.append(torch.Tensor([bond.GetIsConjugated()]).long())\n",
    "        ring.append(torch.Tensor([bond.IsInRing()]).long())\n",
    "        chirality.append(torch.Tensor([bs==\"STEREONONE\", bs==\"STEREOANY\", \n",
    "                                       bs==\"STEREOZ\", bs==\"STEREOE\"]).long())\n",
    "    return bond_emb, conjugated, ring, chirality\n",
    "              \n",
    "def mol2graph(mol):\n",
    "    bfs_root = list(Chem.CanonicalRankAtoms(mol)).index(0)\n",
    "    \n",
    "    mol = Chem.AddHs(mol)\n",
    "    G = dgl.DGLGraph()\n",
    "\n",
    "    atoms = list(mol.GetAtoms())\n",
    "    bonds = list(mol.GetBonds())\n",
    "    G.add_nodes(len(atoms))\n",
    "    G.add_edges([b.GetBeginAtomIdx() for b in bonds], [b.GetEndAtomIdx() for b in bonds])\n",
    "    G.add_edges([b.GetEndAtomIdx() for b in bonds], [b.GetBeginAtomIdx() for b in bonds])\n",
    "\n",
    "              \n",
    "    atoms_emb, charge_emb, electron_emb, chirality_emb, aromatic_emb = atoms2vec(atoms)\n",
    "    feats = []\n",
    "    for i in range(len(atoms)):\n",
    "        f = torch.cat([atoms_emb[i], charge_emb[i], electron_emb[i], chirality_emb[i], aromatic_emb[i]], dim=1)\n",
    "        print(atoms_emb[i].nonzero()[0][1].item())\n",
    "        feats.append(f)\n",
    "    feats = torch.cat(feats, 0)\n",
    "    G.ndata['feats'] = feats.float()\n",
    "\n",
    "    bond_emb, conjugated, ring, chirality = bonds2vec(bonds)\n",
    "    feats = []\n",
    "    for i in range(len(bonds)):\n",
    "        f = torch.cat([bond_emb[i], conjugated[i], ring[i], chirality[i]], dim=0)\n",
    "        feats.append(f.unsqueeze(0))\n",
    "    feats = feats * 2\n",
    "    feats = torch.cat(feats, 0)\n",
    "    G.edata['feats'] = feats.float()\n",
    "    \n",
    "    bfs_edge = torch.cat(dgl.bfs_edges_generator(G, bfs_root))\n",
    "    atom_order = [i.item() for i in torch.cat(dgl.bfs_nodes_generator(G, bfs_root))]\n",
    "    atom_order = []\n",
    "    bond_order = []\n",
    "    for edge in bfs_edge:\n",
    "        edge = edge % len(bonds)\n",
    "        s = bonds[edge].GetBeginAtomIdx()\n",
    "        e = bonds[edge].GetEndAtomIdx()\n",
    "        if s not in atom_order: atom_order.append(s)\n",
    "        if e not in atom_order: atom_order.append(e)\n",
    "        bond_order.append(edge.item())\n",
    "    print(atom_order)\n",
    "    atoms_emb = torch.cat(atoms_emb, dim=0)[atom_order]\n",
    "    charge_emb = torch.cat(charge_emb, dim=0)[atom_order]\n",
    "    electron_emb = torch.cat(electron_emb, dim=0)[atom_order]\n",
    "    chirality_emb = torch.cat(chirality_emb, dim=0)[atom_order]\n",
    "    aromatic_emb = torch.cat(aromatic_emb, dim=0)[atom_order]\n",
    "\n",
    "    bond_emb = torch.cat(bond_emb, dim=0)[bond_order]\n",
    "    conjugated = torch.cat(conjugated, dim=0)[bond_order]\n",
    "    ring = torch.cat(ring, dim=0)[bond_order]\n",
    "    chirality = torch.cat(chirality, dim=0)[bond_order]\n",
    "\n",
    "    return G, (atoms_emb, charge_emb, electron_emb, chirality_emb, aromatic_emb), (bond_emb, conjugated, ring, chirality)"
   ]
  },
  {
   "cell_type": "code",
   "execution_count": 4,
   "metadata": {},
   "outputs": [],
   "source": [
    "zinc = pd.read_csv('/home/dawood/Datasets/ZINC250K/data.csv')"
   ]
  },
  {
   "cell_type": "code",
   "execution_count": 5,
   "metadata": {},
   "outputs": [
    {
     "name": "stderr",
     "output_type": "stream",
     "text": [
      "  0%|          | 0/249445 [00:00<?, ?it/s]"
     ]
    },
    {
     "name": "stdout",
     "output_type": "stream",
     "text": [
      "CCOc1ccc(OCC)c([C@H]2C(C#N)=C(N)N(c3ccccc3C(F)(F)F)C3=C2C(=O)CCC3)c1\n",
      "\n"
     ]
    },
    {
     "name": "stderr",
     "output_type": "stream",
     "text": [
      "\n"
     ]
    }
   ],
   "source": [
    "atoms_list = []\n",
    "radical_electrons = []\n",
    "charges = []\n",
    "for smiles in tqdm(zinc['smiles'][10:]):\n",
    "    print(smiles)\n",
    "    \n",
    "    mol = Chem.MolFromSmiles(smiles)\n",
    "    x = list(Chem.CanonicalRankAtoms(mol))\n",
    "    ##mol = Chem.AddHs(mol)\n",
    "    #G = mol_to_nx(Chem.AddHs(mol))\n",
    "    #nx.draw_kamada_kawai(dgl.DGLGraph(G).to_networkx())\n",
    "    break"
   ]
  },
  {
   "cell_type": "code",
   "execution_count": 11,
   "metadata": {},
   "outputs": [
    {
     "ename": "ArgumentError",
     "evalue": "Python argument types in\n    None.GetAtomsMatchingQuery(Mol, Atom)\ndid not match C++ signature:\n    GetAtomsMatchingQuery(RDKit::ROMol*, RDKit::QueryAtom*)",
     "output_type": "error",
     "traceback": [
      "\u001b[0;31m---------------------------------------------------------------------------\u001b[0m",
      "\u001b[0;31mArgumentError\u001b[0m                             Traceback (most recent call last)",
      "\u001b[0;32m<ipython-input-11-b4b1e27d6428>\u001b[0m in \u001b[0;36m<module>\u001b[0;34m\u001b[0m\n\u001b[0;32m----> 1\u001b[0;31m \u001b[0mmol\u001b[0m\u001b[0;34m.\u001b[0m\u001b[0mGetAtomsMatchingQuery\u001b[0m\u001b[0;34m(\u001b[0m\u001b[0mChem\u001b[0m\u001b[0;34m.\u001b[0m\u001b[0mAtomFromSmiles\u001b[0m\u001b[0;34m(\u001b[0m\u001b[0;34m'C'\u001b[0m\u001b[0;34m)\u001b[0m\u001b[0;34m)\u001b[0m\u001b[0;34m\u001b[0m\u001b[0;34m\u001b[0m\u001b[0m\n\u001b[0m",
      "\u001b[0;31mArgumentError\u001b[0m: Python argument types in\n    None.GetAtomsMatchingQuery(Mol, Atom)\ndid not match C++ signature:\n    GetAtomsMatchingQuery(RDKit::ROMol*, RDKit::QueryAtom*)"
     ]
    }
   ],
   "source": [
    "mol.GetAtomsMatchingQuery(Chem.QueryAtom.DescribeQuery())"
   ]
  },
  {
   "cell_type": "code",
   "execution_count": 24,
   "metadata": {},
   "outputs": [
    {
     "data": {
      "text/plain": [
       "5"
      ]
     },
     "execution_count": 24,
     "metadata": {},
     "output_type": "execute_result"
    }
   ],
   "source": [
    "atom_idx = []\n",
    "for i, atom in enumerate(mol.GetAtoms()):\n",
    "    if atom.GetSymbol() == 'C': atom_idx.append(i)\n",
    "random.choice(atom_idx)"
   ]
  },
  {
   "cell_type": "code",
   "execution_count": 61,
   "metadata": {},
   "outputs": [
    {
     "name": "stdout",
     "output_type": "stream",
     "text": [
      "0\n",
      "0\n",
      "2\n",
      "0\n",
      "0\n",
      "0\n",
      "0\n",
      "2\n",
      "0\n",
      "0\n",
      "0\n",
      "0\n",
      "0\n",
      "0\n",
      "1\n",
      "0\n",
      "1\n",
      "1\n",
      "0\n",
      "0\n",
      "0\n",
      "0\n",
      "0\n",
      "0\n",
      "0\n",
      "4\n",
      "4\n",
      "4\n",
      "0\n",
      "0\n",
      "0\n",
      "2\n",
      "0\n",
      "0\n",
      "0\n",
      "0\n",
      "29\n",
      "29\n",
      "29\n",
      "29\n",
      "29\n",
      "29\n",
      "29\n",
      "29\n",
      "29\n",
      "29\n",
      "29\n",
      "29\n",
      "29\n",
      "29\n",
      "29\n",
      "29\n",
      "29\n",
      "29\n",
      "29\n",
      "29\n",
      "29\n",
      "29\n",
      "29\n",
      "29\n",
      "29\n",
      "29\n",
      "[0, 1, 36, 37, 38, 2, 39, 40, 3, 4, 35, 5, 41, 61, 10, 6, 42, 11, 7, 12, 48, 29, 8, 13, 15, 30, 28, 9, 43, 44, 14, 16, 17, 31, 32, 34, 45, 46, 47, 49, 50, 18, 33, 55, 56, 59, 60, 19, 23, 57, 58, 20, 51, 24, 22, 21, 52, 25, 26, 27, 54, 53]\n"
     ]
    }
   ],
   "source": [
    "G, atom_feats, bond_feats = mol2graph(mol)"
   ]
  },
  {
   "cell_type": "code",
   "execution_count": 49,
   "metadata": {},
   "outputs": [
    {
     "ename": "KeyError",
     "evalue": "'id'",
     "output_type": "error",
     "traceback": [
      "\u001b[0;31m---------------------------------------------------------------------------\u001b[0m",
      "\u001b[0;31mKeyError\u001b[0m                                  Traceback (most recent call last)",
      "\u001b[0;32m<ipython-input-49-5206e36924f0>\u001b[0m in \u001b[0;36m<module>\u001b[0;34m\u001b[0m\n\u001b[1;32m      2\u001b[0m \u001b[0;32mfor\u001b[0m \u001b[0mi\u001b[0m \u001b[0;32min\u001b[0m \u001b[0mrange\u001b[0m\u001b[0;34m(\u001b[0m\u001b[0mlen\u001b[0m\u001b[0;34m(\u001b[0m\u001b[0mmol\u001b[0m\u001b[0;34m.\u001b[0m\u001b[0mGetAtoms\u001b[0m\u001b[0;34m(\u001b[0m\u001b[0;34m)\u001b[0m\u001b[0;34m)\u001b[0m\u001b[0;34m)\u001b[0m\u001b[0;34m:\u001b[0m\u001b[0;34m\u001b[0m\u001b[0;34m\u001b[0m\u001b[0m\n\u001b[1;32m      3\u001b[0m     \u001b[0mlabels\u001b[0m\u001b[0;34m[\u001b[0m\u001b[0mi\u001b[0m\u001b[0;34m]\u001b[0m \u001b[0;34m=\u001b[0m \u001b[0mstr\u001b[0m\u001b[0;34m(\u001b[0m\u001b[0mi\u001b[0m\u001b[0;34m)\u001b[0m\u001b[0;34m\u001b[0m\u001b[0;34m\u001b[0m\u001b[0m\n\u001b[0;32m----> 4\u001b[0;31m \u001b[0mnx\u001b[0m\u001b[0;34m.\u001b[0m\u001b[0mdraw_kamada_kawai\u001b[0m\u001b[0;34m(\u001b[0m\u001b[0mG\u001b[0m\u001b[0;34m.\u001b[0m\u001b[0mto_networkx\u001b[0m\u001b[0;34m(\u001b[0m\u001b[0mnode_attrs\u001b[0m\u001b[0;34m=\u001b[0m\u001b[0;34m[\u001b[0m\u001b[0;34m'id'\u001b[0m\u001b[0;34m]\u001b[0m\u001b[0;34m)\u001b[0m\u001b[0;34m,\u001b[0m \u001b[0mnode_size\u001b[0m\u001b[0;34m=\u001b[0m\u001b[0;36m100\u001b[0m\u001b[0;34m,\u001b[0m \u001b[0mlabels\u001b[0m\u001b[0;34m=\u001b[0m\u001b[0mlabels\u001b[0m\u001b[0;34m)\u001b[0m\u001b[0;34m\u001b[0m\u001b[0;34m\u001b[0m\u001b[0m\n\u001b[0m",
      "\u001b[0;32m//anaconda3/lib/python3.7/site-packages/dgl/graph.py\u001b[0m in \u001b[0;36mto_networkx\u001b[0;34m(self, node_attrs, edge_attrs)\u001b[0m\n\u001b[1;32m   1328\u001b[0m             \u001b[0;32mfor\u001b[0m \u001b[0mnid\u001b[0m\u001b[0;34m,\u001b[0m \u001b[0mattr\u001b[0m \u001b[0;32min\u001b[0m \u001b[0mnx_graph\u001b[0m\u001b[0;34m.\u001b[0m\u001b[0mnodes\u001b[0m\u001b[0;34m(\u001b[0m\u001b[0mdata\u001b[0m\u001b[0;34m=\u001b[0m\u001b[0;32mTrue\u001b[0m\u001b[0;34m)\u001b[0m\u001b[0;34m:\u001b[0m\u001b[0;34m\u001b[0m\u001b[0;34m\u001b[0m\u001b[0m\n\u001b[1;32m   1329\u001b[0m                 \u001b[0mfeat_dict\u001b[0m \u001b[0;34m=\u001b[0m \u001b[0mself\u001b[0m\u001b[0;34m.\u001b[0m\u001b[0mget_n_repr\u001b[0m\u001b[0;34m(\u001b[0m\u001b[0mnid\u001b[0m\u001b[0;34m)\u001b[0m\u001b[0;34m\u001b[0m\u001b[0;34m\u001b[0m\u001b[0m\n\u001b[0;32m-> 1330\u001b[0;31m                 \u001b[0mattr\u001b[0m\u001b[0;34m.\u001b[0m\u001b[0mupdate\u001b[0m\u001b[0;34m(\u001b[0m\u001b[0;34m{\u001b[0m\u001b[0mkey\u001b[0m\u001b[0;34m:\u001b[0m \u001b[0mF\u001b[0m\u001b[0;34m.\u001b[0m\u001b[0msqueeze\u001b[0m\u001b[0;34m(\u001b[0m\u001b[0mfeat_dict\u001b[0m\u001b[0;34m[\u001b[0m\u001b[0mkey\u001b[0m\u001b[0;34m]\u001b[0m\u001b[0;34m,\u001b[0m \u001b[0;36m0\u001b[0m\u001b[0;34m)\u001b[0m \u001b[0;32mfor\u001b[0m \u001b[0mkey\u001b[0m \u001b[0;32min\u001b[0m \u001b[0mnode_attrs\u001b[0m\u001b[0;34m}\u001b[0m\u001b[0;34m)\u001b[0m\u001b[0;34m\u001b[0m\u001b[0;34m\u001b[0m\u001b[0m\n\u001b[0m\u001b[1;32m   1331\u001b[0m         \u001b[0;32mif\u001b[0m \u001b[0medge_attrs\u001b[0m \u001b[0;32mis\u001b[0m \u001b[0;32mnot\u001b[0m \u001b[0;32mNone\u001b[0m\u001b[0;34m:\u001b[0m\u001b[0;34m\u001b[0m\u001b[0;34m\u001b[0m\u001b[0m\n\u001b[1;32m   1332\u001b[0m             \u001b[0;32mfor\u001b[0m \u001b[0m_\u001b[0m\u001b[0;34m,\u001b[0m \u001b[0m_\u001b[0m\u001b[0;34m,\u001b[0m \u001b[0mattr\u001b[0m \u001b[0;32min\u001b[0m \u001b[0mnx_graph\u001b[0m\u001b[0;34m.\u001b[0m\u001b[0medges\u001b[0m\u001b[0;34m(\u001b[0m\u001b[0mdata\u001b[0m\u001b[0;34m=\u001b[0m\u001b[0;32mTrue\u001b[0m\u001b[0;34m)\u001b[0m\u001b[0;34m:\u001b[0m\u001b[0;34m\u001b[0m\u001b[0;34m\u001b[0m\u001b[0m\n",
      "\u001b[0;32m//anaconda3/lib/python3.7/site-packages/dgl/graph.py\u001b[0m in \u001b[0;36m<dictcomp>\u001b[0;34m(.0)\u001b[0m\n\u001b[1;32m   1328\u001b[0m             \u001b[0;32mfor\u001b[0m \u001b[0mnid\u001b[0m\u001b[0;34m,\u001b[0m \u001b[0mattr\u001b[0m \u001b[0;32min\u001b[0m \u001b[0mnx_graph\u001b[0m\u001b[0;34m.\u001b[0m\u001b[0mnodes\u001b[0m\u001b[0;34m(\u001b[0m\u001b[0mdata\u001b[0m\u001b[0;34m=\u001b[0m\u001b[0;32mTrue\u001b[0m\u001b[0;34m)\u001b[0m\u001b[0;34m:\u001b[0m\u001b[0;34m\u001b[0m\u001b[0;34m\u001b[0m\u001b[0m\n\u001b[1;32m   1329\u001b[0m                 \u001b[0mfeat_dict\u001b[0m \u001b[0;34m=\u001b[0m \u001b[0mself\u001b[0m\u001b[0;34m.\u001b[0m\u001b[0mget_n_repr\u001b[0m\u001b[0;34m(\u001b[0m\u001b[0mnid\u001b[0m\u001b[0;34m)\u001b[0m\u001b[0;34m\u001b[0m\u001b[0;34m\u001b[0m\u001b[0m\n\u001b[0;32m-> 1330\u001b[0;31m                 \u001b[0mattr\u001b[0m\u001b[0;34m.\u001b[0m\u001b[0mupdate\u001b[0m\u001b[0;34m(\u001b[0m\u001b[0;34m{\u001b[0m\u001b[0mkey\u001b[0m\u001b[0;34m:\u001b[0m \u001b[0mF\u001b[0m\u001b[0;34m.\u001b[0m\u001b[0msqueeze\u001b[0m\u001b[0;34m(\u001b[0m\u001b[0mfeat_dict\u001b[0m\u001b[0;34m[\u001b[0m\u001b[0mkey\u001b[0m\u001b[0;34m]\u001b[0m\u001b[0;34m,\u001b[0m \u001b[0;36m0\u001b[0m\u001b[0;34m)\u001b[0m \u001b[0;32mfor\u001b[0m \u001b[0mkey\u001b[0m \u001b[0;32min\u001b[0m \u001b[0mnode_attrs\u001b[0m\u001b[0;34m}\u001b[0m\u001b[0;34m)\u001b[0m\u001b[0;34m\u001b[0m\u001b[0;34m\u001b[0m\u001b[0m\n\u001b[0m\u001b[1;32m   1331\u001b[0m         \u001b[0;32mif\u001b[0m \u001b[0medge_attrs\u001b[0m \u001b[0;32mis\u001b[0m \u001b[0;32mnot\u001b[0m \u001b[0;32mNone\u001b[0m\u001b[0;34m:\u001b[0m\u001b[0;34m\u001b[0m\u001b[0;34m\u001b[0m\u001b[0m\n\u001b[1;32m   1332\u001b[0m             \u001b[0;32mfor\u001b[0m \u001b[0m_\u001b[0m\u001b[0;34m,\u001b[0m \u001b[0m_\u001b[0m\u001b[0;34m,\u001b[0m \u001b[0mattr\u001b[0m \u001b[0;32min\u001b[0m \u001b[0mnx_graph\u001b[0m\u001b[0;34m.\u001b[0m\u001b[0medges\u001b[0m\u001b[0;34m(\u001b[0m\u001b[0mdata\u001b[0m\u001b[0;34m=\u001b[0m\u001b[0;32mTrue\u001b[0m\u001b[0;34m)\u001b[0m\u001b[0;34m:\u001b[0m\u001b[0;34m\u001b[0m\u001b[0;34m\u001b[0m\u001b[0m\n",
      "\u001b[0;32m//anaconda3/lib/python3.7/site-packages/dgl/utils.py\u001b[0m in \u001b[0;36m__getitem__\u001b[0;34m(self, key)\u001b[0m\n\u001b[1;32m    282\u001b[0m     \u001b[0;32mdef\u001b[0m \u001b[0m__getitem__\u001b[0m\u001b[0;34m(\u001b[0m\u001b[0mself\u001b[0m\u001b[0;34m,\u001b[0m \u001b[0mkey\u001b[0m\u001b[0;34m)\u001b[0m\u001b[0;34m:\u001b[0m\u001b[0;34m\u001b[0m\u001b[0;34m\u001b[0m\u001b[0m\n\u001b[1;32m    283\u001b[0m         \u001b[0;32mif\u001b[0m \u001b[0;32mnot\u001b[0m \u001b[0mkey\u001b[0m \u001b[0;32min\u001b[0m \u001b[0mself\u001b[0m\u001b[0;34m.\u001b[0m\u001b[0m_keys\u001b[0m\u001b[0;34m:\u001b[0m\u001b[0;34m\u001b[0m\u001b[0;34m\u001b[0m\u001b[0m\n\u001b[0;32m--> 284\u001b[0;31m             \u001b[0;32mraise\u001b[0m \u001b[0mKeyError\u001b[0m\u001b[0;34m(\u001b[0m\u001b[0mkey\u001b[0m\u001b[0;34m)\u001b[0m\u001b[0;34m\u001b[0m\u001b[0;34m\u001b[0m\u001b[0m\n\u001b[0m\u001b[1;32m    285\u001b[0m         \u001b[0;32mreturn\u001b[0m \u001b[0mself\u001b[0m\u001b[0;34m.\u001b[0m\u001b[0m_fn\u001b[0m\u001b[0;34m(\u001b[0m\u001b[0mkey\u001b[0m\u001b[0;34m)\u001b[0m\u001b[0;34m\u001b[0m\u001b[0;34m\u001b[0m\u001b[0m\n\u001b[1;32m    286\u001b[0m \u001b[0;34m\u001b[0m\u001b[0m\n",
      "\u001b[0;31mKeyError\u001b[0m: 'id'"
     ]
    }
   ],
   "source": [
    "labels = {}\n",
    "for i in range(len(mol.GetAtoms())):\n",
    "    labels[i] = str(i)\n",
    "nx.draw_kamada_kawai(G.to_networkx(node_attrs=['id']), node_size=100, labels=labels)"
   ]
  },
  {
   "cell_type": "code",
   "execution_count": null,
   "metadata": {},
   "outputs": [],
   "source": []
  }
 ],
 "metadata": {
  "kernelspec": {
   "display_name": "Python 3",
   "language": "python",
   "name": "python3"
  },
  "language_info": {
   "codemirror_mode": {
    "name": "ipython",
    "version": 3
   },
   "file_extension": ".py",
   "mimetype": "text/x-python",
   "name": "python",
   "nbconvert_exporter": "python",
   "pygments_lexer": "ipython3",
   "version": "3.7.3"
  }
 },
 "nbformat": 4,
 "nbformat_minor": 4
}
